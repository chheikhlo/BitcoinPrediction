{
 "cells": [
  {
   "cell_type": "code",
   "execution_count": 1,
   "metadata": {},
   "outputs": [],
   "source": [
    "import os\n",
    "import pandas as pd\n",
    "import matplotlib.pyplot as plt\n",
    "import seaborn as sns\n",
    "import datetime\n",
    "\n",
    "%matplotlib inline"
   ]
  },
  {
   "cell_type": "code",
   "execution_count": 2,
   "metadata": {},
   "outputs": [],
   "source": [
    "medals = pd.read_csv('Country_Medals.csv', encoding= 'unicode_escape')"
   ]
  },
  {
   "cell_type": "code",
   "execution_count": 3,
   "metadata": {},
   "outputs": [
    {
     "data": {
      "text/html": [
       "<div>\n",
       "<style scoped>\n",
       "    .dataframe tbody tr th:only-of-type {\n",
       "        vertical-align: middle;\n",
       "    }\n",
       "\n",
       "    .dataframe tbody tr th {\n",
       "        vertical-align: top;\n",
       "    }\n",
       "\n",
       "    .dataframe thead th {\n",
       "        text-align: right;\n",
       "    }\n",
       "</style>\n",
       "<table border=\"1\" class=\"dataframe\">\n",
       "  <thead>\n",
       "    <tr style=\"text-align: right;\">\n",
       "      <th></th>\n",
       "      <th>Year;Country_Code;Country_Name;Host_city;Host_country;Gold;Silver;Bronze</th>\n",
       "    </tr>\n",
       "  </thead>\n",
       "  <tbody>\n",
       "    <tr>\n",
       "      <th>0</th>\n",
       "      <td>1932;(USA);United States;Los Angeles;United St...</td>\n",
       "    </tr>\n",
       "    <tr>\n",
       "      <th>1</th>\n",
       "      <td>1932;(ITA);Italy;Los Angeles;United States;12;...</td>\n",
       "    </tr>\n",
       "    <tr>\n",
       "      <th>2</th>\n",
       "      <td>1932;(FRA);France;Los Angeles;United States;10...</td>\n",
       "    </tr>\n",
       "    <tr>\n",
       "      <th>3</th>\n",
       "      <td>1932;(SWE);Sweden;Los Angeles;United States;9;5;9</td>\n",
       "    </tr>\n",
       "    <tr>\n",
       "      <th>4</th>\n",
       "      <td>1932;(JPN);Japan;Los Angeles;United States;7;7;4</td>\n",
       "    </tr>\n",
       "  </tbody>\n",
       "</table>\n",
       "</div>"
      ],
      "text/plain": [
       "  Year;Country_Code;Country_Name;Host_city;Host_country;Gold;Silver;Bronze\n",
       "0  1932;(USA);United States;Los Angeles;United St...                      \n",
       "1  1932;(ITA);Italy;Los Angeles;United States;12;...                      \n",
       "2  1932;(FRA);France;Los Angeles;United States;10...                      \n",
       "3  1932;(SWE);Sweden;Los Angeles;United States;9;5;9                      \n",
       "4   1932;(JPN);Japan;Los Angeles;United States;7;7;4                      "
      ]
     },
     "execution_count": 3,
     "metadata": {},
     "output_type": "execute_result"
    }
   ],
   "source": [
    "medals.head()\n"
   ]
  },
  {
   "cell_type": "code",
   "execution_count": 4,
   "metadata": {},
   "outputs": [
    {
     "data": {
      "text/plain": [
       "(1344, 1)"
      ]
     },
     "execution_count": 4,
     "metadata": {},
     "output_type": "execute_result"
    }
   ],
   "source": [
    "medals.shape\n"
   ]
  },
  {
   "cell_type": "code",
   "execution_count": 5,
   "metadata": {},
   "outputs": [],
   "source": [
    "medals = medals.rename(columns = {'Year;Country_Code;Country_Name;Host_city;Host_country;Gold;Silver;Bronze': 'all_data'}, inplace = False)"
   ]
  },
  {
   "cell_type": "code",
   "execution_count": 6,
   "metadata": {},
   "outputs": [
    {
     "data": {
      "text/html": [
       "<div>\n",
       "<style scoped>\n",
       "    .dataframe tbody tr th:only-of-type {\n",
       "        vertical-align: middle;\n",
       "    }\n",
       "\n",
       "    .dataframe tbody tr th {\n",
       "        vertical-align: top;\n",
       "    }\n",
       "\n",
       "    .dataframe thead th {\n",
       "        text-align: right;\n",
       "    }\n",
       "</style>\n",
       "<table border=\"1\" class=\"dataframe\">\n",
       "  <thead>\n",
       "    <tr style=\"text-align: right;\">\n",
       "      <th></th>\n",
       "      <th>all_data</th>\n",
       "    </tr>\n",
       "  </thead>\n",
       "  <tbody>\n",
       "    <tr>\n",
       "      <th>0</th>\n",
       "      <td>1932;(USA);United States;Los Angeles;United St...</td>\n",
       "    </tr>\n",
       "    <tr>\n",
       "      <th>1</th>\n",
       "      <td>1932;(ITA);Italy;Los Angeles;United States;12;...</td>\n",
       "    </tr>\n",
       "    <tr>\n",
       "      <th>2</th>\n",
       "      <td>1932;(FRA);France;Los Angeles;United States;10...</td>\n",
       "    </tr>\n",
       "    <tr>\n",
       "      <th>3</th>\n",
       "      <td>1932;(SWE);Sweden;Los Angeles;United States;9;5;9</td>\n",
       "    </tr>\n",
       "    <tr>\n",
       "      <th>4</th>\n",
       "      <td>1932;(JPN);Japan;Los Angeles;United States;7;7;4</td>\n",
       "    </tr>\n",
       "  </tbody>\n",
       "</table>\n",
       "</div>"
      ],
      "text/plain": [
       "                                            all_data\n",
       "0  1932;(USA);United States;Los Angeles;United St...\n",
       "1  1932;(ITA);Italy;Los Angeles;United States;12;...\n",
       "2  1932;(FRA);France;Los Angeles;United States;10...\n",
       "3  1932;(SWE);Sweden;Los Angeles;United States;9;5;9\n",
       "4   1932;(JPN);Japan;Los Angeles;United States;7;7;4"
      ]
     },
     "execution_count": 6,
     "metadata": {},
     "output_type": "execute_result"
    }
   ],
   "source": [
    "medals.head()"
   ]
  },
  {
   "cell_type": "code",
   "execution_count": 7,
   "metadata": {},
   "outputs": [
    {
     "data": {
      "text/plain": [
       "['Year',\n",
       " 'Country_Code',\n",
       " 'Country_Name',\n",
       " 'Host_city',\n",
       " 'Host_country',\n",
       " 'Gold',\n",
       " 'Silver',\n",
       " 'Bronze']"
      ]
     },
     "execution_count": 7,
     "metadata": {},
     "output_type": "execute_result"
    }
   ],
   "source": [
    "'Year;Country_Code;Country_Name;Host_city;Host_country;Gold;Silver;Bronze'.split(';')\n"
   ]
  },
  {
   "cell_type": "code",
   "execution_count": 8,
   "metadata": {},
   "outputs": [
    {
     "data": {
      "text/plain": [
       "'Year'"
      ]
     },
     "execution_count": 8,
     "metadata": {},
     "output_type": "execute_result"
    }
   ],
   "source": [
    "'Year;Country_Code;Country_Name;Host_city;Host_country;Gold;Silver;Bronze'.split(';')[0]\n"
   ]
  },
  {
   "cell_type": "code",
   "execution_count": 9,
   "metadata": {},
   "outputs": [],
   "source": [
    "def year(x):\n",
    "    return x.split(';')[0]\n",
    "\n",
    "def Country_Code(x):\n",
    "    return x.split(';')[1]\n",
    "\n",
    "def Country_Name(x):\n",
    "    return x.split(';')[2]\n",
    "\n",
    "def Host_city(x):\n",
    "    return x.split(';')[3]\n",
    "\n",
    "def Host_country(x):\n",
    "    return x.split(';')[4]\n",
    "\n",
    "def Gold(x):\n",
    "    return x.split(';')[5]\n",
    "\n",
    "def Silver(x):\n",
    "    return x.split(';')[6]\n",
    "\n",
    "def Bronze(x):\n",
    "    return x.split(';')[7]"
   ]
  },
  {
   "cell_type": "code",
   "execution_count": 10,
   "metadata": {},
   "outputs": [],
   "source": [
    "medals['year']=medals['all_data'].apply(year)\n",
    "medals['Country_Code']=medals['all_data'].apply(Country_Code)\n",
    "medals['Country_Name']=medals['all_data'].apply(Country_Name)\n",
    "medals['Host_city']=medals['all_data'].apply(Host_city)\n",
    "medals['Host_country']=medals['all_data'].apply(Host_country)\n",
    "medals['Gold']=medals['all_data'].apply(Gold)\n",
    "medals['Silver']=medals['all_data'].apply(Silver)\n",
    "medals['Bronze']=medals['all_data'].apply(Bronze)"
   ]
  },
  {
   "cell_type": "code",
   "execution_count": 11,
   "metadata": {},
   "outputs": [
    {
     "data": {
      "text/html": [
       "<div>\n",
       "<style scoped>\n",
       "    .dataframe tbody tr th:only-of-type {\n",
       "        vertical-align: middle;\n",
       "    }\n",
       "\n",
       "    .dataframe tbody tr th {\n",
       "        vertical-align: top;\n",
       "    }\n",
       "\n",
       "    .dataframe thead th {\n",
       "        text-align: right;\n",
       "    }\n",
       "</style>\n",
       "<table border=\"1\" class=\"dataframe\">\n",
       "  <thead>\n",
       "    <tr style=\"text-align: right;\">\n",
       "      <th></th>\n",
       "      <th>all_data</th>\n",
       "      <th>year</th>\n",
       "      <th>Country_Code</th>\n",
       "      <th>Country_Name</th>\n",
       "      <th>Host_city</th>\n",
       "      <th>Host_country</th>\n",
       "      <th>Gold</th>\n",
       "      <th>Silver</th>\n",
       "      <th>Bronze</th>\n",
       "    </tr>\n",
       "  </thead>\n",
       "  <tbody>\n",
       "    <tr>\n",
       "      <th>0</th>\n",
       "      <td>1932;(USA);United States;Los Angeles;United St...</td>\n",
       "      <td>1932</td>\n",
       "      <td>(USA)</td>\n",
       "      <td>United States</td>\n",
       "      <td>Los Angeles</td>\n",
       "      <td>United States</td>\n",
       "      <td>41</td>\n",
       "      <td>32</td>\n",
       "      <td>30</td>\n",
       "    </tr>\n",
       "    <tr>\n",
       "      <th>1</th>\n",
       "      <td>1932;(ITA);Italy;Los Angeles;United States;12;...</td>\n",
       "      <td>1932</td>\n",
       "      <td>(ITA)</td>\n",
       "      <td>Italy</td>\n",
       "      <td>Los Angeles</td>\n",
       "      <td>United States</td>\n",
       "      <td>12</td>\n",
       "      <td>12</td>\n",
       "      <td>12</td>\n",
       "    </tr>\n",
       "    <tr>\n",
       "      <th>2</th>\n",
       "      <td>1932;(FRA);France;Los Angeles;United States;10...</td>\n",
       "      <td>1932</td>\n",
       "      <td>(FRA)</td>\n",
       "      <td>France</td>\n",
       "      <td>Los Angeles</td>\n",
       "      <td>United States</td>\n",
       "      <td>10</td>\n",
       "      <td>5</td>\n",
       "      <td>4</td>\n",
       "    </tr>\n",
       "    <tr>\n",
       "      <th>3</th>\n",
       "      <td>1932;(SWE);Sweden;Los Angeles;United States;9;5;9</td>\n",
       "      <td>1932</td>\n",
       "      <td>(SWE)</td>\n",
       "      <td>Sweden</td>\n",
       "      <td>Los Angeles</td>\n",
       "      <td>United States</td>\n",
       "      <td>9</td>\n",
       "      <td>5</td>\n",
       "      <td>9</td>\n",
       "    </tr>\n",
       "    <tr>\n",
       "      <th>4</th>\n",
       "      <td>1932;(JPN);Japan;Los Angeles;United States;7;7;4</td>\n",
       "      <td>1932</td>\n",
       "      <td>(JPN)</td>\n",
       "      <td>Japan</td>\n",
       "      <td>Los Angeles</td>\n",
       "      <td>United States</td>\n",
       "      <td>7</td>\n",
       "      <td>7</td>\n",
       "      <td>4</td>\n",
       "    </tr>\n",
       "  </tbody>\n",
       "</table>\n",
       "</div>"
      ],
      "text/plain": [
       "                                            all_data  year Country_Code  \\\n",
       "0  1932;(USA);United States;Los Angeles;United St...  1932        (USA)   \n",
       "1  1932;(ITA);Italy;Los Angeles;United States;12;...  1932        (ITA)   \n",
       "2  1932;(FRA);France;Los Angeles;United States;10...  1932        (FRA)   \n",
       "3  1932;(SWE);Sweden;Los Angeles;United States;9;5;9  1932        (SWE)   \n",
       "4   1932;(JPN);Japan;Los Angeles;United States;7;7;4  1932        (JPN)   \n",
       "\n",
       "    Country_Name    Host_city   Host_country Gold Silver Bronze  \n",
       "0  United States  Los Angeles  United States   41     32     30  \n",
       "1          Italy  Los Angeles  United States   12     12     12  \n",
       "2         France  Los Angeles  United States   10      5      4  \n",
       "3         Sweden  Los Angeles  United States    9      5      9  \n",
       "4          Japan  Los Angeles  United States    7      7      4  "
      ]
     },
     "execution_count": 11,
     "metadata": {},
     "output_type": "execute_result"
    }
   ],
   "source": [
    "medals.head()"
   ]
  },
  {
   "cell_type": "code",
   "execution_count": 12,
   "metadata": {},
   "outputs": [],
   "source": [
    "medals=medals.drop(['all_data'],axis=1)\n"
   ]
  },
  {
   "cell_type": "code",
   "execution_count": 13,
   "metadata": {},
   "outputs": [
    {
     "data": {
      "text/html": [
       "<div>\n",
       "<style scoped>\n",
       "    .dataframe tbody tr th:only-of-type {\n",
       "        vertical-align: middle;\n",
       "    }\n",
       "\n",
       "    .dataframe tbody tr th {\n",
       "        vertical-align: top;\n",
       "    }\n",
       "\n",
       "    .dataframe thead th {\n",
       "        text-align: right;\n",
       "    }\n",
       "</style>\n",
       "<table border=\"1\" class=\"dataframe\">\n",
       "  <thead>\n",
       "    <tr style=\"text-align: right;\">\n",
       "      <th></th>\n",
       "      <th>year</th>\n",
       "      <th>Country_Code</th>\n",
       "      <th>Country_Name</th>\n",
       "      <th>Host_city</th>\n",
       "      <th>Host_country</th>\n",
       "      <th>Gold</th>\n",
       "      <th>Silver</th>\n",
       "      <th>Bronze</th>\n",
       "    </tr>\n",
       "  </thead>\n",
       "  <tbody>\n",
       "    <tr>\n",
       "      <th>0</th>\n",
       "      <td>1932</td>\n",
       "      <td>(USA)</td>\n",
       "      <td>United States</td>\n",
       "      <td>Los Angeles</td>\n",
       "      <td>United States</td>\n",
       "      <td>41</td>\n",
       "      <td>32</td>\n",
       "      <td>30</td>\n",
       "    </tr>\n",
       "    <tr>\n",
       "      <th>1</th>\n",
       "      <td>1932</td>\n",
       "      <td>(ITA)</td>\n",
       "      <td>Italy</td>\n",
       "      <td>Los Angeles</td>\n",
       "      <td>United States</td>\n",
       "      <td>12</td>\n",
       "      <td>12</td>\n",
       "      <td>12</td>\n",
       "    </tr>\n",
       "    <tr>\n",
       "      <th>2</th>\n",
       "      <td>1932</td>\n",
       "      <td>(FRA)</td>\n",
       "      <td>France</td>\n",
       "      <td>Los Angeles</td>\n",
       "      <td>United States</td>\n",
       "      <td>10</td>\n",
       "      <td>5</td>\n",
       "      <td>4</td>\n",
       "    </tr>\n",
       "    <tr>\n",
       "      <th>3</th>\n",
       "      <td>1932</td>\n",
       "      <td>(SWE)</td>\n",
       "      <td>Sweden</td>\n",
       "      <td>Los Angeles</td>\n",
       "      <td>United States</td>\n",
       "      <td>9</td>\n",
       "      <td>5</td>\n",
       "      <td>9</td>\n",
       "    </tr>\n",
       "    <tr>\n",
       "      <th>4</th>\n",
       "      <td>1932</td>\n",
       "      <td>(JPN)</td>\n",
       "      <td>Japan</td>\n",
       "      <td>Los Angeles</td>\n",
       "      <td>United States</td>\n",
       "      <td>7</td>\n",
       "      <td>7</td>\n",
       "      <td>4</td>\n",
       "    </tr>\n",
       "  </tbody>\n",
       "</table>\n",
       "</div>"
      ],
      "text/plain": [
       "   year Country_Code   Country_Name    Host_city   Host_country Gold Silver  \\\n",
       "0  1932        (USA)  United States  Los Angeles  United States   41     32   \n",
       "1  1932        (ITA)          Italy  Los Angeles  United States   12     12   \n",
       "2  1932        (FRA)         France  Los Angeles  United States   10      5   \n",
       "3  1932        (SWE)         Sweden  Los Angeles  United States    9      5   \n",
       "4  1932        (JPN)          Japan  Los Angeles  United States    7      7   \n",
       "\n",
       "  Bronze  \n",
       "0     30  \n",
       "1     12  \n",
       "2      4  \n",
       "3      9  \n",
       "4      4  "
      ]
     },
     "execution_count": 13,
     "metadata": {},
     "output_type": "execute_result"
    }
   ],
   "source": [
    "medals.head()\n"
   ]
  },
  {
   "cell_type": "code",
   "execution_count": 14,
   "metadata": {},
   "outputs": [
    {
     "data": {
      "text/html": [
       "<div>\n",
       "<style scoped>\n",
       "    .dataframe tbody tr th:only-of-type {\n",
       "        vertical-align: middle;\n",
       "    }\n",
       "\n",
       "    .dataframe tbody tr th {\n",
       "        vertical-align: top;\n",
       "    }\n",
       "\n",
       "    .dataframe thead th {\n",
       "        text-align: right;\n",
       "    }\n",
       "</style>\n",
       "<table border=\"1\" class=\"dataframe\">\n",
       "  <thead>\n",
       "    <tr style=\"text-align: right;\">\n",
       "      <th></th>\n",
       "      <th>year</th>\n",
       "      <th>Country_Code</th>\n",
       "      <th>Country_Name</th>\n",
       "      <th>Host_city</th>\n",
       "      <th>Host_country</th>\n",
       "      <th>Gold</th>\n",
       "      <th>Silver</th>\n",
       "      <th>Bronze</th>\n",
       "    </tr>\n",
       "  </thead>\n",
       "  <tbody>\n",
       "    <tr>\n",
       "      <th>1339</th>\n",
       "      <td>1936</td>\n",
       "      <td>(MEX)</td>\n",
       "      <td>Mexico</td>\n",
       "      <td>Berlin</td>\n",
       "      <td>Germany</td>\n",
       "      <td>0</td>\n",
       "      <td>0</td>\n",
       "      <td>3</td>\n",
       "    </tr>\n",
       "    <tr>\n",
       "      <th>1340</th>\n",
       "      <td>1936</td>\n",
       "      <td>(BEL)</td>\n",
       "      <td>Belgium</td>\n",
       "      <td>Berlin</td>\n",
       "      <td>Germany</td>\n",
       "      <td>0</td>\n",
       "      <td>0</td>\n",
       "      <td>2</td>\n",
       "    </tr>\n",
       "    <tr>\n",
       "      <th>1341</th>\n",
       "      <td>1936</td>\n",
       "      <td>(AUS)</td>\n",
       "      <td>Australia</td>\n",
       "      <td>Berlin</td>\n",
       "      <td>Germany</td>\n",
       "      <td>0</td>\n",
       "      <td>0</td>\n",
       "      <td>1</td>\n",
       "    </tr>\n",
       "    <tr>\n",
       "      <th>1342</th>\n",
       "      <td>1936</td>\n",
       "      <td>(PHI)</td>\n",
       "      <td>Philippines</td>\n",
       "      <td>Berlin</td>\n",
       "      <td>Germany</td>\n",
       "      <td>0</td>\n",
       "      <td>0</td>\n",
       "      <td>1</td>\n",
       "    </tr>\n",
       "    <tr>\n",
       "      <th>1343</th>\n",
       "      <td>1936</td>\n",
       "      <td>(POR)</td>\n",
       "      <td>Portugal</td>\n",
       "      <td>Berlin</td>\n",
       "      <td>Germany</td>\n",
       "      <td>0</td>\n",
       "      <td>0</td>\n",
       "      <td>1</td>\n",
       "    </tr>\n",
       "  </tbody>\n",
       "</table>\n",
       "</div>"
      ],
      "text/plain": [
       "      year Country_Code Country_Name Host_city Host_country Gold Silver Bronze\n",
       "1339  1936        (MEX)       Mexico    Berlin      Germany    0      0      3\n",
       "1340  1936        (BEL)      Belgium    Berlin      Germany    0      0      2\n",
       "1341  1936        (AUS)    Australia    Berlin      Germany    0      0      1\n",
       "1342  1936        (PHI)  Philippines    Berlin      Germany    0      0      1\n",
       "1343  1936        (POR)     Portugal    Berlin      Germany    0      0      1"
      ]
     },
     "execution_count": 14,
     "metadata": {},
     "output_type": "execute_result"
    }
   ],
   "source": [
    "medals.tail()"
   ]
  },
  {
   "cell_type": "code",
   "execution_count": 15,
   "metadata": {},
   "outputs": [
    {
     "data": {
      "text/plain": [
       "(1344, 8)"
      ]
     },
     "execution_count": 15,
     "metadata": {},
     "output_type": "execute_result"
    }
   ],
   "source": [
    "medals.shape"
   ]
  },
  {
   "cell_type": "code",
   "execution_count": 16,
   "metadata": {},
   "outputs": [
    {
     "data": {
      "text/plain": [
       "year            object\n",
       "Country_Code    object\n",
       "Country_Name    object\n",
       "Host_city       object\n",
       "Host_country    object\n",
       "Gold            object\n",
       "Silver          object\n",
       "Bronze          object\n",
       "dtype: object"
      ]
     },
     "execution_count": 16,
     "metadata": {},
     "output_type": "execute_result"
    }
   ],
   "source": [
    "medals.dtypes"
   ]
  },
  {
   "cell_type": "code",
   "execution_count": 17,
   "metadata": {},
   "outputs": [],
   "source": [
    "medals['Gold']=medals['Gold'].astype(int)\n",
    "medals['Silver']=medals['Silver'].astype(int)\n",
    "medals['Bronze']=medals['Bronze'].astype(int)\n",
    "medals['Total']=medals['Gold']+medals['Silver']+medals['Bronze']"
   ]
  },
  {
   "cell_type": "code",
   "execution_count": 18,
   "metadata": {},
   "outputs": [
    {
     "data": {
      "text/plain": [
       "year            object\n",
       "Country_Code    object\n",
       "Country_Name    object\n",
       "Host_city       object\n",
       "Host_country    object\n",
       "Gold             int32\n",
       "Silver           int32\n",
       "Bronze           int32\n",
       "Total            int32\n",
       "dtype: object"
      ]
     },
     "execution_count": 18,
     "metadata": {},
     "output_type": "execute_result"
    }
   ],
   "source": [
    "medals.dtypes\n"
   ]
  },
  {
   "cell_type": "code",
   "execution_count": 19,
   "metadata": {},
   "outputs": [
    {
     "data": {
      "text/plain": [
       "array(['United States', 'Italy', 'France', 'Sweden', 'Japan', 'Hungary',\n",
       "       'Finland', 'Great Britain', 'Germany', 'Australia', 'Argentina',\n",
       "       'Canada', 'Netherlands', 'Poland', 'South Africa', 'Ireland',\n",
       "       'Czechoslovakia', 'Austria', 'India', 'Denmark', 'Mexico',\n",
       "       'Latvia', 'New Zealand', 'Switzerland', 'Philippines', 'Spain',\n",
       "       'Uruguay', 'Estonia', 'Egypt', 'Norway', 'Yugoslavia', 'Belgium',\n",
       "       'Chile', 'Haiti', 'Portugal', 'Romania', 'Brazil', 'Greece',\n",
       "       'Luxembourg', 'Australasia', 'Russian Empire', 'Bohemia', 'Cuba',\n",
       "       'Mixed team', 'West Germany', 'China', 'South Korea', 'Morocco',\n",
       "       'Kenya', 'Pakistan', 'Jamaica', 'Nigeria', 'Puerto Rico',\n",
       "       'Colombia', 'Ivory Coast', 'Peru', 'Syria', 'Thailand', 'Turkey',\n",
       "       'Venezuela', 'Algeria', 'Cameroon', 'Chinese Taipei',\n",
       "       'Dominican Republic', 'Iceland', 'Zambia', 'Soviet Union',\n",
       "       'East Germany', 'Bulgaria', 'Ethiopia', 'Zimbabwe', 'North Korea',\n",
       "       'Mongolia', 'Tanzania', 'Uganda', 'Guyana', 'Lebanon',\n",
       "       'Trinidad and Tobago', 'Iran', 'Bermuda', 'Tunisia', 'Ghana',\n",
       "       'Niger', 'Republic of China', 'United Team of Germany', 'Bahamas',\n",
       "       'Singapore', 'British West Indies', 'Iraq', 'ROC',\n",
       "       'Czech Republic', 'Croatia', 'Serbia', 'Slovenia', 'Uzbekistan',\n",
       "       'Georgia', 'Ecuador', 'Israel', 'Qatar', 'Kosovo', 'Ukraine',\n",
       "       'Belarus', 'Hong Kong', 'Slovakia', 'Indonesia', 'Fiji',\n",
       "       'Azerbaijan', 'Armenia', 'Kyrgyzstan', 'San Marino', 'Jordan',\n",
       "       'Malaysia', 'Bahrain', 'Lithuania', 'Namibia', 'North Macedonia',\n",
       "       'Saudi Arabia', 'Turkmenistan', 'Kazakhstan', 'Botswana',\n",
       "       'Burkina Faso', 'Grenada', 'Kuwait', 'Moldova', 'Russia',\n",
       "       'Vietnam', 'Independent Olympic Athletes', 'Tajikistan', 'Burundi',\n",
       "       'United Arab Emirates', 'Cyprus', 'Gabon', 'Guatemala',\n",
       "       'Montenegro', 'Afghanistan', 'Panama', 'Samoa', 'Sudan',\n",
       "       'Mauritius', 'Togo', 'Serbia and Montenegro', 'Paraguay',\n",
       "       'Eritrea', 'Mozambique', 'Sri Lanka', 'Costa Rica', 'Barbados',\n",
       "       'Macedonia', 'Tonga', 'Unified Team',\n",
       "       'Independent Olympic Participants', 'Suriname',\n",
       "       'Netherlands Antilles', 'Senegal', 'Virgin Islands', 'Djibouti',\n",
       "       'Ceylon'], dtype=object)"
      ]
     },
     "execution_count": 19,
     "metadata": {},
     "output_type": "execute_result"
    }
   ],
   "source": [
    "medals['Country_Name'].unique()\n"
   ]
  },
  {
   "cell_type": "code",
   "execution_count": 20,
   "metadata": {},
   "outputs": [
    {
     "data": {
      "text/plain": [
       "Country_Name\n",
       "France           29\n",
       "Great Britain    29\n",
       "Denmark          28\n",
       "Switzerland      28\n",
       "United States    28\n",
       "Hungary          27\n",
       "Australia        27\n",
       "Italy            27\n",
       "Sweden           27\n",
       "Canada           27\n",
       "Name: year, dtype: int64"
      ]
     },
     "execution_count": 20,
     "metadata": {},
     "output_type": "execute_result"
    }
   ],
   "source": [
    "# Top 10 countries with most medals\n",
    "medals.groupby('Country_Name')['year'].count().sort_values(ascending=False).head(10)\n"
   ]
  },
  {
   "cell_type": "code",
   "execution_count": 21,
   "metadata": {},
   "outputs": [
    {
     "data": {
      "text/plain": [
       "Country_Name\n",
       "Macedonia                           1\n",
       "Unified Team                        1\n",
       "ROC                                 1\n",
       "Netherlands Antilles                1\n",
       "Ceylon                              1\n",
       "Turkmenistan                        1\n",
       "Serbia and Montenegro               1\n",
       "Djibouti                            1\n",
       "Cyprus                              1\n",
       "North Macedonia                     1\n",
       "Iraq                                1\n",
       "Independent Olympic Participants    1\n",
       "Independent Olympic Athletes        1\n",
       "Senegal                             1\n",
       "Guyana                              1\n",
       "Guatemala                           1\n",
       "Sudan                               1\n",
       "Tonga                               1\n",
       "San Marino                          1\n",
       "Gabon                               1\n",
       "Samoa                               1\n",
       "Eritrea                             1\n",
       "Tanzania                            1\n",
       "Togo                                1\n",
       "Sri Lanka                           1\n",
       "Name: year, dtype: int64"
      ]
     },
     "execution_count": 21,
     "metadata": {},
     "output_type": "execute_result"
    }
   ],
   "source": [
    "#Countries with the least medals\n",
    "medals.groupby('Country_Name')['year'].count().sort_values(ascending=False).tail(25)\n"
   ]
  },
  {
   "cell_type": "code",
   "execution_count": 22,
   "metadata": {},
   "outputs": [
    {
     "data": {
      "text/html": [
       "<div>\n",
       "<style scoped>\n",
       "    .dataframe tbody tr th:only-of-type {\n",
       "        vertical-align: middle;\n",
       "    }\n",
       "\n",
       "    .dataframe tbody tr th {\n",
       "        vertical-align: top;\n",
       "    }\n",
       "\n",
       "    .dataframe thead th {\n",
       "        text-align: right;\n",
       "    }\n",
       "</style>\n",
       "<table border=\"1\" class=\"dataframe\">\n",
       "  <thead>\n",
       "    <tr style=\"text-align: right;\">\n",
       "      <th></th>\n",
       "      <th>year</th>\n",
       "      <th>Host_country</th>\n",
       "      <th>Gold</th>\n",
       "      <th>Silver</th>\n",
       "      <th>Bronze</th>\n",
       "      <th>Total</th>\n",
       "    </tr>\n",
       "  </thead>\n",
       "  <tbody>\n",
       "    <tr>\n",
       "      <th>181</th>\n",
       "      <td>1896</td>\n",
       "      <td>Greece</td>\n",
       "      <td>11</td>\n",
       "      <td>7</td>\n",
       "      <td>2</td>\n",
       "      <td>20</td>\n",
       "    </tr>\n",
       "    <tr>\n",
       "      <th>161</th>\n",
       "      <td>1900</td>\n",
       "      <td>France</td>\n",
       "      <td>19</td>\n",
       "      <td>14</td>\n",
       "      <td>15</td>\n",
       "      <td>48</td>\n",
       "    </tr>\n",
       "    <tr>\n",
       "      <th>147</th>\n",
       "      <td>1904</td>\n",
       "      <td>United States</td>\n",
       "      <td>76</td>\n",
       "      <td>78</td>\n",
       "      <td>77</td>\n",
       "      <td>231</td>\n",
       "    </tr>\n",
       "    <tr>\n",
       "      <th>129</th>\n",
       "      <td>1908</td>\n",
       "      <td>Great Britain</td>\n",
       "      <td>23</td>\n",
       "      <td>12</td>\n",
       "      <td>12</td>\n",
       "      <td>47</td>\n",
       "    </tr>\n",
       "    <tr>\n",
       "      <th>109</th>\n",
       "      <td>1912</td>\n",
       "      <td>Sweden</td>\n",
       "      <td>26</td>\n",
       "      <td>19</td>\n",
       "      <td>19</td>\n",
       "      <td>64</td>\n",
       "    </tr>\n",
       "    <tr>\n",
       "      <th>87</th>\n",
       "      <td>1920</td>\n",
       "      <td>Belgium</td>\n",
       "      <td>41</td>\n",
       "      <td>27</td>\n",
       "      <td>27</td>\n",
       "      <td>95</td>\n",
       "    </tr>\n",
       "    <tr>\n",
       "      <th>60</th>\n",
       "      <td>1924</td>\n",
       "      <td>France</td>\n",
       "      <td>45</td>\n",
       "      <td>27</td>\n",
       "      <td>27</td>\n",
       "      <td>99</td>\n",
       "    </tr>\n",
       "    <tr>\n",
       "      <th>27</th>\n",
       "      <td>1928</td>\n",
       "      <td>Netherlands</td>\n",
       "      <td>22</td>\n",
       "      <td>18</td>\n",
       "      <td>16</td>\n",
       "      <td>56</td>\n",
       "    </tr>\n",
       "    <tr>\n",
       "      <th>0</th>\n",
       "      <td>1932</td>\n",
       "      <td>United States</td>\n",
       "      <td>41</td>\n",
       "      <td>32</td>\n",
       "      <td>30</td>\n",
       "      <td>103</td>\n",
       "    </tr>\n",
       "    <tr>\n",
       "      <th>1313</th>\n",
       "      <td>1936</td>\n",
       "      <td>Germany</td>\n",
       "      <td>24</td>\n",
       "      <td>20</td>\n",
       "      <td>12</td>\n",
       "      <td>56</td>\n",
       "    </tr>\n",
       "    <tr>\n",
       "      <th>1275</th>\n",
       "      <td>1948</td>\n",
       "      <td>Great Britain</td>\n",
       "      <td>38</td>\n",
       "      <td>27</td>\n",
       "      <td>19</td>\n",
       "      <td>84</td>\n",
       "    </tr>\n",
       "    <tr>\n",
       "      <th>1232</th>\n",
       "      <td>1952</td>\n",
       "      <td>Finland</td>\n",
       "      <td>40</td>\n",
       "      <td>19</td>\n",
       "      <td>17</td>\n",
       "      <td>76</td>\n",
       "    </tr>\n",
       "    <tr>\n",
       "      <th>1195</th>\n",
       "      <td>1956</td>\n",
       "      <td></td>\n",
       "      <td>32</td>\n",
       "      <td>25</td>\n",
       "      <td>17</td>\n",
       "      <td>74</td>\n",
       "    </tr>\n",
       "    <tr>\n",
       "      <th>450</th>\n",
       "      <td>1960</td>\n",
       "      <td>Italy</td>\n",
       "      <td>34</td>\n",
       "      <td>21</td>\n",
       "      <td>16</td>\n",
       "      <td>71</td>\n",
       "    </tr>\n",
       "    <tr>\n",
       "      <th>408</th>\n",
       "      <td>1964</td>\n",
       "      <td>Japan</td>\n",
       "      <td>36</td>\n",
       "      <td>26</td>\n",
       "      <td>28</td>\n",
       "      <td>90</td>\n",
       "    </tr>\n",
       "    <tr>\n",
       "      <th>364</th>\n",
       "      <td>1968</td>\n",
       "      <td>Mexico</td>\n",
       "      <td>45</td>\n",
       "      <td>28</td>\n",
       "      <td>34</td>\n",
       "      <td>107</td>\n",
       "    </tr>\n",
       "    <tr>\n",
       "      <th>317</th>\n",
       "      <td>1972</td>\n",
       "      <td>West Germany</td>\n",
       "      <td>33</td>\n",
       "      <td>31</td>\n",
       "      <td>30</td>\n",
       "      <td>94</td>\n",
       "    </tr>\n",
       "    <tr>\n",
       "      <th>277</th>\n",
       "      <td>1976</td>\n",
       "      <td>Canada</td>\n",
       "      <td>34</td>\n",
       "      <td>35</td>\n",
       "      <td>25</td>\n",
       "      <td>94</td>\n",
       "    </tr>\n",
       "    <tr>\n",
       "      <th>192</th>\n",
       "      <td>1984</td>\n",
       "      <td>United States</td>\n",
       "      <td>83</td>\n",
       "      <td>61</td>\n",
       "      <td>30</td>\n",
       "      <td>174</td>\n",
       "    </tr>\n",
       "    <tr>\n",
       "      <th>1144</th>\n",
       "      <td>1988</td>\n",
       "      <td>South Korea</td>\n",
       "      <td>36</td>\n",
       "      <td>31</td>\n",
       "      <td>27</td>\n",
       "      <td>94</td>\n",
       "    </tr>\n",
       "    <tr>\n",
       "      <th>1079</th>\n",
       "      <td>1992</td>\n",
       "      <td>Spain</td>\n",
       "      <td>37</td>\n",
       "      <td>34</td>\n",
       "      <td>37</td>\n",
       "      <td>108</td>\n",
       "    </tr>\n",
       "    <tr>\n",
       "      <th>999</th>\n",
       "      <td>1996</td>\n",
       "      <td>United States</td>\n",
       "      <td>44</td>\n",
       "      <td>32</td>\n",
       "      <td>25</td>\n",
       "      <td>101</td>\n",
       "    </tr>\n",
       "    <tr>\n",
       "      <th>919</th>\n",
       "      <td>2000</td>\n",
       "      <td>Australia</td>\n",
       "      <td>37</td>\n",
       "      <td>24</td>\n",
       "      <td>32</td>\n",
       "      <td>93</td>\n",
       "    </tr>\n",
       "    <tr>\n",
       "      <th>845</th>\n",
       "      <td>2004</td>\n",
       "      <td>Greece</td>\n",
       "      <td>36</td>\n",
       "      <td>39</td>\n",
       "      <td>26</td>\n",
       "      <td>101</td>\n",
       "    </tr>\n",
       "    <tr>\n",
       "      <th>759</th>\n",
       "      <td>2008</td>\n",
       "      <td>China</td>\n",
       "      <td>36</td>\n",
       "      <td>39</td>\n",
       "      <td>37</td>\n",
       "      <td>112</td>\n",
       "    </tr>\n",
       "    <tr>\n",
       "      <th>672</th>\n",
       "      <td>2012</td>\n",
       "      <td>Great Britain</td>\n",
       "      <td>46</td>\n",
       "      <td>28</td>\n",
       "      <td>30</td>\n",
       "      <td>104</td>\n",
       "    </tr>\n",
       "    <tr>\n",
       "      <th>586</th>\n",
       "      <td>2016</td>\n",
       "      <td>Brazil</td>\n",
       "      <td>46</td>\n",
       "      <td>37</td>\n",
       "      <td>38</td>\n",
       "      <td>121</td>\n",
       "    </tr>\n",
       "    <tr>\n",
       "      <th>493</th>\n",
       "      <td>2020</td>\n",
       "      <td>Japan</td>\n",
       "      <td>39</td>\n",
       "      <td>41</td>\n",
       "      <td>33</td>\n",
       "      <td>113</td>\n",
       "    </tr>\n",
       "  </tbody>\n",
       "</table>\n",
       "</div>"
      ],
      "text/plain": [
       "      year   Host_country  Gold  Silver  Bronze  Total\n",
       "181   1896         Greece    11       7       2     20\n",
       "161   1900         France    19      14      15     48\n",
       "147   1904  United States    76      78      77    231\n",
       "129   1908  Great Britain    23      12      12     47\n",
       "109   1912         Sweden    26      19      19     64\n",
       "87    1920        Belgium    41      27      27     95\n",
       "60    1924         France    45      27      27     99\n",
       "27    1928    Netherlands    22      18      16     56\n",
       "0     1932  United States    41      32      30    103\n",
       "1313  1936        Germany    24      20      12     56\n",
       "1275  1948  Great Britain    38      27      19     84\n",
       "1232  1952        Finland    40      19      17     76\n",
       "1195  1956                   32      25      17     74\n",
       "450   1960          Italy    34      21      16     71\n",
       "408   1964          Japan    36      26      28     90\n",
       "364   1968         Mexico    45      28      34    107\n",
       "317   1972   West Germany    33      31      30     94\n",
       "277   1976         Canada    34      35      25     94\n",
       "192   1984  United States    83      61      30    174\n",
       "1144  1988    South Korea    36      31      27     94\n",
       "1079  1992          Spain    37      34      37    108\n",
       "999   1996  United States    44      32      25    101\n",
       "919   2000      Australia    37      24      32     93\n",
       "845   2004         Greece    36      39      26    101\n",
       "759   2008          China    36      39      37    112\n",
       "672   2012  Great Britain    46      28      30    104\n",
       "586   2016         Brazil    46      37      38    121\n",
       "493   2020          Japan    39      41      33    113"
      ]
     },
     "execution_count": 22,
     "metadata": {},
     "output_type": "execute_result"
    }
   ],
   "source": [
    "#United States medals at the Summer Olympics\n",
    "medals[medals['Country_Name']=='United States'].drop(['Country_Code','Country_Name','Host_city'],axis=1).sort_values(['year'], ascending=True)\n"
   ]
  },
  {
   "cell_type": "code",
   "execution_count": 23,
   "metadata": {},
   "outputs": [
    {
     "data": {
      "text/html": [
       "<div>\n",
       "<style scoped>\n",
       "    .dataframe tbody tr th:only-of-type {\n",
       "        vertical-align: middle;\n",
       "    }\n",
       "\n",
       "    .dataframe tbody tr th {\n",
       "        vertical-align: top;\n",
       "    }\n",
       "\n",
       "    .dataframe thead th {\n",
       "        text-align: right;\n",
       "    }\n",
       "</style>\n",
       "<table border=\"1\" class=\"dataframe\">\n",
       "  <thead>\n",
       "    <tr style=\"text-align: right;\">\n",
       "      <th></th>\n",
       "      <th>year</th>\n",
       "      <th>Host_country</th>\n",
       "      <th>Gold</th>\n",
       "      <th>Silver</th>\n",
       "      <th>Bronze</th>\n",
       "      <th>Total</th>\n",
       "    </tr>\n",
       "  </thead>\n",
       "  <tbody>\n",
       "    <tr>\n",
       "      <th>147</th>\n",
       "      <td>1904</td>\n",
       "      <td>United States</td>\n",
       "      <td>76</td>\n",
       "      <td>78</td>\n",
       "      <td>77</td>\n",
       "      <td>231</td>\n",
       "    </tr>\n",
       "  </tbody>\n",
       "</table>\n",
       "</div>"
      ],
      "text/plain": [
       "     year   Host_country  Gold  Silver  Bronze  Total\n",
       "147  1904  United States    76      78      77    231"
      ]
     },
     "execution_count": 23,
     "metadata": {},
     "output_type": "execute_result"
    }
   ],
   "source": [
    "#What is the best appearance for United States in the Summer Olympics?\n",
    "medals[medals['Country_Name']=='United States'].drop(['Country_Code','Country_Name','Host_city'],axis=1).sort_values(['Total'], ascending=False).head(1)"
   ]
  },
  {
   "cell_type": "code",
   "execution_count": 24,
   "metadata": {},
   "outputs": [
    {
     "data": {
      "text/html": [
       "<div>\n",
       "<style scoped>\n",
       "    .dataframe tbody tr th:only-of-type {\n",
       "        vertical-align: middle;\n",
       "    }\n",
       "\n",
       "    .dataframe tbody tr th {\n",
       "        vertical-align: top;\n",
       "    }\n",
       "\n",
       "    .dataframe thead th {\n",
       "        text-align: right;\n",
       "    }\n",
       "</style>\n",
       "<table border=\"1\" class=\"dataframe\">\n",
       "  <thead>\n",
       "    <tr style=\"text-align: right;\">\n",
       "      <th></th>\n",
       "      <th>year</th>\n",
       "      <th>Host_country</th>\n",
       "      <th>Gold</th>\n",
       "      <th>Silver</th>\n",
       "      <th>Bronze</th>\n",
       "      <th>Total</th>\n",
       "    </tr>\n",
       "  </thead>\n",
       "  <tbody>\n",
       "    <tr>\n",
       "      <th>181</th>\n",
       "      <td>1896</td>\n",
       "      <td>Greece</td>\n",
       "      <td>11</td>\n",
       "      <td>7</td>\n",
       "      <td>2</td>\n",
       "      <td>20</td>\n",
       "    </tr>\n",
       "  </tbody>\n",
       "</table>\n",
       "</div>"
      ],
      "text/plain": [
       "     year Host_country  Gold  Silver  Bronze  Total\n",
       "181  1896       Greece    11       7       2     20"
      ]
     },
     "execution_count": 24,
     "metadata": {},
     "output_type": "execute_result"
    }
   ],
   "source": [
    "#worst appearance for United States in the Summer Olympics?\n",
    "medals[medals['Country_Name']=='United States'].drop(['Country_Code','Country_Name','Host_city'],axis=1).sort_values(['Total'], ascending=True).head(1)"
   ]
  },
  {
   "cell_type": "code",
   "execution_count": 25,
   "metadata": {},
   "outputs": [
    {
     "data": {
      "text/html": [
       "<div>\n",
       "<style scoped>\n",
       "    .dataframe tbody tr th:only-of-type {\n",
       "        vertical-align: middle;\n",
       "    }\n",
       "\n",
       "    .dataframe tbody tr th {\n",
       "        vertical-align: top;\n",
       "    }\n",
       "\n",
       "    .dataframe thead th {\n",
       "        text-align: right;\n",
       "    }\n",
       "</style>\n",
       "<table border=\"1\" class=\"dataframe\">\n",
       "  <thead>\n",
       "    <tr style=\"text-align: right;\">\n",
       "      <th></th>\n",
       "      <th>year</th>\n",
       "      <th>Host_country</th>\n",
       "      <th>Gold</th>\n",
       "      <th>Silver</th>\n",
       "      <th>Bronze</th>\n",
       "      <th>Total</th>\n",
       "    </tr>\n",
       "  </thead>\n",
       "  <tbody>\n",
       "    <tr>\n",
       "      <th>184</th>\n",
       "      <td>1896</td>\n",
       "      <td>Greece</td>\n",
       "      <td>5</td>\n",
       "      <td>4</td>\n",
       "      <td>2</td>\n",
       "      <td>11</td>\n",
       "    </tr>\n",
       "    <tr>\n",
       "      <th>160</th>\n",
       "      <td>1900</td>\n",
       "      <td>France</td>\n",
       "      <td>27</td>\n",
       "      <td>38</td>\n",
       "      <td>37</td>\n",
       "      <td>102</td>\n",
       "    </tr>\n",
       "    <tr>\n",
       "      <th>159</th>\n",
       "      <td>1904</td>\n",
       "      <td>United States</td>\n",
       "      <td>0</td>\n",
       "      <td>1</td>\n",
       "      <td>0</td>\n",
       "      <td>1</td>\n",
       "    </tr>\n",
       "    <tr>\n",
       "      <th>131</th>\n",
       "      <td>1908</td>\n",
       "      <td>Great Britain</td>\n",
       "      <td>5</td>\n",
       "      <td>5</td>\n",
       "      <td>9</td>\n",
       "      <td>19</td>\n",
       "    </tr>\n",
       "    <tr>\n",
       "      <th>113</th>\n",
       "      <td>1912</td>\n",
       "      <td>Sweden</td>\n",
       "      <td>7</td>\n",
       "      <td>5</td>\n",
       "      <td>3</td>\n",
       "      <td>15</td>\n",
       "    </tr>\n",
       "    <tr>\n",
       "      <th>94</th>\n",
       "      <td>1920</td>\n",
       "      <td>Belgium</td>\n",
       "      <td>9</td>\n",
       "      <td>19</td>\n",
       "      <td>13</td>\n",
       "      <td>41</td>\n",
       "    </tr>\n",
       "    <tr>\n",
       "      <th>62</th>\n",
       "      <td>1924</td>\n",
       "      <td>France</td>\n",
       "      <td>13</td>\n",
       "      <td>15</td>\n",
       "      <td>10</td>\n",
       "      <td>38</td>\n",
       "    </tr>\n",
       "    <tr>\n",
       "      <th>33</th>\n",
       "      <td>1928</td>\n",
       "      <td>Netherlands</td>\n",
       "      <td>6</td>\n",
       "      <td>10</td>\n",
       "      <td>5</td>\n",
       "      <td>21</td>\n",
       "    </tr>\n",
       "    <tr>\n",
       "      <th>2</th>\n",
       "      <td>1932</td>\n",
       "      <td>United States</td>\n",
       "      <td>10</td>\n",
       "      <td>5</td>\n",
       "      <td>4</td>\n",
       "      <td>19</td>\n",
       "    </tr>\n",
       "    <tr>\n",
       "      <th>1317</th>\n",
       "      <td>1936</td>\n",
       "      <td>Germany</td>\n",
       "      <td>7</td>\n",
       "      <td>6</td>\n",
       "      <td>6</td>\n",
       "      <td>19</td>\n",
       "    </tr>\n",
       "    <tr>\n",
       "      <th>1277</th>\n",
       "      <td>1948</td>\n",
       "      <td>Great Britain</td>\n",
       "      <td>10</td>\n",
       "      <td>6</td>\n",
       "      <td>13</td>\n",
       "      <td>29</td>\n",
       "    </tr>\n",
       "    <tr>\n",
       "      <th>1238</th>\n",
       "      <td>1952</td>\n",
       "      <td>Finland</td>\n",
       "      <td>6</td>\n",
       "      <td>6</td>\n",
       "      <td>6</td>\n",
       "      <td>18</td>\n",
       "    </tr>\n",
       "    <tr>\n",
       "      <th>1204</th>\n",
       "      <td>1956</td>\n",
       "      <td></td>\n",
       "      <td>4</td>\n",
       "      <td>4</td>\n",
       "      <td>6</td>\n",
       "      <td>14</td>\n",
       "    </tr>\n",
       "    <tr>\n",
       "      <th>473</th>\n",
       "      <td>1960</td>\n",
       "      <td>Italy</td>\n",
       "      <td>0</td>\n",
       "      <td>2</td>\n",
       "      <td>3</td>\n",
       "      <td>5</td>\n",
       "    </tr>\n",
       "    <tr>\n",
       "      <th>428</th>\n",
       "      <td>1964</td>\n",
       "      <td>Japan</td>\n",
       "      <td>1</td>\n",
       "      <td>8</td>\n",
       "      <td>6</td>\n",
       "      <td>15</td>\n",
       "    </tr>\n",
       "    <tr>\n",
       "      <th>369</th>\n",
       "      <td>1968</td>\n",
       "      <td>Mexico</td>\n",
       "      <td>7</td>\n",
       "      <td>3</td>\n",
       "      <td>5</td>\n",
       "      <td>15</td>\n",
       "    </tr>\n",
       "    <tr>\n",
       "      <th>332</th>\n",
       "      <td>1972</td>\n",
       "      <td>West Germany</td>\n",
       "      <td>2</td>\n",
       "      <td>4</td>\n",
       "      <td>7</td>\n",
       "      <td>13</td>\n",
       "    </tr>\n",
       "    <tr>\n",
       "      <th>289</th>\n",
       "      <td>1976</td>\n",
       "      <td>Canada</td>\n",
       "      <td>2</td>\n",
       "      <td>3</td>\n",
       "      <td>4</td>\n",
       "      <td>9</td>\n",
       "    </tr>\n",
       "    <tr>\n",
       "      <th>246</th>\n",
       "      <td>1980</td>\n",
       "      <td>Soviet Union</td>\n",
       "      <td>6</td>\n",
       "      <td>5</td>\n",
       "      <td>3</td>\n",
       "      <td>14</td>\n",
       "    </tr>\n",
       "    <tr>\n",
       "      <th>203</th>\n",
       "      <td>1984</td>\n",
       "      <td>United States</td>\n",
       "      <td>5</td>\n",
       "      <td>7</td>\n",
       "      <td>16</td>\n",
       "      <td>28</td>\n",
       "    </tr>\n",
       "    <tr>\n",
       "      <th>1150</th>\n",
       "      <td>1988</td>\n",
       "      <td>South Korea</td>\n",
       "      <td>6</td>\n",
       "      <td>4</td>\n",
       "      <td>6</td>\n",
       "      <td>16</td>\n",
       "    </tr>\n",
       "    <tr>\n",
       "      <th>1086</th>\n",
       "      <td>1992</td>\n",
       "      <td>Spain</td>\n",
       "      <td>8</td>\n",
       "      <td>5</td>\n",
       "      <td>16</td>\n",
       "      <td>29</td>\n",
       "    </tr>\n",
       "    <tr>\n",
       "      <th>1003</th>\n",
       "      <td>1996</td>\n",
       "      <td>United States</td>\n",
       "      <td>15</td>\n",
       "      <td>7</td>\n",
       "      <td>15</td>\n",
       "      <td>37</td>\n",
       "    </tr>\n",
       "    <tr>\n",
       "      <th>924</th>\n",
       "      <td>2000</td>\n",
       "      <td>Australia</td>\n",
       "      <td>13</td>\n",
       "      <td>14</td>\n",
       "      <td>11</td>\n",
       "      <td>38</td>\n",
       "    </tr>\n",
       "    <tr>\n",
       "      <th>851</th>\n",
       "      <td>2004</td>\n",
       "      <td>Greece</td>\n",
       "      <td>11</td>\n",
       "      <td>9</td>\n",
       "      <td>13</td>\n",
       "      <td>33</td>\n",
       "    </tr>\n",
       "    <tr>\n",
       "      <th>767</th>\n",
       "      <td>2008</td>\n",
       "      <td>China</td>\n",
       "      <td>7</td>\n",
       "      <td>16</td>\n",
       "      <td>20</td>\n",
       "      <td>43</td>\n",
       "    </tr>\n",
       "    <tr>\n",
       "      <th>678</th>\n",
       "      <td>2012</td>\n",
       "      <td>Great Britain</td>\n",
       "      <td>11</td>\n",
       "      <td>11</td>\n",
       "      <td>13</td>\n",
       "      <td>35</td>\n",
       "    </tr>\n",
       "    <tr>\n",
       "      <th>592</th>\n",
       "      <td>2016</td>\n",
       "      <td>Brazil</td>\n",
       "      <td>10</td>\n",
       "      <td>18</td>\n",
       "      <td>14</td>\n",
       "      <td>42</td>\n",
       "    </tr>\n",
       "    <tr>\n",
       "      <th>500</th>\n",
       "      <td>2020</td>\n",
       "      <td>Japan</td>\n",
       "      <td>10</td>\n",
       "      <td>12</td>\n",
       "      <td>11</td>\n",
       "      <td>33</td>\n",
       "    </tr>\n",
       "  </tbody>\n",
       "</table>\n",
       "</div>"
      ],
      "text/plain": [
       "      year   Host_country  Gold  Silver  Bronze  Total\n",
       "184   1896         Greece     5       4       2     11\n",
       "160   1900         France    27      38      37    102\n",
       "159   1904  United States     0       1       0      1\n",
       "131   1908  Great Britain     5       5       9     19\n",
       "113   1912         Sweden     7       5       3     15\n",
       "94    1920        Belgium     9      19      13     41\n",
       "62    1924         France    13      15      10     38\n",
       "33    1928    Netherlands     6      10       5     21\n",
       "2     1932  United States    10       5       4     19\n",
       "1317  1936        Germany     7       6       6     19\n",
       "1277  1948  Great Britain    10       6      13     29\n",
       "1238  1952        Finland     6       6       6     18\n",
       "1204  1956                    4       4       6     14\n",
       "473   1960          Italy     0       2       3      5\n",
       "428   1964          Japan     1       8       6     15\n",
       "369   1968         Mexico     7       3       5     15\n",
       "332   1972   West Germany     2       4       7     13\n",
       "289   1976         Canada     2       3       4      9\n",
       "246   1980   Soviet Union     6       5       3     14\n",
       "203   1984  United States     5       7      16     28\n",
       "1150  1988    South Korea     6       4       6     16\n",
       "1086  1992          Spain     8       5      16     29\n",
       "1003  1996  United States    15       7      15     37\n",
       "924   2000      Australia    13      14      11     38\n",
       "851   2004         Greece    11       9      13     33\n",
       "767   2008          China     7      16      20     43\n",
       "678   2012  Great Britain    11      11      13     35\n",
       "592   2016         Brazil    10      18      14     42\n",
       "500   2020          Japan    10      12      11     33"
      ]
     },
     "execution_count": 25,
     "metadata": {},
     "output_type": "execute_result"
    }
   ],
   "source": [
    "#France medals at the Summer Olympics\n",
    "medals[medals['Country_Name']=='France'].drop(['Country_Code','Country_Name','Host_city'],axis=1).sort_values(['year'], ascending=True)"
   ]
  },
  {
   "cell_type": "code",
   "execution_count": 26,
   "metadata": {},
   "outputs": [
    {
     "data": {
      "text/html": [
       "<div>\n",
       "<style scoped>\n",
       "    .dataframe tbody tr th:only-of-type {\n",
       "        vertical-align: middle;\n",
       "    }\n",
       "\n",
       "    .dataframe tbody tr th {\n",
       "        vertical-align: top;\n",
       "    }\n",
       "\n",
       "    .dataframe thead th {\n",
       "        text-align: right;\n",
       "    }\n",
       "</style>\n",
       "<table border=\"1\" class=\"dataframe\">\n",
       "  <thead>\n",
       "    <tr style=\"text-align: right;\">\n",
       "      <th></th>\n",
       "      <th>year</th>\n",
       "      <th>Host_country</th>\n",
       "      <th>Gold</th>\n",
       "      <th>Silver</th>\n",
       "      <th>Bronze</th>\n",
       "      <th>Total</th>\n",
       "    </tr>\n",
       "  </thead>\n",
       "  <tbody>\n",
       "    <tr>\n",
       "      <th>160</th>\n",
       "      <td>1900</td>\n",
       "      <td>France</td>\n",
       "      <td>27</td>\n",
       "      <td>38</td>\n",
       "      <td>37</td>\n",
       "      <td>102</td>\n",
       "    </tr>\n",
       "  </tbody>\n",
       "</table>\n",
       "</div>"
      ],
      "text/plain": [
       "     year Host_country  Gold  Silver  Bronze  Total\n",
       "160  1900       France    27      38      37    102"
      ]
     },
     "execution_count": 26,
     "metadata": {},
     "output_type": "execute_result"
    }
   ],
   "source": [
    "#What is the best appearance for France in the Summer Olympics?\n",
    "medals[medals['Country_Name']=='France'].drop(['Country_Code','Country_Name','Host_city'],axis=1).sort_values(['Total'], ascending=False).head(1)"
   ]
  },
  {
   "cell_type": "code",
   "execution_count": 28,
   "metadata": {},
   "outputs": [],
   "source": [
    "import pandas as pd\n",
    "from datetime import datetime\n",
    "import matplotlib.pyplot as plt\n",
    "\n",
    "# Création du DataFrame\n",
    "data = {\n",
    "    'year': [1896, 1900, 1904, 1908, 1912, 1920, 1924, 1928, 1932, 1936, 1948, 1952, 1956, 1960, 1964, 1968, 1972, 1976, 1980, 1984, 1988, 1992, 1996, 2000, 2004, 2008, 2012, 2016, 2020],\n",
    "    'total': [11, 102, 1, 19, 15, 41, 38, 21, 19, 19, 29, 18, 14, 5, 15, 15, 13, 9, 14, 28, 16, 29, 37, 38, 33, 43, 35, 42, 33]\n",
    "}\n",
    "\n",
    "df = pd.DataFrame(data)\n",
    "df.set_index('year', inplace=True)\n"
   ]
  },
  {
   "cell_type": "code",
   "execution_count": 29,
   "metadata": {},
   "outputs": [
    {
     "name": "stdout",
     "output_type": "stream",
     "text": [
      "Test ARIMA MSE: 12.484\n",
      "ARIMA forecast for 2024: 40.51\n"
     ]
    }
   ],
   "source": [
    "from statsmodels.tsa.arima.model import ARIMA\n",
    "from sklearn.metrics import mean_squared_error\n",
    "\n",
    "# Préparation des données\n",
    "X = df.values\n",
    "size = int(len(X) * 0.85)\n",
    "train, test = X[0:size], X[size:len(X)]\n",
    "history = [x for x in train]\n",
    "predictions_arima = list()\n",
    "\n",
    "# Boucle de prédiction\n",
    "for t in range(len(test)):\n",
    "    model = ARIMA(history, order=(1,1,0))\n",
    "    model_fit = model.fit()\n",
    "    output = model_fit.forecast()\n",
    "    yhat = output[0]\n",
    "    predictions_arima.append(yhat)\n",
    "    obs = test[t]\n",
    "    history.append(obs)\n",
    "\n",
    "# Calcul de l'erreur quadratique moyenne (MSE)\n",
    "error_arima = mean_squared_error(test, predictions_arima)\n",
    "print('Test ARIMA MSE: %.3f' % error_arima)\n",
    "\n",
    "# Prévision pour 2024\n",
    "model = ARIMA(history, order=(1,1,0))\n",
    "model_fit = model.fit()\n",
    "forecast_arima = model_fit.forecast()[0]\n",
    "print('ARIMA forecast for 2024: %.2f' % forecast_arima)\n"
   ]
  },
  {
   "cell_type": "code",
   "execution_count": 37,
   "metadata": {},
   "outputs": [
    {
     "name": "stdout",
     "output_type": "stream",
     "text": [
      "   Year  Actual  ARIMA_Predicted\n",
      "0  2008      43        37.116178\n",
      "1  2012      35        34.730963\n",
      "2  2016      42        41.631646\n",
      "3  2020      33        36.181685\n",
      "4  2024       0        40.507984\n"
     ]
    }
   ],
   "source": [
    "import pandas as pd\n",
    "from statsmodels.tsa.arima.model import ARIMA\n",
    "\n",
    "# Création du DataFrame\n",
    "data = {\n",
    "    'year': [1896, 1900, 1904, 1908, 1912, 1920, 1924, 1928, 1932, 1936, 1948, 1952, 1956, 1960, 1964, 1968, 1972, 1976, 1980, 1984, 1988, 1992, 1996, 2000, 2004, 2008, 2012, 2016, 2020, 2024],\n",
    "    'total': [11, 102, 1, 19, 15, 41, 38, 21, 19, 19, 29, 18, 14, 5, 15, 15, 13, 9, 14, 28, 16, 29, 37, 38, 33, 43, 35, 42, 33, 0]\n",
    "}\n",
    "\n",
    "df = pd.DataFrame(data)\n",
    "df.set_index('year', inplace=True)\n",
    "\n",
    "# Modèle ARIMA\n",
    "X = df.values\n",
    "size = int(len(X) * 0.85)\n",
    "train, test = X[0:size], X[size:len(X)]\n",
    "history = [x for x in train]\n",
    "predictions_arima = list()\n",
    "\n",
    "# Boucle de prédiction ARIMA\n",
    "for t in range(len(test)):\n",
    "    model = ARIMA(history, order=(1,1,0))\n",
    "    model_fit = model.fit()\n",
    "    output = model_fit.forecast()\n",
    "    yhat = output[0]\n",
    "    predictions_arima.append(yhat)\n",
    "    obs = test[t]\n",
    "    history.append(obs)\n",
    "\n",
    "# Prévision ARIMA pour 2024\n",
    "model = ARIMA(history, order=(1,1,0))\n",
    "model_fit = model.fit()\n",
    "forecast_arima = model_fit.forecast()[0]\n",
    "\n",
    "# Affichage des prévisions complètes pour ARIMA\n",
    "predictions_df = pd.DataFrame({\n",
    "    'Year': df.index[-len(test):],\n",
    "    'Actual': df['total'].values[-len(test):],\n",
    "    'ARIMA_Predicted': predictions_arima\n",
    "})\n",
    "print(predictions_df)\n",
    "\n"
   ]
  },
  {
   "cell_type": "code",
   "execution_count": 38,
   "metadata": {},
   "outputs": [
    {
     "data": {
      "image/png": "[encoded data removed]",
      "text/plain": [
       "<Figure size 1000x600 with 1 Axes>"
      ]
     },
     "metadata": {},
     "output_type": "display_data"
    }
   ],
   "source": [
    "plt.figure(figsize=(10, 6))\n",
    "plt.plot(df.index, df['total'], label='Actual', marker='o')\n",
    "plt.plot(df.index[-len(test):], predictions_arima, color='red', label='ARIMA Predicted', marker='x')\n",
    "plt.title('Prediction of Total Medals for France')\n",
    "plt.xlabel('Year')\n",
    "plt.ylabel('Number of Medals')\n",
    "plt.legend()\n",
    "plt.grid(True)\n",
    "plt.show()\n"
   ]
  },
  {
   "cell_type": "code",
   "execution_count": 39,
   "metadata": {},
   "outputs": [],
   "source": [
    "import pandas as pd\n",
    "from statsmodels.tsa.arima.model import ARIMA\n",
    "\n",
    "# Création du DataFrame\n",
    "data = {\n",
    "    'year': [1896, 1900, 1904, 1908, 1912, 1920, 1924, 1928, 1932, 1936, 1948, 1952, 1956, 1960, 1964, 1968, 1972, 1976, 1980, 1984, 1988, 1992, 1996, 2000, 2004, 2008, 2012, 2016, 2020, 2024],\n",
    "    'gold': [5, 27, 0, 5, 7, 9, 13, 6, 10, 7, 10, 6, 4, 0, 1, 7, 2, 2, 6, 5, 6, 8, 15, 13, 11, 7, 11, 10, 10, 0],\n",
    "    'silver': [4, 38, 1, 5, 5, 19, 15, 10, 5, 6, 6, 6, 4, 2, 8, 3, 4, 3, 5, 7, 4, 5, 7, 14, 9, 16, 11, 18, 12, 0],\n",
    "    'bronze': [2, 37, 0, 9, 3, 13, 10, 5, 4, 6, 13, 6, 6, 3, 6, 5, 7, 4, 3, 16, 6, 16, 15, 11, 13, 20, 13, 14, 11, 0]\n",
    "}\n",
    "\n",
    "df = pd.DataFrame(data)\n",
    "df.set_index('year', inplace=True)\n"
   ]
  },
  {
   "cell_type": "code",
   "execution_count": 40,
   "metadata": {},
   "outputs": [
    {
     "name": "stdout",
     "output_type": "stream",
     "text": [
      "Prévision ARIMA pour 2024:\n",
      "Médailles d'or: 7.16\n",
      "Médailles d'argent: 8.84\n",
      "Médailles de bronze: 9.28\n"
     ]
    }
   ],
   "source": [
    "def predict_medals(df, medal_type):\n",
    "    X = df[medal_type].values\n",
    "    size = int(len(X) * 0.85)\n",
    "    train, test = X[0:size], X[size:len(X)]\n",
    "    history = [x for x in train]\n",
    "    predictions = list()\n",
    "\n",
    "    for t in range(len(test)):\n",
    "        model = ARIMA(history, order=(1,1,0))\n",
    "        model_fit = model.fit()\n",
    "        output = model_fit.forecast()\n",
    "        yhat = output[0]\n",
    "        predictions.append(yhat)\n",
    "        obs = test[t]\n",
    "        history.append(obs)\n",
    "\n",
    "    model = ARIMA(history, order=(1,1,0))\n",
    "    model_fit = model.fit()\n",
    "    forecast = model_fit.forecast()[0]\n",
    "    \n",
    "    return forecast, predictions\n",
    "\n",
    "# Prévisions pour les médailles d'or, d'argent et de bronze\n",
    "forecast_gold, predictions_gold = predict_medals(df, 'gold')\n",
    "forecast_silver, predictions_silver = predict_medals(df, 'silver')\n",
    "forecast_bronze, predictions_bronze = predict_medals(df, 'bronze')\n",
    "\n",
    "# Affichage des prévisions pour 2024\n",
    "print(f\"Prévision ARIMA pour 2024:\")\n",
    "print(f\"Médailles d'or: {forecast_gold:.2f}\")\n",
    "print(f\"Médailles d'argent: {forecast_silver:.2f}\")\n",
    "print(f\"Médailles de bronze: {forecast_bronze:.2f}\")\n"
   ]
  },
  {
   "cell_type": "code",
   "execution_count": 43,
   "metadata": {},
   "outputs": [
    {
     "data": {
      "image/png": "[encoded data removed]",
      "text/plain": [
       "<Figure size 1500x1000 with 3 Axes>"
      ]
     },
     "metadata": {},
     "output_type": "display_data"
    },
    {
     "name": "stdout",
     "output_type": "stream",
     "text": [
      "Prévision ARIMA pour 2024:\n",
      "Médailles d'or: 7.16\n",
      "Médailles d'argent: 8.84\n",
      "Médailles de bronze: 9.28\n"
     ]
    }
   ],
   "source": [
    "import pandas as pd\n",
    "import matplotlib.pyplot as plt\n",
    "from statsmodels.tsa.arima.model import ARIMA\n",
    "\n",
    "# Création du DataFrame\n",
    "data = {\n",
    "    'year': [1896, 1900, 1904, 1908, 1912, 1920, 1924, 1928, 1932, 1936, 1948, 1952, 1956, 1960, 1964, 1968, 1972, 1976, 1980, 1984, 1988, 1992, 1996, 2000, 2004, 2008, 2012, 2016, 2020, 2024],\n",
    "    'gold': [5, 27, 0, 5, 7, 9, 13, 6, 10, 7, 10, 6, 4, 0, 1, 7, 2, 2, 6, 5, 6, 8, 15, 13, 11, 7, 11, 10, 10, 0],\n",
    "    'silver': [4, 38, 1, 5, 5, 19, 15, 10, 5, 6, 6, 6, 4, 2, 8, 3, 4, 3, 5, 7, 4, 5, 7, 14, 9, 16, 11, 18, 12, 0],\n",
    "    'bronze': [2, 37, 0, 9, 3, 13, 10, 5, 4, 6, 13, 6, 6, 3, 6, 5, 7, 4, 3, 16, 6, 16, 15, 11, 13, 20, 13, 14, 11,0]\n",
    "}\n",
    "\n",
    "df = pd.DataFrame(data)\n",
    "df.set_index('year', inplace=True)\n",
    "\n",
    "def predict_medals(df, medal_type):\n",
    "    X = df[medal_type].values\n",
    "    size = int(len(X) * 0.85)\n",
    "    train, test = X[0:size], X[size:len(X)]\n",
    "    history = [x for x in train]\n",
    "    predictions = list()\n",
    "\n",
    "    for t in range(len(test)):\n",
    "        model = ARIMA(history, order=(1,1,0))\n",
    "        model_fit = model.fit()\n",
    "        output = model_fit.forecast()\n",
    "        yhat = output[0]\n",
    "        predictions.append(yhat)\n",
    "        obs = test[t]\n",
    "        history.append(obs)\n",
    "\n",
    "    model = ARIMA(history, order=(1,1,0))\n",
    "    model_fit = model.fit()\n",
    "    forecast = model_fit.forecast()[0]\n",
    "    \n",
    "    return forecast, predictions, train, test\n",
    "\n",
    "# Prévisions pour les médailles d'or, d'argent et de bronze\n",
    "forecast_gold, predictions_gold, train_gold, test_gold = predict_medals(df, 'gold')\n",
    "forecast_silver, predictions_silver, train_silver, test_silver = predict_medals(df, 'silver')\n",
    "forecast_bronze, predictions_bronze, train_bronze, test_bronze = predict_medals(df, 'bronze')\n",
    "\n",
    "# Visualisation\n",
    "years_test = df.index[-len(test_gold):]\n",
    "\n",
    "plt.figure(figsize=(15, 10))\n",
    "\n",
    "# Gold\n",
    "plt.subplot(3, 1, 1)\n",
    "plt.plot(df.index, df['gold'], label='Actual Gold Medals', marker='o')\n",
    "plt.plot(years_test, predictions_gold, color='red', label='Predicted Gold Medals', marker='x')\n",
    "plt.title('Gold Medals')\n",
    "plt.legend()\n",
    "\n",
    "# Silver\n",
    "plt.subplot(3, 1, 2)\n",
    "plt.plot(df.index, df['silver'], label='Actual Silver Medals', marker='o')\n",
    "plt.plot(years_test, predictions_silver, color='red', label='Predicted Silver Medals', marker='x')\n",
    "plt.title('Silver Medals')\n",
    "plt.legend()\n",
    "\n",
    "# Bronze\n",
    "plt.subplot(3, 1, 3)\n",
    "plt.plot(df.index, df['bronze'], label='Actual Bronze Medals', marker='o')\n",
    "plt.plot(years_test, predictions_bronze, color='red', label='Predicted Bronze Medals', marker='x')\n",
    "plt.title('Bronze Medals')\n",
    "plt.legend()\n",
    "\n",
    "plt.tight_layout()\n",
    "plt.show()\n",
    "\n",
    "# Affichage des prévisions pour 2024\n",
    "print(f\"Prévision ARIMA pour 2024:\")\n",
    "print(f\"Médailles d'or: {forecast_gold:.2f}\")\n",
    "print(f\"Médailles d'argent: {forecast_silver:.2f}\")\n",
    "print(f\"Médailles de bronze: {forecast_bronze:.2f}\")\n"
   ]
  },
  {
   "cell_type": "code",
   "execution_count": 44,
   "metadata": {},
   "outputs": [
    {
     "name": "stdout",
     "output_type": "stream",
     "text": [
      "Model saved to arima_model2.h5\n"
     ]
    }
   ],
   "source": [
    "# Save the model\n",
    "import joblib\n",
    "\n",
    "model_path = 'arima_model2.h5'\n",
    "joblib.dump(model_fit, model_path)\n",
    "\n",
    "print(f'Model saved to {model_path}')"
   ]
  },
  {
   "cell_type": "code",
   "execution_count": 46,
   "metadata": {},
   "outputs": [
    {
     "name": "stdout",
     "output_type": "stream",
     "text": [
      "Top 25 Predicted Medals after Cleaning:\n",
      "               Country_Name       Gold     Silver     Bronze\n",
      "142            Unified Team  45.000000  38.000000  29.000000\n",
      "144           United States  37.857143  29.714286  26.357143\n",
      "108                     ROC  20.000000  28.000000  23.000000\n",
      "111                  Russia  24.833333  20.833333  25.333333\n",
      "25                    China  26.200000  19.900000  17.300000\n",
      "151            West Germany  11.200000  13.400000  16.200000\n",
      "145  United Team of Germany   9.333333  18.000000  12.000000\n",
      "47                  Germany  11.882353  12.176471  14.529412\n",
      "49            Great Britain   9.793103  11.000000  10.862069\n",
      "44                   France   7.689655   8.689655   9.551724\n",
      "66                    Italy   8.111111   6.962963   7.888889\n",
      "69                    Japan   7.681818   6.818182   8.090909\n",
      "5                 Australia   6.074074   6.407407   7.777778\n",
      "141                 Ukraine   5.000000   5.142857   9.714286\n",
      "56                  Hungary   6.703704   5.703704   6.518519\n",
      "128                  Sweden   5.481481   6.518519   6.629630\n",
      "123             South Korea   5.647059   5.352941   5.882353\n",
      "110                 Romania   4.500000   4.850000   6.050000\n",
      "30                     Cuba   5.250000   4.312500   5.125000\n",
      "104                  Poland   3.272727   4.045455   6.227273\n",
      "18                 Bulgaria   3.176471   5.176471   4.823529\n",
      "91              Netherlands   3.653846   4.038462   4.692308\n",
      "11                  Belarus   1.857143   4.285714   6.000000\n",
      "22                   Canada   2.629630   4.037037   5.407407\n",
      "43                  Finland   3.884615   3.269231   4.576923\n"
     ]
    }
   ],
   "source": [
    "import pandas as pd\n",
    "\n",
    "# Load the dataset\n",
    "file_path = 'Country_Medals.csv'\n",
    "data = pd.read_csv(file_path, delimiter=';')\n",
    "\n",
    "# Function to clean and prepare the data\n",
    "def clean_data(data):\n",
    "    # Remove unwanted countries\n",
    "    data = data[~data['Country_Name'].isin(['Soviet Union', 'East Germany'])]\n",
    "    \n",
    "    # Group data by Country_Name and calculate the mean of Gold, Silver, and Bronze medals\n",
    "    country_medal_averages = data.groupby('Country_Name')[['Gold', 'Silver', 'Bronze']].mean().reset_index()\n",
    "    \n",
    "    # Calculate total average medals per country\n",
    "    country_medal_averages['Total'] = country_medal_averages['Gold'] + country_medal_averages['Silver'] + country_medal_averages['Bronze']\n",
    "    \n",
    "    return country_medal_averages\n",
    "\n",
    "# Function to predict medals based on historical averages\n",
    "def predict_medals(country_medal_averages, top_n=25):\n",
    "    # Sort by total medals and select the top N countries\n",
    "    top_countries = country_medal_averages.sort_values(by='Total', ascending=False).head(top_n)\n",
    "    \n",
    "    # Extract the relevant columns\n",
    "    top_countries = top_countries[['Country_Name', 'Gold', 'Silver', 'Bronze']]\n",
    "    \n",
    "    return top_countries\n",
    "\n",
    "# Clean the data\n",
    "cleaned_data = clean_data(data)\n",
    "\n",
    "# Predict medals for the top 25 countries\n",
    "top_25_predictions = predict_medals(cleaned_data, top_n=25)\n",
    "\n",
    "# Display the predictions for verification\n",
    "print(\"Top 25 Predicted Medals after Cleaning:\")\n",
    "print(top_25_predictions)\n"
   ]
  },
  {
   "cell_type": "code",
   "execution_count": 47,
   "metadata": {},
   "outputs": [
    {
     "name": "stderr",
     "output_type": "stream",
     "text": [
      "C:\\Users\\YC\\AppData\\Local\\Packages\\PythonSoftwareFoundation.Python.3.11_qbz5n2kfra8p0\\LocalCache\\local-packages\\Python311\\site-packages\\sklearn\\cluster\\_kmeans.py:1416: FutureWarning: The default value of `n_init` will change from 10 to 'auto' in 1.4. Set the value of `n_init` explicitly to suppress the warning\n",
      "  super()._check_params_vs_input(X, default_n_init=10)\n",
      "C:\\Users\\YC\\AppData\\Local\\Packages\\PythonSoftwareFoundation.Python.3.11_qbz5n2kfra8p0\\LocalCache\\local-packages\\Python311\\site-packages\\sklearn\\cluster\\_kmeans.py:1416: FutureWarning: The default value of `n_init` will change from 10 to 'auto' in 1.4. Set the value of `n_init` explicitly to suppress the warning\n",
      "  super()._check_params_vs_input(X, default_n_init=10)\n",
      "C:\\Users\\YC\\AppData\\Local\\Packages\\PythonSoftwareFoundation.Python.3.11_qbz5n2kfra8p0\\LocalCache\\local-packages\\Python311\\site-packages\\sklearn\\cluster\\_kmeans.py:1416: FutureWarning: The default value of `n_init` will change from 10 to 'auto' in 1.4. Set the value of `n_init` explicitly to suppress the warning\n",
      "  super()._check_params_vs_input(X, default_n_init=10)\n",
      "C:\\Users\\YC\\AppData\\Local\\Packages\\PythonSoftwareFoundation.Python.3.11_qbz5n2kfra8p0\\LocalCache\\local-packages\\Python311\\site-packages\\sklearn\\cluster\\_kmeans.py:1416: FutureWarning: The default value of `n_init` will change from 10 to 'auto' in 1.4. Set the value of `n_init` explicitly to suppress the warning\n",
      "  super()._check_params_vs_input(X, default_n_init=10)\n",
      "C:\\Users\\YC\\AppData\\Local\\Packages\\PythonSoftwareFoundation.Python.3.11_qbz5n2kfra8p0\\LocalCache\\local-packages\\Python311\\site-packages\\sklearn\\cluster\\_kmeans.py:1416: FutureWarning: The default value of `n_init` will change from 10 to 'auto' in 1.4. Set the value of `n_init` explicitly to suppress the warning\n",
      "  super()._check_params_vs_input(X, default_n_init=10)\n",
      "C:\\Users\\YC\\AppData\\Local\\Packages\\PythonSoftwareFoundation.Python.3.11_qbz5n2kfra8p0\\LocalCache\\local-packages\\Python311\\site-packages\\sklearn\\cluster\\_kmeans.py:1416: FutureWarning: The default value of `n_init` will change from 10 to 'auto' in 1.4. Set the value of `n_init` explicitly to suppress the warning\n",
      "  super()._check_params_vs_input(X, default_n_init=10)\n",
      "C:\\Users\\YC\\AppData\\Local\\Packages\\PythonSoftwareFoundation.Python.3.11_qbz5n2kfra8p0\\LocalCache\\local-packages\\Python311\\site-packages\\sklearn\\cluster\\_kmeans.py:1416: FutureWarning: The default value of `n_init` will change from 10 to 'auto' in 1.4. Set the value of `n_init` explicitly to suppress the warning\n",
      "  super()._check_params_vs_input(X, default_n_init=10)\n",
      "C:\\Users\\YC\\AppData\\Local\\Packages\\PythonSoftwareFoundation.Python.3.11_qbz5n2kfra8p0\\LocalCache\\local-packages\\Python311\\site-packages\\sklearn\\cluster\\_kmeans.py:1416: FutureWarning: The default value of `n_init` will change from 10 to 'auto' in 1.4. Set the value of `n_init` explicitly to suppress the warning\n",
      "  super()._check_params_vs_input(X, default_n_init=10)\n",
      "C:\\Users\\YC\\AppData\\Local\\Packages\\PythonSoftwareFoundation.Python.3.11_qbz5n2kfra8p0\\LocalCache\\local-packages\\Python311\\site-packages\\sklearn\\cluster\\_kmeans.py:1416: FutureWarning: The default value of `n_init` will change from 10 to 'auto' in 1.4. Set the value of `n_init` explicitly to suppress the warning\n",
      "  super()._check_params_vs_input(X, default_n_init=10)\n",
      "C:\\Users\\YC\\AppData\\Local\\Packages\\PythonSoftwareFoundation.Python.3.11_qbz5n2kfra8p0\\LocalCache\\local-packages\\Python311\\site-packages\\sklearn\\cluster\\_kmeans.py:1416: FutureWarning: The default value of `n_init` will change from 10 to 'auto' in 1.4. Set the value of `n_init` explicitly to suppress the warning\n",
      "  super()._check_params_vs_input(X, default_n_init=10)\n"
     ]
    },
    {
     "data": {
      "image/png": "[encoded data removed]",
      "text/plain": [
       "<Figure size 1000x600 with 1 Axes>"
      ]
     },
     "metadata": {},
     "output_type": "display_data"
    },
    {
     "name": "stdout",
     "output_type": "stream",
     "text": [
      "       Country_Name       Gold     Silver     Bronze  Cluster\n",
      "0       Afghanistan   0.000000   0.000000   1.000000        0\n",
      "1           Algeria   0.714286   0.571429   1.142857        0\n",
      "2         Argentina   1.050000   1.300000   1.500000        0\n",
      "3           Armenia   0.333333   1.333333   1.333333        0\n",
      "4       Australasia   1.500000   2.000000   2.500000        0\n",
      "..              ...        ...        ...        ...      ...\n",
      "150  Virgin Islands   0.000000   1.000000   0.000000        0\n",
      "151    West Germany  11.200000  13.400000  16.200000        1\n",
      "152      Yugoslavia   1.750000   1.937500   1.937500        0\n",
      "153          Zambia   0.000000   0.500000   0.500000        0\n",
      "154        Zimbabwe   1.000000   1.333333   0.333333        0\n",
      "\n",
      "[155 rows x 5 columns]\n"
     ]
    },
    {
     "name": "stderr",
     "output_type": "stream",
     "text": [
      "C:\\Users\\YC\\AppData\\Local\\Packages\\PythonSoftwareFoundation.Python.3.11_qbz5n2kfra8p0\\LocalCache\\local-packages\\Python311\\site-packages\\sklearn\\cluster\\_kmeans.py:1416: FutureWarning: The default value of `n_init` will change from 10 to 'auto' in 1.4. Set the value of `n_init` explicitly to suppress the warning\n",
      "  super()._check_params_vs_input(X, default_n_init=10)\n"
     ]
    }
   ],
   "source": [
    "import pandas as pd\n",
    "from sklearn.preprocessing import StandardScaler\n",
    "from sklearn.cluster import KMeans\n",
    "import matplotlib.pyplot as plt\n",
    "\n",
    "# Load the dataset\n",
    "file_path = 'Country_Medals.csv'\n",
    "data = pd.read_csv(file_path, delimiter=';')\n",
    "\n",
    "# Function to clean and prepare the data for clustering\n",
    "def clean_data_for_clustering(data):\n",
    "    # Remove unwanted countries\n",
    "    data = data[~data['Country_Name'].isin(['Soviet Union', 'East Germany'])]\n",
    "    \n",
    "    # Group data by Country_Name and calculate the mean of Gold, Silver, and Bronze medals\n",
    "    country_medal_averages = data.groupby('Country_Name')[['Gold', 'Silver', 'Bronze']].mean().reset_index()\n",
    "    \n",
    "    return country_medal_averages\n",
    "\n",
    "# Clean the data\n",
    "cleaned_data = clean_data_for_clustering(data)\n",
    "\n",
    "# Normalize the data\n",
    "scaler = StandardScaler()\n",
    "normalized_data = scaler.fit_transform(cleaned_data[['Gold', 'Silver', 'Bronze']])\n",
    "\n",
    "# Determine the optimal number of clusters using the elbow method\n",
    "sse = []\n",
    "for k in range(1, 11):\n",
    "    kmeans = KMeans(n_clusters=k, random_state=42)\n",
    "    kmeans.fit(normalized_data)\n",
    "    sse.append(kmeans.inertia_)\n",
    "\n",
    "# Plot the elbow curve\n",
    "plt.figure(figsize=(10, 6))\n",
    "plt.plot(range(1, 11), sse, marker='o')\n",
    "plt.xlabel('Number of Clusters')\n",
    "plt.ylabel('Sum of Squared Distances')\n",
    "plt.title('Elbow Method for Determining Optimal Number of Clusters')\n",
    "plt.show()\n",
    "\n",
    "# Apply KMeans with the optimal number of clusters (let's assume k=4 based on the elbow method)\n",
    "kmeans = KMeans(n_clusters=4, random_state=42)\n",
    "cleaned_data['Cluster'] = kmeans.fit_predict(normalized_data)\n",
    "\n",
    "# Display the clustering results\n",
    "clustered_data = cleaned_data[['Country_Name', 'Gold', 'Silver', 'Bronze', 'Cluster']]\n",
    "print(clustered_data)\n",
    "\n",
    "# Optionally, save the clustered data to a CSV file\n",
    "clustered_data.to_csv('Clustered_Countries.csv', index=False)\n"
   ]
  },
  {
   "cell_type": "code",
   "execution_count": 51,
   "metadata": {},
   "outputs": [],
   "source": [
    "import pandas as pd\n",
    "from sklearn.preprocessing import StandardScaler\n",
    "from sklearn.cluster import KMeans\n",
    "from sklearn.model_selection import train_test_split, GridSearchCV\n",
    "from sklearn.tree import DecisionTreeClassifier\n",
    "from sklearn.ensemble import RandomForestClassifier\n",
    "from sklearn.svm import SVC\n",
    "from sklearn.metrics import confusion_matrix, accuracy_score, classification_report\n",
    "import matplotlib.pyplot as plt\n",
    "import seaborn as sns\n",
    "import tensorflow as tf\n",
    "from tensorflow.keras.models import Sequential\n",
    "from tensorflow.keras.layers import Dense, Conv2D, Flatten\n",
    "import numpy as np\n",
    "\n",
    "# Load the dataset\n",
    "file_path = 'Country_Medals.csv'\n",
    "data = pd.read_csv(file_path, delimiter=';')\n"
   ]
  },
  {
   "cell_type": "code",
   "execution_count": 52,
   "metadata": {},
   "outputs": [],
   "source": [
    "\n",
    "# Function to clean and prepare the data for clustering\n",
    "def clean_data_for_clustering(data):\n",
    "    # Remove unwanted countries\n",
    "    data = data[~data['Country_Name'].isin(['Soviet Union', 'East Germany'])]\n",
    "    \n",
    "    # Group data by Country_Name and calculate the mean of Gold, Silver, and Bronze medals\n",
    "    country_medal_averages = data.groupby('Country_Name')[['Gold', 'Silver', 'Bronze']].mean().reset_index()\n",
    "    \n",
    "    return country_medal_averages\n",
    "\n",
    "# Clean the data\n",
    "cleaned_data = clean_data_for_clustering(data)\n"
   ]
  },
  {
   "cell_type": "code",
   "execution_count": 53,
   "metadata": {},
   "outputs": [
    {
     "data": {
      "image/png": "[encoded data removed]",
      "text/plain": [
       "<Figure size 1000x600 with 1 Axes>"
      ]
     },
     "metadata": {},
     "output_type": "display_data"
    }
   ],
   "source": [
    "\n",
    "# Normalize the data\n",
    "scaler = StandardScaler()\n",
    "normalized_data = scaler.fit_transform(cleaned_data[['Gold', 'Silver', 'Bronze']])\n",
    "\n",
    "# Determine the optimal number of clusters using the elbow method\n",
    "sse = []\n",
    "for k in range(1, 11):\n",
    "    kmeans = KMeans(n_clusters=k, random_state=42, n_init='auto')\n",
    "    kmeans.fit(normalized_data)\n",
    "    sse.append(kmeans.inertia_)\n",
    "\n",
    "# Plot the elbow curve\n",
    "plt.figure(figsize=(10, 6))\n",
    "plt.plot(range(1, 11), sse, marker='o')\n",
    "plt.xlabel('Number of Clusters')\n",
    "plt.ylabel('Sum of Squared Distances')\n",
    "plt.title('Elbow Method for Determining Optimal Number of Clusters')\n",
    "plt.show()\n",
    "\n",
    "# Apply KMeans with the optimal number of clusters (let's assume k=4 based on the elbow method)\n",
    "kmeans = KMeans(n_clusters=4, random_state=42, n_init='auto')\n",
    "cleaned_data['Cluster'] = kmeans.fit_predict(normalized_data)\n",
    "\n",
    "# Prepare data for classification models\n",
    "X = cleaned_data[['Gold', 'Silver', 'Bronze']]\n",
    "y = cleaned_data['Cluster']\n",
    "X_train, X_test, y_train, y_test = train_test_split(X, y, test_size=0.3, random_state=42)\n",
    "\n",
    "# Function to evaluate and tune models\n",
    "def evaluate_model(model, param_grid, X_train, y_train, X_test, y_test):\n",
    "    grid_search = GridSearchCV(estimator=model, param_grid=param_grid, cv=5, scoring='accuracy')\n",
    "    grid_search.fit(X_train, y_train)\n",
    "    best_model = grid_search.best_estimator_\n",
    "    y_pred = best_model.predict(X_test)\n",
    "    \n",
    "    print(\"Best Parameters:\", grid_search.best_params_)\n",
    "    print(\"Accuracy:\", accuracy_score(y_test, y_pred))\n",
    "    print(\"Confusion Matrix:\\n\", confusion_matrix(y_test, y_pred))\n",
    "    print(\"Classification Report:\\n\", classification_report(y_test, y_pred))\n",
    "    return best_model\n",
    "\n"
   ]
  },
  {
   "cell_type": "code",
   "execution_count": 54,
   "metadata": {},
   "outputs": [
    {
     "name": "stderr",
     "output_type": "stream",
     "text": [
      "C:\\Users\\YC\\AppData\\Local\\Packages\\PythonSoftwareFoundation.Python.3.11_qbz5n2kfra8p0\\LocalCache\\local-packages\\Python311\\site-packages\\sklearn\\model_selection\\_split.py:737: UserWarning: The least populated class in y has only 4 members, which is less than n_splits=5.\n",
      "  warnings.warn(\n"
     ]
    },
    {
     "name": "stdout",
     "output_type": "stream",
     "text": [
      "Best Parameters: {'max_depth': 3, 'min_samples_split': 2}\n",
      "Accuracy: 1.0\n",
      "Confusion Matrix:\n",
      " [[40  0  0]\n",
      " [ 0  1  0]\n",
      " [ 0  0  6]]\n",
      "Classification Report:\n",
      "               precision    recall  f1-score   support\n",
      "\n",
      "           0       1.00      1.00      1.00        40\n",
      "           2       1.00      1.00      1.00         1\n",
      "           3       1.00      1.00      1.00         6\n",
      "\n",
      "    accuracy                           1.00        47\n",
      "   macro avg       1.00      1.00      1.00        47\n",
      "weighted avg       1.00      1.00      1.00        47\n",
      "\n"
     ]
    },
    {
     "name": "stderr",
     "output_type": "stream",
     "text": [
      "C:\\Users\\YC\\AppData\\Local\\Packages\\PythonSoftwareFoundation.Python.3.11_qbz5n2kfra8p0\\LocalCache\\local-packages\\Python311\\site-packages\\sklearn\\model_selection\\_split.py:737: UserWarning: The least populated class in y has only 4 members, which is less than n_splits=5.\n",
      "  warnings.warn(\n"
     ]
    },
    {
     "name": "stdout",
     "output_type": "stream",
     "text": [
      "Best Parameters: {'max_depth': 3, 'min_samples_split': 2, 'n_estimators': 50}\n",
      "Accuracy: 1.0\n",
      "Confusion Matrix:\n",
      " [[40  0  0]\n",
      " [ 0  1  0]\n",
      " [ 0  0  6]]\n",
      "Classification Report:\n",
      "               precision    recall  f1-score   support\n",
      "\n",
      "           0       1.00      1.00      1.00        40\n",
      "           2       1.00      1.00      1.00         1\n",
      "           3       1.00      1.00      1.00         6\n",
      "\n",
      "    accuracy                           1.00        47\n",
      "   macro avg       1.00      1.00      1.00        47\n",
      "weighted avg       1.00      1.00      1.00        47\n",
      "\n"
     ]
    },
    {
     "name": "stderr",
     "output_type": "stream",
     "text": [
      "C:\\Users\\YC\\AppData\\Local\\Packages\\PythonSoftwareFoundation.Python.3.11_qbz5n2kfra8p0\\LocalCache\\local-packages\\Python311\\site-packages\\sklearn\\model_selection\\_split.py:737: UserWarning: The least populated class in y has only 4 members, which is less than n_splits=5.\n",
      "  warnings.warn(\n"
     ]
    },
    {
     "name": "stdout",
     "output_type": "stream",
     "text": [
      "Best Parameters: {'C': 0.1, 'gamma': 1, 'kernel': 'linear'}\n",
      "Accuracy: 1.0\n",
      "Confusion Matrix:\n",
      " [[40  0  0]\n",
      " [ 0  1  0]\n",
      " [ 0  0  6]]\n",
      "Classification Report:\n",
      "               precision    recall  f1-score   support\n",
      "\n",
      "           0       1.00      1.00      1.00        40\n",
      "           2       1.00      1.00      1.00         1\n",
      "           3       1.00      1.00      1.00         6\n",
      "\n",
      "    accuracy                           1.00        47\n",
      "   macro avg       1.00      1.00      1.00        47\n",
      "weighted avg       1.00      1.00      1.00        47\n",
      "\n"
     ]
    }
   ],
   "source": [
    "# Decision Tree\n",
    "dt_param_grid = {'max_depth': [3, 5, 7, 10], 'min_samples_split': [2, 5, 10]}\n",
    "dt_model = evaluate_model(DecisionTreeClassifier(random_state=42), dt_param_grid, X_train, y_train, X_test, y_test)\n",
    "\n",
    "# Random Forest\n",
    "rf_param_grid = {'n_estimators': [50, 100, 200], 'max_depth': [3, 5, 7, 10], 'min_samples_split': [2, 5, 10]}\n",
    "rf_model = evaluate_model(RandomForestClassifier(random_state=42), rf_param_grid, X_train, y_train, X_test, y_test)\n",
    "\n",
    "# Support Vector Machine\n",
    "svm_param_grid = {'C': [0.1, 1, 10, 100], 'gamma': [1, 0.1, 0.01, 0.001], 'kernel': ['linear', 'rbf']}\n",
    "svm_model = evaluate_model(SVC(random_state=42), svm_param_grid, X_train, y_train, X_test, y_test)\n"
   ]
  },
  {
   "cell_type": "code",
   "execution_count": 55,
   "metadata": {},
   "outputs": [
    {
     "name": "stdout",
     "output_type": "stream",
     "text": [
      "Epoch 1/10\n",
      "4/4 [==============================] - 2s 145ms/step - loss: 1.7020 - accuracy: 0.1111 - val_loss: 1.5111 - val_accuracy: 0.1702\n",
      "Epoch 2/10\n",
      "4/4 [==============================] - 0s 23ms/step - loss: 1.5118 - accuracy: 0.2593 - val_loss: 1.4056 - val_accuracy: 0.6809\n",
      "Epoch 3/10\n",
      "4/4 [==============================] - 0s 23ms/step - loss: 1.4197 - accuracy: 0.6019 - val_loss: 1.3594 - val_accuracy: 0.6809\n",
      "Epoch 4/10\n",
      "4/4 [==============================] - 0s 23ms/step - loss: 1.3701 - accuracy: 0.6852 - val_loss: 1.3341 - val_accuracy: 0.6596\n",
      "Epoch 5/10\n",
      "4/4 [==============================] - 0s 24ms/step - loss: 1.3417 - accuracy: 0.7593 - val_loss: 1.3113 - val_accuracy: 0.6596\n",
      "Epoch 6/10\n",
      "4/4 [==============================] - 0s 23ms/step - loss: 1.3135 - accuracy: 0.8148 - val_loss: 1.2800 - val_accuracy: 0.8298\n",
      "Epoch 7/10\n",
      "4/4 [==============================] - 0s 23ms/step - loss: 1.2743 - accuracy: 0.8241 - val_loss: 1.2396 - val_accuracy: 0.8723\n",
      "Epoch 8/10\n",
      "4/4 [==============================] - 0s 22ms/step - loss: 1.2302 - accuracy: 0.8519 - val_loss: 1.1972 - val_accuracy: 0.8723\n",
      "Epoch 9/10\n",
      "4/4 [==============================] - 0s 23ms/step - loss: 1.1850 - accuracy: 0.8519 - val_loss: 1.1541 - val_accuracy: 0.8723\n",
      "Epoch 10/10\n",
      "4/4 [==============================] - 0s 23ms/step - loss: 1.1386 - accuracy: 0.8519 - val_loss: 1.1097 - val_accuracy: 0.8723\n",
      "2/2 [==============================] - 0s 6ms/step - loss: 1.1097 - accuracy: 0.8723\n",
      "CNN Accuracy: 0.8723404407501221\n"
     ]
    }
   ],
   "source": [
    "\n",
    "# Convolutional Neural Network\n",
    "# For CNN, we need to reshape the data and build a custom model\n",
    "X_train_cnn = X_train.values.reshape(-1, 3, 1)\n",
    "X_test_cnn = X_test.values.reshape(-1, 3, 1)\n",
    "y_train_cnn = tf.keras.utils.to_categorical(y_train, num_classes=4)\n",
    "y_test_cnn = tf.keras.utils.to_categorical(y_test, num_classes=4)\n",
    "\n",
    "cnn_model = Sequential([\n",
    "    Conv2D(32, kernel_size=(2, 1), activation='relu', input_shape=(3, 1, 1)),\n",
    "    Flatten(),\n",
    "    Dense(64, activation='relu'),\n",
    "    Dense(4, activation='softmax')\n",
    "])\n",
    "\n",
    "cnn_model.compile(optimizer='adam', loss='categorical_crossentropy', metrics=['accuracy'])\n",
    "cnn_model.fit(X_train_cnn, y_train_cnn, epochs=10, validation_data=(X_test_cnn, y_test_cnn))\n",
    "\n",
    "# Evaluate CNN\n",
    "cnn_loss, cnn_accuracy = cnn_model.evaluate(X_test_cnn, y_test_cnn)\n",
    "print(\"CNN Accuracy:\", cnn_accuracy)\n"
   ]
  },
  {
   "cell_type": "code",
   "execution_count": 119,
   "metadata": {},
   "outputs": [],
   "source": [
    "path_summer  = \"Athletes_summer_games.csv\""
   ]
  },
  {
   "cell_type": "code",
   "execution_count": 120,
   "metadata": {},
   "outputs": [
    {
     "data": {
      "text/plain": [
       "Unnamed: 0      int64\n",
       "Name           object\n",
       "Sex            object\n",
       "Age           float64\n",
       "Team           object\n",
       "NOC            object\n",
       "Games          object\n",
       "Year            int64\n",
       "Season         object\n",
       "City           object\n",
       "Sport          object\n",
       "Event          object\n",
       "Medal          object\n",
       "dtype: object"
      ]
     },
     "execution_count": 120,
     "metadata": {},
     "output_type": "execute_result"
    }
   ],
   "source": [
    "summer_df = pd.read_csv(path_summer)\n",
    "summer_df.dtypes"
   ]
  },
  {
   "cell_type": "code",
   "execution_count": 121,
   "metadata": {},
   "outputs": [
    {
     "data": {
      "text/plain": [
       "(237673, 13)"
      ]
     },
     "execution_count": 121,
     "metadata": {},
     "output_type": "execute_result"
    }
   ],
   "source": [
    "summer_df.shape"
   ]
  },
  {
   "cell_type": "code",
   "execution_count": 122,
   "metadata": {},
   "outputs": [
    {
     "data": {
      "text/plain": [
       "array(['Summer'], dtype=object)"
      ]
     },
     "execution_count": 122,
     "metadata": {},
     "output_type": "execute_result"
    }
   ],
   "source": [
    "summer_df.Season.unique()"
   ]
  },
  {
   "cell_type": "code",
   "execution_count": 123,
   "metadata": {},
   "outputs": [
    {
     "data": {
      "text/plain": [
       "array(['CHN', 'DEN', 'NED', 'FIN', 'NOR', 'ROU', 'EST', 'FRA', 'MAR',\n",
       "       'ESP', 'EGY', 'IRI', 'BUL', 'ITA', 'CHA', 'AZE', 'SUD', 'RUS',\n",
       "       'ARG', 'CUB', 'BLR', 'GRE', 'CMR', 'TUR', 'CHI', 'MEX', 'USA',\n",
       "       'URS', 'NCA', 'HUN', 'NGR', 'ALG', 'KUW', 'BRN', 'PAK', 'IRQ',\n",
       "       'UAR', 'LIB', 'QAT', 'MAS', 'GER', 'CAN', 'IRL', 'AUS', 'RSA',\n",
       "       'ERI', 'TAN', 'JOR', 'TUN', 'LBA', 'BEL', 'DJI', 'PLE', 'COM',\n",
       "       'KAZ', 'BRU', 'IND', 'KSA', 'SYR', 'MDV', 'ETH', 'UAE', 'YAR',\n",
       "       'INA', 'PHI', 'SGP', 'UZB', 'KGZ', 'TJK', 'EUN', 'JPN', 'CGO',\n",
       "       'SUI', 'BRA', 'GDR', 'MON', 'ISR', 'URU', 'SWE', 'SRI', 'ARM',\n",
       "       'CIV', 'KEN', 'BEN', 'GBR', 'GHA', 'SOM', 'NIG', 'MLI', 'AFG',\n",
       "       'POL', 'CRC', 'PAN', 'GEO', 'SLO', 'GUY', 'NZL', 'POR', 'PAR',\n",
       "       'ANG', 'VEN', 'COL', 'FRG', 'BAN', 'PER', 'ESA', 'PUR', 'UGA',\n",
       "       'HON', 'ECU', 'TKM', 'MRI', 'SEY', 'TCH', 'LUX', 'MTN', 'SKN',\n",
       "       'TTO', 'DOM', 'VIN', 'JAM', 'LBR', 'SUR', 'NEP', 'MGL', 'AUT',\n",
       "       'PLW', 'LTU', 'TOG', 'NAM', 'AHO', 'UKR', 'ISL', 'ASA', 'SAM',\n",
       "       'RWA', 'CRO', 'DMA', 'HAI', 'MLT', 'CYP', 'GUI', 'BIZ', 'YMD',\n",
       "       'THA', 'BER', 'ANZ', 'SCG', 'SLE', 'PNG', 'YEM', 'IOA', 'OMA',\n",
       "       'FIJ', 'VAN', 'MDA', 'BAH', 'GUA', 'YUG', 'LAT', 'SRB', 'IVB',\n",
       "       'MOZ', 'ISV', 'CAF', 'MAD', 'MAL', 'BIH', 'GUM', 'CAY', 'SVK',\n",
       "       'BAR', 'GBS', 'TLS', 'COD', 'GAB', 'SMR', 'LAO', 'BOT', 'ROT',\n",
       "       'KOR', 'CAM', 'PRK', 'SOL', 'SEN', 'CPV', 'CZE', 'CRT', 'GEQ',\n",
       "       'BOL', 'SAA', 'ANT', 'AND', 'ZIM', 'GRN', 'HKG', 'LCA', 'FSM',\n",
       "       'MYA', 'MAW', 'ZAM', 'RHO', 'TPE', 'STP', 'MKD', 'BOH', 'LIE',\n",
       "       'MNE', 'GAM', 'COK', 'ALB', 'WIF', 'SWZ', 'BUR', 'NBO', 'BDI',\n",
       "       'ARU', 'NRU', 'VNM', 'VIE', 'BHU', 'MHL', 'KIR', 'UNK', 'TUV',\n",
       "       'TGA', 'NFL', 'KOS', 'SSD', 'LES', 'ROC', 'EOR', 'LBN'],\n",
       "      dtype=object)"
      ]
     },
     "execution_count": 123,
     "metadata": {},
     "output_type": "execute_result"
    }
   ],
   "source": [
    "summer_df.NOC.unique()"
   ]
  },
  {
   "cell_type": "code",
   "execution_count": 124,
   "metadata": {},
   "outputs": [],
   "source": [
    "path_winter  = \"Athletes_winter_games.csv\"\n",
    "path_regions = \"regions.csv\""
   ]
  },
  {
   "cell_type": "code",
   "execution_count": 125,
   "metadata": {},
   "outputs": [
    {
     "data": {
      "text/plain": [
       "Unnamed: 0      int64\n",
       "Name           object\n",
       "Sex            object\n",
       "Age           float64\n",
       "Team           object\n",
       "NOC            object\n",
       "Games          object\n",
       "Year            int64\n",
       "Season         object\n",
       "City           object\n",
       "Sport          object\n",
       "Event          object\n",
       "Medal          object\n",
       "dtype: object"
      ]
     },
     "execution_count": 125,
     "metadata": {},
     "output_type": "execute_result"
    }
   ],
   "source": [
    "winter_df = pd.read_csv(path_winter)\n",
    "winter_df.dtypes"
   ]
  },
  {
   "cell_type": "code",
   "execution_count": 126,
   "metadata": {},
   "outputs": [
    {
     "data": {
      "text/plain": [
       "(48564, 13)"
      ]
     },
     "execution_count": 126,
     "metadata": {},
     "output_type": "execute_result"
    }
   ],
   "source": [
    "winter_df.shape"
   ]
  },
  {
   "cell_type": "code",
   "execution_count": 127,
   "metadata": {},
   "outputs": [
    {
     "data": {
      "text/plain": [
       "array(['Winter'], dtype=object)"
      ]
     },
     "execution_count": 127,
     "metadata": {},
     "output_type": "execute_result"
    }
   ],
   "source": [
    "winter_df.Season.unique()"
   ]
  },
  {
   "cell_type": "code",
   "execution_count": 128,
   "metadata": {},
   "outputs": [
    {
     "data": {
      "text/plain": [
       "Unnamed: 0     int64\n",
       "NOC           object\n",
       "region        object\n",
       "notes         object\n",
       "dtype: object"
      ]
     },
     "execution_count": 128,
     "metadata": {},
     "output_type": "execute_result"
    }
   ],
   "source": [
    "regions_df = pd.read_csv(path_regions)\n",
    "regions_df.dtypes"
   ]
  },
  {
   "cell_type": "code",
   "execution_count": 129,
   "metadata": {},
   "outputs": [
    {
     "data": {
      "text/html": [
       "<div>\n",
       "<style scoped>\n",
       "    .dataframe tbody tr th:only-of-type {\n",
       "        vertical-align: middle;\n",
       "    }\n",
       "\n",
       "    .dataframe tbody tr th {\n",
       "        vertical-align: top;\n",
       "    }\n",
       "\n",
       "    .dataframe thead th {\n",
       "        text-align: right;\n",
       "    }\n",
       "</style>\n",
       "<table border=\"1\" class=\"dataframe\">\n",
       "  <thead>\n",
       "    <tr style=\"text-align: right;\">\n",
       "      <th></th>\n",
       "      <th>Unnamed: 0</th>\n",
       "      <th>NOC</th>\n",
       "      <th>region</th>\n",
       "      <th>notes</th>\n",
       "    </tr>\n",
       "  </thead>\n",
       "  <tbody>\n",
       "    <tr>\n",
       "      <th>0</th>\n",
       "      <td>0</td>\n",
       "      <td>EOR</td>\n",
       "      <td>Refugee</td>\n",
       "      <td>NaN</td>\n",
       "    </tr>\n",
       "    <tr>\n",
       "      <th>1</th>\n",
       "      <td>1</td>\n",
       "      <td>LBN</td>\n",
       "      <td>Lebanon</td>\n",
       "      <td>NaN</td>\n",
       "    </tr>\n",
       "    <tr>\n",
       "      <th>2</th>\n",
       "      <td>2</td>\n",
       "      <td>SGP</td>\n",
       "      <td>Singapore</td>\n",
       "      <td>NaN</td>\n",
       "    </tr>\n",
       "    <tr>\n",
       "      <th>3</th>\n",
       "      <td>3</td>\n",
       "      <td>ROC</td>\n",
       "      <td>Russia</td>\n",
       "      <td>NaN</td>\n",
       "    </tr>\n",
       "    <tr>\n",
       "      <th>4</th>\n",
       "      <td>4</td>\n",
       "      <td>AFG</td>\n",
       "      <td>Afghanistan</td>\n",
       "      <td>NaN</td>\n",
       "    </tr>\n",
       "  </tbody>\n",
       "</table>\n",
       "</div>"
      ],
      "text/plain": [
       "   Unnamed: 0  NOC       region notes\n",
       "0           0  EOR      Refugee   NaN\n",
       "1           1  LBN      Lebanon   NaN\n",
       "2           2  SGP    Singapore   NaN\n",
       "3           3  ROC       Russia   NaN\n",
       "4           4  AFG  Afghanistan   NaN"
      ]
     },
     "execution_count": 129,
     "metadata": {},
     "output_type": "execute_result"
    }
   ],
   "source": [
    "regions_df.head()"
   ]
  },
  {
   "cell_type": "code",
   "execution_count": 130,
   "metadata": {},
   "outputs": [
    {
     "data": {
      "text/plain": [
       "array(['NED', 'USA', 'FIN', 'NOR', 'EST', 'PAK', 'IRI', 'ITA', 'JPN',\n",
       "       'CAN', 'FRG', 'ARG', 'SWE', 'ISV', 'SUI', 'FRA', 'UKR', 'LAT',\n",
       "       'ESP', 'LIB', 'GEO', 'BLR', 'RUS', 'CRO', 'BUL', 'GER', 'POL',\n",
       "       'ROU', 'URS', 'AUS', 'GBR', 'TCH', 'CZE', 'GDR', 'KAZ', 'BEL',\n",
       "       'TOG', 'TUR', 'UZB', 'TTO', 'KOR', 'IND', 'MAR', 'DEN', 'AUT',\n",
       "       'YUG', 'MON', 'GRE', 'ARM', 'EUN', 'HUN', 'MGL', 'MEX', 'PUR',\n",
       "       'PRK', 'CHN', 'CHI', 'AZE', 'AND', 'BRA', 'BOL', 'NZL', 'LTU',\n",
       "       'CYP', 'ISL', 'SVK', 'BIH', 'MDA', 'TGA', 'GUM', 'IRL', 'SMR',\n",
       "       'SLO', 'LIE', 'ISR', 'ALG', 'POR', 'TPE', 'VEN', 'KEN', 'KGZ',\n",
       "       'RSA', 'JAM', 'GUA', 'MNE', 'SRB', 'NEP', 'CRC', 'PER', 'AHO',\n",
       "       'PHI', 'IVB', 'MKD', 'COL', 'DMA', 'SCG', 'TJK', 'EGY', 'SWZ',\n",
       "       'LUX', 'SEN', 'TLS', 'HKG', 'URU', 'IOA', 'ASA', 'PAR', 'ALB',\n",
       "       'CMR', 'BER', 'THA', 'GHA', 'HON', 'MLT', 'MAD', 'FIJ', 'ZIM',\n",
       "       'ETH', 'CAY'], dtype=object)"
      ]
     },
     "execution_count": 130,
     "metadata": {},
     "output_type": "execute_result"
    }
   ],
   "source": [
    "winter_df.NOC.unique()"
   ]
  },
  {
   "cell_type": "code",
   "execution_count": 131,
   "metadata": {},
   "outputs": [
    {
     "data": {
      "text/plain": [
       "(286237, 13)"
      ]
     },
     "execution_count": 131,
     "metadata": {},
     "output_type": "execute_result"
    }
   ],
   "source": [
    "#Concat both datasets into one¶\n",
    "data_df =  pd.concat([summer_df, winter_df])\n",
    "data_df.shape"
   ]
  },
  {
   "cell_type": "code",
   "execution_count": 132,
   "metadata": {},
   "outputs": [
    {
     "data": {
      "text/plain": [
       "Unnamed: 0      int64\n",
       "Name           object\n",
       "Sex            object\n",
       "Age           float64\n",
       "Team           object\n",
       "NOC            object\n",
       "Games          object\n",
       "Year            int64\n",
       "Season         object\n",
       "City           object\n",
       "Sport          object\n",
       "Event          object\n",
       "Medal          object\n",
       "dtype: object"
      ]
     },
     "execution_count": 132,
     "metadata": {},
     "output_type": "execute_result"
    }
   ],
   "source": [
    "data_df.dtypes\n"
   ]
  },
  {
   "cell_type": "code",
   "execution_count": 133,
   "metadata": {},
   "outputs": [
    {
     "data": {
      "text/plain": [
       "(286237, 9)"
      ]
     },
     "execution_count": 133,
     "metadata": {},
     "output_type": "execute_result"
    }
   ],
   "source": [
    "#Clean dataset\n",
    "columns_to_keep = [\"Sex\",\"Age\",\"Team\",\"NOC\",\"Season\",\"City\",\"Sport\",\"Event\", \"Medal\"]\n",
    "data_df = data_df.loc[:,columns_to_keep]\n",
    "data_df.shape"
   ]
  },
  {
   "cell_type": "code",
   "execution_count": 134,
   "metadata": {},
   "outputs": [
    {
     "data": {
      "text/plain": [
       "Sex        object\n",
       "Age       float64\n",
       "Team       object\n",
       "NOC        object\n",
       "Season     object\n",
       "City       object\n",
       "Sport      object\n",
       "Event      object\n",
       "Medal      object\n",
       "dtype: object"
      ]
     },
     "execution_count": 134,
     "metadata": {},
     "output_type": "execute_result"
    }
   ],
   "source": [
    "data_df.dtypes\n"
   ]
  },
  {
   "cell_type": "code",
   "execution_count": 135,
   "metadata": {},
   "outputs": [
    {
     "data": {
      "text/html": [
       "<div>\n",
       "<style scoped>\n",
       "    .dataframe tbody tr th:only-of-type {\n",
       "        vertical-align: middle;\n",
       "    }\n",
       "\n",
       "    .dataframe tbody tr th {\n",
       "        vertical-align: top;\n",
       "    }\n",
       "\n",
       "    .dataframe thead th {\n",
       "        text-align: right;\n",
       "    }\n",
       "</style>\n",
       "<table border=\"1\" class=\"dataframe\">\n",
       "  <thead>\n",
       "    <tr style=\"text-align: right;\">\n",
       "      <th></th>\n",
       "      <th>Sex</th>\n",
       "      <th>Age</th>\n",
       "      <th>Team</th>\n",
       "      <th>NOC</th>\n",
       "      <th>Season</th>\n",
       "      <th>City</th>\n",
       "      <th>Sport</th>\n",
       "      <th>Event</th>\n",
       "      <th>Medal</th>\n",
       "    </tr>\n",
       "  </thead>\n",
       "  <tbody>\n",
       "    <tr>\n",
       "      <th>0</th>\n",
       "      <td>M</td>\n",
       "      <td>24.0</td>\n",
       "      <td>China</td>\n",
       "      <td>CHN</td>\n",
       "      <td>Summer</td>\n",
       "      <td>Barcelona</td>\n",
       "      <td>Basketball</td>\n",
       "      <td>Basketball Men's Basketball</td>\n",
       "      <td>NaN</td>\n",
       "    </tr>\n",
       "    <tr>\n",
       "      <th>1</th>\n",
       "      <td>M</td>\n",
       "      <td>23.0</td>\n",
       "      <td>China</td>\n",
       "      <td>CHN</td>\n",
       "      <td>Summer</td>\n",
       "      <td>London</td>\n",
       "      <td>Judo</td>\n",
       "      <td>Judo Men's Extra-Lightweight</td>\n",
       "      <td>NaN</td>\n",
       "    </tr>\n",
       "    <tr>\n",
       "      <th>2</th>\n",
       "      <td>M</td>\n",
       "      <td>24.0</td>\n",
       "      <td>Denmark</td>\n",
       "      <td>DEN</td>\n",
       "      <td>Summer</td>\n",
       "      <td>Antwerpen</td>\n",
       "      <td>Football</td>\n",
       "      <td>Football Men's Football</td>\n",
       "      <td>NaN</td>\n",
       "    </tr>\n",
       "    <tr>\n",
       "      <th>3</th>\n",
       "      <td>M</td>\n",
       "      <td>34.0</td>\n",
       "      <td>Denmark/Sweden</td>\n",
       "      <td>DEN</td>\n",
       "      <td>Summer</td>\n",
       "      <td>Paris</td>\n",
       "      <td>Tug-Of-War</td>\n",
       "      <td>Tug-Of-War Men's Tug-Of-War</td>\n",
       "      <td>Gold</td>\n",
       "    </tr>\n",
       "    <tr>\n",
       "      <th>4</th>\n",
       "      <td>F</td>\n",
       "      <td>18.0</td>\n",
       "      <td>Netherlands</td>\n",
       "      <td>NED</td>\n",
       "      <td>Summer</td>\n",
       "      <td>Los Angeles</td>\n",
       "      <td>Athletics</td>\n",
       "      <td>Athletics Women's 100 metres</td>\n",
       "      <td>NaN</td>\n",
       "    </tr>\n",
       "  </tbody>\n",
       "</table>\n",
       "</div>"
      ],
      "text/plain": [
       "  Sex   Age            Team  NOC  Season         City       Sport  \\\n",
       "0   M  24.0           China  CHN  Summer    Barcelona  Basketball   \n",
       "1   M  23.0           China  CHN  Summer       London        Judo   \n",
       "2   M  24.0         Denmark  DEN  Summer    Antwerpen    Football   \n",
       "3   M  34.0  Denmark/Sweden  DEN  Summer        Paris  Tug-Of-War   \n",
       "4   F  18.0     Netherlands  NED  Summer  Los Angeles   Athletics   \n",
       "\n",
       "                          Event Medal  \n",
       "0   Basketball Men's Basketball   NaN  \n",
       "1  Judo Men's Extra-Lightweight   NaN  \n",
       "2       Football Men's Football   NaN  \n",
       "3   Tug-Of-War Men's Tug-Of-War  Gold  \n",
       "4  Athletics Women's 100 metres   NaN  "
      ]
     },
     "execution_count": 135,
     "metadata": {},
     "output_type": "execute_result"
    }
   ],
   "source": [
    "data_df.head()"
   ]
  },
  {
   "cell_type": "code",
   "execution_count": 136,
   "metadata": {},
   "outputs": [
    {
     "data": {
      "text/plain": [
       "array([nan, 'Gold', 'Bronze', 'Silver'], dtype=object)"
      ]
     },
     "execution_count": 136,
     "metadata": {},
     "output_type": "execute_result"
    }
   ],
   "source": [
    "data_df.Medal.unique()\n"
   ]
  },
  {
   "cell_type": "code",
   "execution_count": 137,
   "metadata": {},
   "outputs": [
    {
     "data": {
      "text/plain": [
       "array(['None', 'Gold', 'Bronze', 'Silver'], dtype=object)"
      ]
     },
     "execution_count": 137,
     "metadata": {},
     "output_type": "execute_result"
    }
   ],
   "source": [
    "data_df.loc[data_df[\"Medal\"].isnull(),\"Medal\"] = \"None\"\n",
    "data_df.Medal.unique()"
   ]
  },
  {
   "cell_type": "code",
   "execution_count": 138,
   "metadata": {},
   "outputs": [
    {
     "data": {
      "text/plain": [
       "array([0., 1., 3., 2.])"
      ]
     },
     "execution_count": 138,
     "metadata": {},
     "output_type": "execute_result"
    }
   ],
   "source": [
    "values_to_replace = {\"None\":0.0, \"Bronze\":3.0, \"Silver\":2.0, \"Gold\":1.0}\n",
    "data_df[\"Medal\"].replace(values_to_replace, inplace = True)\n",
    "data_df.Medal.unique()"
   ]
  },
  {
   "cell_type": "code",
   "execution_count": 139,
   "metadata": {},
   "outputs": [
    {
     "data": {
      "text/plain": [
       "(array([244005.,  14172.,  13898.,  14162.]),\n",
       " array([0.  , 0.75, 1.5 , 2.25, 3.  ]),\n",
       " <BarContainer object of 4 artists>)"
      ]
     },
     "execution_count": 139,
     "metadata": {},
     "output_type": "execute_result"
    },
    {
     "data": {
      "image/png": "[encoded data removed]",
      "text/plain": [
       "<Figure size 640x480 with 1 Axes>"
      ]
     },
     "metadata": {},
     "output_type": "display_data"
    }
   ],
   "source": [
    "data_df.Medal.describe()\n",
    "plt.hist(data_df.Medal, bins=4)"
   ]
  },
  {
   "cell_type": "code",
   "execution_count": 140,
   "metadata": {},
   "outputs": [
    {
     "data": {
      "text/plain": [
       "Medal\n",
       "0.0    0.852458\n",
       "1.0    0.049511\n",
       "2.0    0.048554\n",
       "3.0    0.049476\n",
       "Name: Sex, dtype: float64"
      ]
     },
     "execution_count": 140,
     "metadata": {},
     "output_type": "execute_result"
    }
   ],
   "source": [
    "data_df.groupby(\"Medal\").count()[\"Sex\"]/data_df.shape[0]\n"
   ]
  },
  {
   "cell_type": "code",
   "execution_count": 141,
   "metadata": {},
   "outputs": [
    {
     "data": {
      "text/plain": [
       "array(['M', 'F'], dtype=object)"
      ]
     },
     "execution_count": 141,
     "metadata": {},
     "output_type": "execute_result"
    }
   ],
   "source": [
    "data_df.Sex.unique()\n"
   ]
  },
  {
   "cell_type": "code",
   "execution_count": 142,
   "metadata": {},
   "outputs": [
    {
     "data": {
      "text/plain": [
       "array([2., 1.])"
      ]
     },
     "execution_count": 142,
     "metadata": {},
     "output_type": "execute_result"
    }
   ],
   "source": [
    "values_to_replace = {\"M\":2.0, \"F\":1.0}\n",
    "data_df[\"Sex\"].replace(values_to_replace, inplace = True)\n",
    "data_df.Sex.unique()"
   ]
  },
  {
   "cell_type": "code",
   "execution_count": 143,
   "metadata": {},
   "outputs": [
    {
     "data": {
      "text/plain": [
       "array(['China', 'Denmark', 'Denmark/Sweden', ..., 'Uzbekistan-1',\n",
       "       'Jamaica-1', 'Luxembourg-1'], dtype=object)"
      ]
     },
     "execution_count": 143,
     "metadata": {},
     "output_type": "execute_result"
    }
   ],
   "source": [
    "teams = data_df.Team.unique()\n",
    "teams"
   ]
  },
  {
   "cell_type": "code",
   "execution_count": 144,
   "metadata": {},
   "outputs": [
    {
     "data": {
      "text/plain": [
       "array([   0,    1,    2, ..., 1193, 1194, 1195])"
      ]
     },
     "execution_count": 144,
     "metadata": {},
     "output_type": "execute_result"
    }
   ],
   "source": [
    "values = np.arange(len(teams))\n",
    "values_to_replace = dict(zip(teams, values))\n",
    "data_df[\"Team\"].replace(values_to_replace, inplace = True)\n",
    "data_df.Team.unique()"
   ]
  },
  {
   "cell_type": "code",
   "execution_count": 145,
   "metadata": {},
   "outputs": [
    {
     "data": {
      "text/plain": [
       "array([\"Basketball Men's Basketball\", \"Judo Men's Extra-Lightweight\",\n",
       "       \"Football Men's Football\", ...,\n",
       "       \"Snowboarding Women's Parallel Giant Slalom\",\n",
       "       \"Speed Skating Men's Allround\",\n",
       "       \"Snowboarding Women's Parallel Slalom\"], dtype=object)"
      ]
     },
     "execution_count": 145,
     "metadata": {},
     "output_type": "execute_result"
    }
   ],
   "source": [
    "events = data_df.Event.unique()\n",
    "events"
   ]
  },
  {
   "cell_type": "code",
   "execution_count": 146,
   "metadata": {},
   "outputs": [
    {
     "data": {
      "text/plain": [
       "array([   0,    1,    2, ..., 1068, 1069, 1070])"
      ]
     },
     "execution_count": 146,
     "metadata": {},
     "output_type": "execute_result"
    }
   ],
   "source": [
    "values = np.arange(len(events))\n",
    "values_to_replace = dict(zip(events, values))\n",
    "data_df[\"Event\"].replace(values_to_replace, inplace = True)\n",
    "data_df.Event.unique()\n"
   ]
  },
  {
   "cell_type": "code",
   "execution_count": 147,
   "metadata": {},
   "outputs": [
    {
     "data": {
      "text/plain": [
       "array(['CHN', 'DEN', 'NED', 'FIN', 'NOR', 'ROU', 'EST', 'FRA', 'MAR',\n",
       "       'ESP', 'EGY', 'IRI', 'BUL', 'ITA', 'CHA', 'AZE', 'SUD', 'RUS',\n",
       "       'ARG', 'CUB', 'BLR', 'GRE', 'CMR', 'TUR', 'CHI', 'MEX', 'USA',\n",
       "       'URS', 'NCA', 'HUN', 'NGR', 'ALG', 'KUW', 'BRN', 'PAK', 'IRQ',\n",
       "       'UAR', 'LIB', 'QAT', 'MAS', 'GER', 'CAN', 'IRL', 'AUS', 'RSA',\n",
       "       'ERI', 'TAN', 'JOR', 'TUN', 'LBA', 'BEL', 'DJI', 'PLE', 'COM',\n",
       "       'KAZ', 'BRU', 'IND', 'KSA', 'SYR', 'MDV', 'ETH', 'UAE', 'YAR',\n",
       "       'INA', 'PHI', 'SGP', 'UZB', 'KGZ', 'TJK', 'EUN', 'JPN', 'CGO',\n",
       "       'SUI', 'BRA', 'GDR', 'MON', 'ISR', 'URU', 'SWE', 'SRI', 'ARM',\n",
       "       'CIV', 'KEN', 'BEN', 'GBR', 'GHA', 'SOM', 'NIG', 'MLI', 'AFG',\n",
       "       'POL', 'CRC', 'PAN', 'GEO', 'SLO', 'GUY', 'NZL', 'POR', 'PAR',\n",
       "       'ANG', 'VEN', 'COL', 'FRG', 'BAN', 'PER', 'ESA', 'PUR', 'UGA',\n",
       "       'HON', 'ECU', 'TKM', 'MRI', 'SEY', 'TCH', 'LUX', 'MTN', 'SKN',\n",
       "       'TTO', 'DOM', 'VIN', 'JAM', 'LBR', 'SUR', 'NEP', 'MGL', 'AUT',\n",
       "       'PLW', 'LTU', 'TOG', 'NAM', 'AHO', 'UKR', 'ISL', 'ASA', 'SAM',\n",
       "       'RWA', 'CRO', 'DMA', 'HAI', 'MLT', 'CYP', 'GUI', 'BIZ', 'YMD',\n",
       "       'THA', 'BER', 'ANZ', 'SCG', 'SLE', 'PNG', 'YEM', 'IOA', 'OMA',\n",
       "       'FIJ', 'VAN', 'MDA', 'BAH', 'GUA', 'YUG', 'LAT', 'SRB', 'IVB',\n",
       "       'MOZ', 'ISV', 'CAF', 'MAD', 'MAL', 'BIH', 'GUM', 'CAY', 'SVK',\n",
       "       'BAR', 'GBS', 'TLS', 'COD', 'GAB', 'SMR', 'LAO', 'BOT', 'ROT',\n",
       "       'KOR', 'CAM', 'PRK', 'SOL', 'SEN', 'CPV', 'CZE', 'CRT', 'GEQ',\n",
       "       'BOL', 'SAA', 'ANT', 'AND', 'ZIM', 'GRN', 'HKG', 'LCA', 'FSM',\n",
       "       'MYA', 'MAW', 'ZAM', 'RHO', 'TPE', 'STP', 'MKD', 'BOH', 'LIE',\n",
       "       'MNE', 'GAM', 'COK', 'ALB', 'WIF', 'SWZ', 'BUR', 'NBO', 'BDI',\n",
       "       'ARU', 'NRU', 'VNM', 'VIE', 'BHU', 'MHL', 'KIR', 'UNK', 'TUV',\n",
       "       'TGA', 'NFL', 'KOS', 'SSD', 'LES', 'ROC', 'EOR', 'LBN'],\n",
       "      dtype=object)"
      ]
     },
     "execution_count": 147,
     "metadata": {},
     "output_type": "execute_result"
    }
   ],
   "source": [
    "NOCs = data_df.NOC.unique()\n",
    "NOCs\n"
   ]
  },
  {
   "cell_type": "code",
   "execution_count": 148,
   "metadata": {},
   "outputs": [
    {
     "data": {
      "text/plain": [
       "array([  0,   1,   2,   3,   4,   5,   6,   7,   8,   9,  10,  11,  12,\n",
       "        13,  14,  15,  16,  17,  18,  19,  20,  21,  22,  23,  24,  25,\n",
       "        26,  27,  28,  29,  30,  31,  32,  33,  34,  35,  36,  37,  38,\n",
       "        39,  40,  41,  42,  43,  44,  45,  46,  47,  48,  49,  50,  51,\n",
       "        52,  53,  54,  55,  56,  57,  58,  59,  60,  61,  62,  63,  64,\n",
       "        65,  66,  67,  68,  69,  70,  71,  72,  73,  74,  75,  76,  77,\n",
       "        78,  79,  80,  81,  82,  83,  84,  85,  86,  87,  88,  89,  90,\n",
       "        91,  92,  93,  94,  95,  96,  97,  98,  99, 100, 101, 102, 103,\n",
       "       104, 105, 106, 107, 108, 109, 110, 111, 112, 113, 114, 115, 116,\n",
       "       117, 118, 119, 120, 121, 122, 123, 124, 125, 126, 127, 128, 129,\n",
       "       130, 131, 132, 133, 134, 135, 136, 137, 138, 139, 140, 141, 142,\n",
       "       143, 144, 145, 146, 147, 148, 149, 150, 151, 152, 153, 154, 155,\n",
       "       156, 157, 158, 159, 160, 161, 162, 163, 164, 165, 166, 167, 168,\n",
       "       169, 170, 171, 172, 173, 174, 175, 176, 177, 178, 179, 180, 181,\n",
       "       182, 183, 184, 185, 186, 187, 188, 189, 190, 191, 192, 193, 194,\n",
       "       195, 196, 197, 198, 199, 200, 201, 202, 203, 204, 205, 206, 207,\n",
       "       208, 209, 210, 211, 212, 213, 214, 215, 216, 217, 218, 219, 220,\n",
       "       221, 222, 223, 224, 225, 226, 227, 228, 229, 230, 231, 232])"
      ]
     },
     "execution_count": 148,
     "metadata": {},
     "output_type": "execute_result"
    }
   ],
   "source": [
    "values = np.arange(len(NOCs))\n",
    "values_to_replace = dict(zip(NOCs, values))\n",
    "data_df[\"NOC\"].replace(values_to_replace, inplace = True)\n",
    "data_df.NOC.unique()\n"
   ]
  },
  {
   "cell_type": "code",
   "execution_count": 149,
   "metadata": {},
   "outputs": [
    {
     "data": {
      "text/plain": [
       "array(['Summer', 'Winter'], dtype=object)"
      ]
     },
     "execution_count": 149,
     "metadata": {},
     "output_type": "execute_result"
    }
   ],
   "source": [
    "seasons = data_df.Season.unique()\n",
    "seasons\n"
   ]
  },
  {
   "cell_type": "code",
   "execution_count": 150,
   "metadata": {},
   "outputs": [
    {
     "data": {
      "text/plain": [
       "array([0, 1])"
      ]
     },
     "execution_count": 150,
     "metadata": {},
     "output_type": "execute_result"
    }
   ],
   "source": [
    "values = np.arange(len(seasons))\n",
    "values_to_replace = dict(zip(seasons, values))\n",
    "data_df[\"Season\"].replace(values_to_replace, inplace = True)\n",
    "data_df.Season.unique()\n"
   ]
  },
  {
   "cell_type": "code",
   "execution_count": 151,
   "metadata": {},
   "outputs": [
    {
     "data": {
      "text/plain": [
       "array(['Barcelona', 'London', 'Antwerpen', 'Paris', 'Los Angeles',\n",
       "       'Helsinki', 'Sydney', 'Atlanta', 'Stockholm', 'Beijing',\n",
       "       'Rio de Janeiro', 'Athina', 'Mexico City', 'Munich', 'Seoul',\n",
       "       'Berlin', 'Melbourne', 'Roma', 'Amsterdam', 'Montreal', 'Moskva',\n",
       "       'Tokyo', 'St. Louis', 'Calgary', 'Albertville', 'Lillehammer',\n",
       "       'Salt Lake City', 'Lake Placid', 'Sochi', 'Nagano', 'Torino',\n",
       "       'Squaw Valley', 'Innsbruck', 'Sarajevo', 'Oslo',\n",
       "       \"Cortina d'Ampezzo\", 'Vancouver', 'Grenoble', 'Sapporo',\n",
       "       'Chamonix', 'Sankt Moritz', 'Garmisch-Partenkirchen'], dtype=object)"
      ]
     },
     "execution_count": 151,
     "metadata": {},
     "output_type": "execute_result"
    }
   ],
   "source": [
    "cities = data_df.City.unique()\n",
    "cities\n"
   ]
  },
  {
   "cell_type": "code",
   "execution_count": 152,
   "metadata": {},
   "outputs": [
    {
     "data": {
      "text/plain": [
       "array([ 0,  1,  2,  3,  4,  5,  6,  7,  8,  9, 10, 11, 12, 13, 14, 15, 16,\n",
       "       17, 18, 19, 20, 21, 22, 23, 24, 25, 26, 27, 28, 29, 30, 31, 32, 33,\n",
       "       34, 35, 36, 37, 38, 39, 40, 41])"
      ]
     },
     "execution_count": 152,
     "metadata": {},
     "output_type": "execute_result"
    }
   ],
   "source": [
    "values = np.arange(len(cities))\n",
    "values_to_replace = dict(zip(cities, values))\n",
    "data_df[\"City\"].replace(values_to_replace, inplace = True)\n",
    "data_df.City.unique()\n"
   ]
  },
  {
   "cell_type": "code",
   "execution_count": 153,
   "metadata": {},
   "outputs": [
    {
     "data": {
      "text/plain": [
       "array(['Basketball', 'Judo', 'Football', 'Tug-Of-War', 'Athletics',\n",
       "       'Swimming', 'Badminton', 'Sailing', 'Gymnastics',\n",
       "       'Art Competitions', 'Handball', 'Weightlifting', 'Wrestling',\n",
       "       'Water Polo', 'Hockey', 'Rowing', 'Fencing', 'Equestrianism',\n",
       "       'Shooting', 'Boxing', 'Taekwondo', 'Cycling', 'Diving', 'Canoeing',\n",
       "       'Tennis', 'Modern Pentathlon', 'Golf', 'Softball', 'Archery',\n",
       "       'Volleyball', 'Synchronized Swimming', 'Table Tennis', 'Baseball',\n",
       "       'Rhythmic Gymnastics', 'Rugby Sevens', 'Trampolining',\n",
       "       'Beach Volleyball', 'Triathlon', 'Rugby', 'Lacrosse', 'Polo',\n",
       "       'Cricket', 'Ice Hockey', 'Racquets', 'Motorboating', 'Croquet',\n",
       "       'Figure Skating', 'Jeu De Paume', 'Roque', 'Basque Pelota',\n",
       "       'Alpinism', 'Aeronautics', 'Cycling Road', 'Artistic Gymnastics',\n",
       "       'Karate', 'Baseball/Softball', 'Trampoline Gymnastics',\n",
       "       'Marathon Swimming', 'Canoe Slalom', 'Surfing', 'Canoe Sprint',\n",
       "       'Cycling BMX Racing', 'Equestrian', 'Artistic Swimming',\n",
       "       'Cycling Track', 'Skateboarding', 'Cycling Mountain Bike',\n",
       "       '3x3 Basketball', 'Cycling BMX Freestyle', 'Sport Climbing',\n",
       "       'Speed Skating', 'Cross Country Skiing', 'Biathlon',\n",
       "       'Alpine Skiing', 'Luge', 'Bobsleigh', 'Nordic Combined',\n",
       "       'Freestyle Skiing', 'Ski Jumping', 'Curling', 'Snowboarding',\n",
       "       'Short Track Speed Skating', 'Skeleton', 'Military Ski Patrol'],\n",
       "      dtype=object)"
      ]
     },
     "execution_count": 153,
     "metadata": {},
     "output_type": "execute_result"
    }
   ],
   "source": [
    "sports = data_df.Sport.unique()\n",
    "sports\n"
   ]
  },
  {
   "cell_type": "code",
   "execution_count": 154,
   "metadata": {},
   "outputs": [
    {
     "data": {
      "text/plain": [
       "array([ 0,  1,  2,  3,  4,  5,  6,  7,  8,  9, 10, 11, 12, 13, 14, 15, 16,\n",
       "       17, 18, 19, 20, 21, 22, 23, 24, 25, 26, 27, 28, 29, 30, 31, 32, 33,\n",
       "       34, 35, 36, 37, 38, 39, 40, 41, 42, 43, 44, 45, 46, 47, 48, 49, 50,\n",
       "       51, 52, 53, 54, 55, 56, 57, 58, 59, 60, 61, 62, 63, 64, 65, 66, 67,\n",
       "       68, 69, 70, 71, 72, 73, 74, 75, 76, 77, 78, 79, 80, 81, 82, 83])"
      ]
     },
     "execution_count": 154,
     "metadata": {},
     "output_type": "execute_result"
    }
   ],
   "source": [
    "values = np.arange(len(sports))\n",
    "values_to_replace = dict(zip(sports, values))\n",
    "data_df[\"Sport\"].replace(values_to_replace, inplace = True)\n",
    "data_df.Sport.unique()\n"
   ]
  },
  {
   "cell_type": "code",
   "execution_count": 155,
   "metadata": {},
   "outputs": [
    {
     "data": {
      "text/plain": [
       "0.03309844639232524"
      ]
     },
     "execution_count": 155,
     "metadata": {},
     "output_type": "execute_result"
    }
   ],
   "source": [
    "data_df.Age.isnull().sum()/data_df.shape[0]\n"
   ]
  },
  {
   "cell_type": "code",
   "execution_count": 156,
   "metadata": {},
   "outputs": [
    {
     "data": {
      "text/plain": [
       "25.0"
      ]
     },
     "execution_count": 156,
     "metadata": {},
     "output_type": "execute_result"
    }
   ],
   "source": [
    "median_age = np.nanmedian(data_df[\"Age\"])\n",
    "median_age\n"
   ]
  },
  {
   "cell_type": "code",
   "execution_count": 157,
   "metadata": {},
   "outputs": [
    {
     "data": {
      "text/plain": [
       "0.0"
      ]
     },
     "execution_count": 157,
     "metadata": {},
     "output_type": "execute_result"
    }
   ],
   "source": [
    "data_df.loc[data_df[\"Age\"].isnull(),\"Age\"] = median_age\n",
    "data_df.Age.isnull().sum()/data_df.shape[0]\n"
   ]
  },
  {
   "cell_type": "code",
   "execution_count": 158,
   "metadata": {},
   "outputs": [
    {
     "data": {
      "text/plain": [
       "Sex       float64\n",
       "Age       float64\n",
       "Team        int32\n",
       "NOC         int32\n",
       "Season      int32\n",
       "City        int32\n",
       "Sport       int32\n",
       "Event       int32\n",
       "Medal     float64\n",
       "dtype: object"
      ]
     },
     "execution_count": 158,
     "metadata": {},
     "output_type": "execute_result"
    }
   ],
   "source": [
    "data_df.dtypes\n"
   ]
  },
  {
   "cell_type": "code",
   "execution_count": 159,
   "metadata": {},
   "outputs": [
    {
     "data": {
      "text/plain": [
       "Sex       float64\n",
       "Age       float64\n",
       "Team      float64\n",
       "NOC       float64\n",
       "Season    float64\n",
       "City      float64\n",
       "Sport     float64\n",
       "Event     float64\n",
       "Medal     float64\n",
       "dtype: object"
      ]
     },
     "execution_count": 159,
     "metadata": {},
     "output_type": "execute_result"
    }
   ],
   "source": [
    "data_df[\"Team\"]   = data_df.loc[:,\"Team\"].astype(float)\n",
    "data_df[\"NOC\"]    = data_df.loc[:, \"NOC\"].astype(float)\n",
    "data_df[\"Season\"] = data_df.loc[:, \"Season\"].astype(float)\n",
    "data_df[\"City\"] = data_df.loc[:, \"City\"].astype(float)\n",
    "data_df[\"Sport\"] = data_df.loc[:, \"Sport\"].astype(float)\n",
    "data_df[\"Event\"] = data_df.loc[:, \"Event\"].astype(float)\n",
    "\n",
    "\n",
    "data_df.dtypes"
   ]
  },
  {
   "cell_type": "code",
   "execution_count": 160,
   "metadata": {},
   "outputs": [
    {
     "data": {
      "text/plain": [
       "'Medal'"
      ]
     },
     "execution_count": 160,
     "metadata": {},
     "output_type": "execute_result"
    }
   ],
   "source": [
    "#Split datasets into training, validation and test datasets\n",
    "y_col = \"Medal\"\n",
    "y_col"
   ]
  },
  {
   "cell_type": "code",
   "execution_count": 161,
   "metadata": {},
   "outputs": [
    {
     "data": {
      "text/plain": [
       "['Sex', 'Age', 'Team', 'NOC', 'Season', 'City', 'Sport', 'Event']"
      ]
     },
     "execution_count": 161,
     "metadata": {},
     "output_type": "execute_result"
    }
   ],
   "source": [
    "x_cols =['Sex', 'Age', 'Team', 'NOC', 'Season', 'City', 'Sport', 'Event']\n",
    "x_cols"
   ]
  },
  {
   "cell_type": "code",
   "execution_count": 162,
   "metadata": {},
   "outputs": [
    {
     "data": {
      "text/plain": [
       "(286237, 9)"
      ]
     },
     "execution_count": 162,
     "metadata": {},
     "output_type": "execute_result"
    }
   ],
   "source": [
    "X = data_df.copy(deep = True)\n",
    "X.shape"
   ]
  },
  {
   "cell_type": "code",
   "execution_count": 163,
   "metadata": {},
   "outputs": [
    {
     "data": {
      "text/plain": [
       "0        0.0\n",
       "1        0.0\n",
       "2        0.0\n",
       "3        1.0\n",
       "4        0.0\n",
       "        ... \n",
       "48559    0.0\n",
       "48560    0.0\n",
       "48561    0.0\n",
       "48562    0.0\n",
       "48563    0.0\n",
       "Name: Medal, Length: 286237, dtype: float64"
      ]
     },
     "execution_count": 163,
     "metadata": {},
     "output_type": "execute_result"
    }
   ],
   "source": [
    "y = data_df[y_col].apply(pd.to_numeric)\n",
    "y"
   ]
  },
  {
   "cell_type": "code",
   "execution_count": 164,
   "metadata": {},
   "outputs": [
    {
     "data": {
      "text/plain": [
       "(286237, 8)"
      ]
     },
     "execution_count": 164,
     "metadata": {},
     "output_type": "execute_result"
    }
   ],
   "source": [
    "X = X[x_cols]\n",
    "X.shape"
   ]
  },
  {
   "cell_type": "code",
   "execution_count": 165,
   "metadata": {},
   "outputs": [],
   "source": [
    "from sklearn.model_selection import StratifiedShuffleSplit\n",
    "split = StratifiedShuffleSplit(n_splits=1, test_size=0.4, random_state=42)\n",
    "for train_index, test_valid_index in split.split(X, y):\n",
    "    X_train = X.iloc[train_index]\n",
    "    y_train = y.iloc[train_index]\n",
    "    X_valid  = X.iloc[test_valid_index]\n",
    "    y_valid  = y.iloc[test_valid_index]"
   ]
  },
  {
   "cell_type": "code",
   "execution_count": 166,
   "metadata": {},
   "outputs": [
    {
     "name": "stdout",
     "output_type": "stream",
     "text": [
      "X_train:  (171742, 8)\n",
      "y_train:  (171742,)\n",
      "X_valid:  (114495, 8)\n",
      "y_valid:  (114495,)\n"
     ]
    }
   ],
   "source": [
    "print(\"X_train: \", X_train.shape)\n",
    "print(\"y_train: \", y_train.shape)\n",
    "print(\"X_valid: \", X_valid.shape)\n",
    "print(\"y_valid: \", y_valid.shape)"
   ]
  },
  {
   "cell_type": "code",
   "execution_count": 167,
   "metadata": {},
   "outputs": [
    {
     "name": "stdout",
     "output_type": "stream",
     "text": [
      "X_test:  (57248, 8)\n",
      "y_test:  (57248,)\n",
      "X_valid:  (57247, 8)\n",
      "y_valid:  (57247,)\n"
     ]
    }
   ],
   "source": [
    "split = StratifiedShuffleSplit(n_splits=1, test_size=0.5, random_state=42)\n",
    "for valid_index, test_index in split.split(X_valid, y_valid):\n",
    "    X_valid = X.iloc[valid_index]\n",
    "    y_valid = y.iloc[valid_index]\n",
    "    X_test  = X.iloc[test_index]\n",
    "    y_test  = y.iloc[test_index]\n",
    "    \n",
    "print(\"X_test: \", X_test.shape)\n",
    "print(\"y_test: \", y_test.shape)\n",
    "print(\"X_valid: \", X_valid.shape)\n",
    "print(\"y_valid: \", y_valid.shape)"
   ]
  },
  {
   "cell_type": "code",
   "execution_count": 168,
   "metadata": {},
   "outputs": [
    {
     "name": "stdout",
     "output_type": "stream",
     "text": [
      "- depth :  2  - train score :  0.8524589209395489  -  valid score :  0.8479221618600101\n"
     ]
    }
   ],
   "source": [
    "#Decision Tree classifiers\n",
    "\n",
    "clf = DecisionTreeClassifier(max_depth = 2, criterion =\"entropy\")\n",
    "# Train Decision Tree Classifer\n",
    "clf = clf.fit(X_train,y_train)\n",
    "train_score = clf.score(X_train,y_train)\n",
    "valid_score = clf.score(X_valid,y_valid)\n",
    "print(\"- depth : \", 2, \" - train score : \", train_score, \" -  valid score : \", valid_score)"
   ]
  },
  {
   "cell_type": "code",
   "execution_count": 169,
   "metadata": {},
   "outputs": [
    {
     "name": "stdout",
     "output_type": "stream",
     "text": [
      "- depth :  4  - train score :  0.853675862631156  -  valid score :  0.849476828480095\n"
     ]
    }
   ],
   "source": [
    "clf = DecisionTreeClassifier(max_depth = 4, criterion =\"entropy\")\n",
    "# Train Decision Tree Classifer\n",
    "clf = clf.fit(X_train,y_train)\n",
    "train_score = clf.score(X_train,y_train)\n",
    "valid_score = clf.score(X_valid,y_valid)\n",
    "print(\"- depth : \", 4, \" - train score : \", train_score, \" -  valid score : \", valid_score)"
   ]
  },
  {
   "cell_type": "code",
   "execution_count": 170,
   "metadata": {},
   "outputs": [
    {
     "name": "stdout",
     "output_type": "stream",
     "text": [
      "- depth :  5  - train score :  0.8537049760687543  -  valid score :  0.8494593603158244\n",
      "--- new best accuracy found at  5  depths ---\n",
      "- depth :  6  - train score :  0.8537806710065098  -  valid score :  0.8495816374657187\n",
      "--- new best accuracy found at  6  depths ---\n",
      "- depth :  7  - train score :  0.8542581313831212  -  valid score :  0.8500532779010254\n",
      "--- new best accuracy found at  7  depths ---\n",
      "- depth :  8  - train score :  0.855265456324021  -  valid score :  0.8509790906073681\n",
      "--- new best accuracy found at  8  depths ---\n",
      "- depth :  9  - train score :  0.8572218793306239  -  valid score :  0.8526735025416179\n",
      "--- new best accuracy found at  9  depths ---\n",
      "- depth :  10  - train score :  0.8601041096528513  -  valid score :  0.8555208133177284\n",
      "--- new best accuracy found at  10  depths ---\n",
      "- depth :  11  - train score :  0.864255685854363  -  valid score :  0.8592065959788285\n",
      "--- new best accuracy found at  11  depths ---\n",
      "- depth :  12  - train score :  0.8702181178744861  -  valid score :  0.863381487239506\n",
      "--- new best accuracy found at  12  depths ---\n",
      "- depth :  13  - train score :  0.877106357210234  -  valid score :  0.8687092773420442\n",
      "--- new best accuracy found at  13  depths ---\n",
      "- depth :  14  - train score :  0.8849902761118422  -  valid score :  0.8751200936293605\n",
      "--- new best accuracy found at  14  depths ---\n",
      "- depth :  15  - train score :  0.8943065761432847  -  valid score :  0.8829458312225968\n",
      "--- new best accuracy found at  15  depths ---\n",
      "- depth :  16  - train score :  0.905229937930151  -  valid score :  0.8912082729225985\n",
      "--- new best accuracy found at  16  depths ---\n",
      "- depth :  17  - train score :  0.9164036752803624  -  valid score :  0.8988418607088581\n",
      "--- new best accuracy found at  17  depths ---\n",
      "- depth :  18  - train score :  0.9278336108814385  -  valid score :  0.9069121526018831\n",
      "--- new best accuracy found at  18  depths ---\n",
      "- depth :  19  - train score :  0.938518242479999  -  valid score :  0.9132705643963875\n",
      "--- new best accuracy found at  19  depths ---\n",
      "- depth :  20  - train score :  0.9487545271395466  -  valid score :  0.9196464443551627\n",
      "--- new best accuracy found at  20  depths ---\n",
      "- depth :  21  - train score :  0.9579601961081157  -  valid score :  0.9250790434433246\n",
      "--- new best accuracy found at  21  depths ---\n",
      "- depth :  22  - train score :  0.9656985478217326  -  valid score :  0.9290268485684839\n",
      "--- new best accuracy found at  22  depths ---\n",
      "- depth :  23  - train score :  0.9724878014696463  -  valid score :  0.9325728859154192\n",
      "--- new best accuracy found at  23  depths ---\n",
      "- depth :  24  - train score :  0.9775768303618217  -  valid score :  0.9353153877059059\n",
      "--- new best accuracy found at  24  depths ---\n",
      "- depth :  25  - train score :  0.9825144693784863  -  valid score :  0.9381102939892046\n",
      "--- new best accuracy found at  25  depths ---\n",
      "- depth :  26  - train score :  0.9859847911401987  -  valid score :  0.9398571104162664\n",
      "--- new best accuracy found at  26  depths ---\n",
      "- depth :  27  - train score :  0.9888670214624262  -  valid score :  0.9414292452006219\n",
      "--- new best accuracy found at  27  depths ---\n",
      "- depth :  28  - train score :  0.9909166074693435  -  valid score :  0.9425996122067531\n",
      "--- new best accuracy found at  28  depths ---\n",
      "- depth :  29  - train score :  0.9923140524740599  -  valid score :  0.9429489754921655\n",
      "--- new best accuracy found at  29  depths ---\n",
      "- depth :  30  - train score :  0.9934960580405492  -  valid score :  0.9437175747200727\n",
      "--- new best accuracy found at  30  depths ---\n",
      "- depth :  31  - train score :  0.9941365536677109  -  valid score :  0.9439271926913201\n",
      "--- new best accuracy found at  31  depths ---\n",
      "- depth :  32  - train score :  0.9944742695438507  -  valid score :  0.94420668331965\n",
      "--- new best accuracy found at  32  depths ---\n",
      "- depth :  33  - train score :  0.9947479358572743  -  valid score :  0.9446433874264154\n",
      "--- new best accuracy found at  33  depths ---\n",
      "- depth :  34  - train score :  0.9948643896076673  -  valid score :  0.9444163012908974\n",
      "- depth :  35  - train score :  0.9949167937953441  -  valid score :  0.9441368106625675\n",
      "- depth :  36  - train score :  0.9949691979830211  -  valid score :  0.9443638967980855\n",
      "- depth :  37  - train score :  0.99498666604558  -  valid score :  0.9444861739479798\n",
      "- depth :  38  - train score :  0.9949983114206193  -  valid score :  0.9446084510978742\n",
      "- depth :  39  - train score :  0.9949983114206193  -  valid score :  0.9443638967980855\n",
      "- depth :  40  - train score :  0.9949983114206193  -  valid score :  0.9444687057837092\n",
      "- depth :  41  - train score :  0.9949983114206193  -  valid score :  0.9445211102765211\n",
      "- depth :  42  - train score :  0.9949983114206193  -  valid score :  0.9443114923052737\n",
      "- depth :  43  - train score :  0.9949983114206193  -  valid score :  0.9444861739479798\n",
      "- depth :  44  - train score :  0.9949983114206193  -  valid score :  0.944660855590686\n",
      "--- new best accuracy found at  44  depths ---\n",
      "- depth :  45  - train score :  0.9949983114206193  -  valid score :  0.9447831327405803\n",
      "--- new best accuracy found at  45  depths ---\n",
      "- depth :  46  - train score :  0.9949983114206193  -  valid score :  0.9449403462190158\n",
      "--- new best accuracy found at  46  depths ---\n",
      "- depth :  47  - train score :  0.9949983114206193  -  valid score :  0.944660855590686\n",
      "- depth :  48  - train score :  0.9949983114206193  -  valid score :  0.9445560466050623\n",
      "- depth :  49  - train score :  0.9949983114206193  -  valid score :  0.9442765559767324\n",
      "- depth :  50  - train score :  0.9949983114206193  -  valid score :  0.9445036421122505\n",
      "- depth :  51  - train score :  0.9949983114206193  -  valid score :  0.9446957919192273\n",
      "- depth :  52  - train score :  0.9949983114206193  -  valid score :  0.9441368106625675\n",
      "- depth :  53  - train score :  0.9949983114206193  -  valid score :  0.9444512376194386\n",
      "- depth :  54  - train score :  0.9949983114206193  -  valid score :  0.9445385784407917\n",
      "- depth :  55  - train score :  0.9949983114206193  -  valid score :  0.9445211102765211\n",
      "- depth :  56  - train score :  0.9949983114206193  -  valid score :  0.9445735147693329\n",
      "- depth :  57  - train score :  0.9949983114206193  -  valid score :  0.9445211102765211\n",
      "- depth :  58  - train score :  0.9949983114206193  -  valid score :  0.9446084510978742\n",
      "- depth :  59  - train score :  0.9949983114206193  -  valid score :  0.9445036421122505\n",
      "- depth :  60  - train score :  0.9949983114206193  -  valid score :  0.9446783237549566\n",
      "- depth :  61  - train score :  0.9949983114206193  -  valid score :  0.9443813649623561\n",
      "- depth :  62  - train score :  0.9949983114206193  -  valid score :  0.9444512376194386\n",
      "- depth :  63  - train score :  0.9949983114206193  -  valid score :  0.9442416196481912\n",
      "- depth :  64  - train score :  0.9949983114206193  -  valid score :  0.9446783237549566\n",
      "- depth :  65  - train score :  0.9949983114206193  -  valid score :  0.9443988331266268\n",
      "- depth :  66  - train score :  0.9949983114206193  -  valid score :  0.9444163012908974\n",
      "- depth :  67  - train score :  0.9949983114206193  -  valid score :  0.9445735147693329\n",
      "- depth :  68  - train score :  0.9949983114206193  -  valid score :  0.944800600904851\n",
      "- depth :  69  - train score :  0.9949983114206193  -  valid score :  0.9445909829336036\n",
      "- depth :  70  - train score :  0.9949983114206193  -  valid score :  0.9442241514839206\n",
      "- depth :  71  - train score :  0.9949983114206193  -  valid score :  0.9446084510978742\n",
      "- depth :  72  - train score :  0.9949983114206193  -  valid score :  0.9445909829336036\n",
      "- depth :  73  - train score :  0.9949983114206193  -  valid score :  0.9445211102765211\n",
      "- depth :  74  - train score :  0.9949983114206193  -  valid score :  0.9449228780547452\n",
      "- depth :  75  - train score :  0.9949983114206193  -  valid score :  0.9446433874264154\n",
      "- depth :  76  - train score :  0.9949983114206193  -  valid score :  0.9445211102765211\n",
      "- depth :  77  - train score :  0.9949983114206193  -  valid score :  0.9443114923052737\n",
      "- depth :  78  - train score :  0.9949983114206193  -  valid score :  0.9443289604695443\n",
      "- depth :  79  - train score :  0.9949983114206193  -  valid score :  0.9445735147693329\n",
      "- depth :  80  - train score :  0.9949983114206193  -  valid score :  0.9443638967980855\n",
      "- depth :  81  - train score :  0.9949983114206193  -  valid score :  0.944294024141003\n",
      "- depth :  82  - train score :  0.9949983114206193  -  valid score :  0.9444163012908974\n",
      "- depth :  83  - train score :  0.9949983114206193  -  valid score :  0.9447307282477685\n",
      "- depth :  84  - train score :  0.9949983114206193  -  valid score :  0.9443988331266268\n",
      "- depth :  85  - train score :  0.9949983114206193  -  valid score :  0.9443464286338149\n",
      "- depth :  86  - train score :  0.9949983114206193  -  valid score :  0.9445385784407917\n",
      "- depth :  87  - train score :  0.9949983114206193  -  valid score :  0.9441193424982969\n",
      "- depth :  88  - train score :  0.9949983114206193  -  valid score :  0.9445560466050623\n",
      "- depth :  89  - train score :  0.9949983114206193  -  valid score :  0.9446433874264154\n",
      "- depth :  90  - train score :  0.9949983114206193  -  valid score :  0.9441193424982969\n",
      "- depth :  91  - train score :  0.9949983114206193  -  valid score :  0.9443289604695443\n",
      "- depth :  92  - train score :  0.9949983114206193  -  valid score :  0.9444861739479798\n",
      "- depth :  93  - train score :  0.9949983114206193  -  valid score :  0.944800600904851\n",
      "- depth :  94  - train score :  0.9949983114206193  -  valid score :  0.9445036421122505\n",
      "- depth :  95  - train score :  0.9949983114206193  -  valid score :  0.9447481964120391\n",
      "- depth :  96  - train score :  0.9949983114206193  -  valid score :  0.9446957919192273\n",
      "- depth :  97  - train score :  0.9949983114206193  -  valid score :  0.9446084510978742\n",
      "- depth :  98  - train score :  0.9949983114206193  -  valid score :  0.9444163012908974\n",
      "- depth :  99  - train score :  0.9949983114206193  -  valid score :  0.9445909829336036\n",
      "- depth :  100  - train score :  0.9949983114206193  -  valid score :  0.9445211102765211\n",
      "- depth :  101  - train score :  0.9949983114206193  -  valid score :  0.9443988331266268\n",
      "- depth :  102  - train score :  0.9949983114206193  -  valid score :  0.9445560466050623\n",
      "- depth :  103  - train score :  0.9949983114206193  -  valid score :  0.9445036421122505\n",
      "- depth :  104  - train score :  0.9949983114206193  -  valid score :  0.9445735147693329\n",
      "- depth :  105  - train score :  0.9949983114206193  -  valid score :  0.9443988331266268\n",
      "- depth :  106  - train score :  0.9949983114206193  -  valid score :  0.9443114923052737\n",
      "- depth :  107  - train score :  0.9949983114206193  -  valid score :  0.944433769455168\n",
      "- depth :  108  - train score :  0.9949983114206193  -  valid score :  0.9442241514839206\n",
      "- depth :  109  - train score :  0.9949983114206193  -  valid score :  0.9444163012908974\n",
      "- depth :  110  - train score :  0.9949983114206193  -  valid score :  0.944660855590686\n",
      "- depth :  111  - train score :  0.9949983114206193  -  valid score :  0.9447307282477685\n",
      "- depth :  112  - train score :  0.9949983114206193  -  valid score :  0.9445909829336036\n",
      "- depth :  113  - train score :  0.9949983114206193  -  valid score :  0.9445036421122505\n",
      "- depth :  114  - train score :  0.9949983114206193  -  valid score :  0.944433769455168\n",
      "- depth :  115  - train score :  0.9949983114206193  -  valid score :  0.9443988331266268\n",
      "- depth :  116  - train score :  0.9949983114206193  -  valid score :  0.9444512376194386\n",
      "- depth :  117  - train score :  0.9949983114206193  -  valid score :  0.9446783237549566\n",
      "- depth :  118  - train score :  0.9949983114206193  -  valid score :  0.9445909829336036\n",
      "- depth :  119  - train score :  0.9949983114206193  -  valid score :  0.944660855590686\n"
     ]
    }
   ],
   "source": [
    "best_acc = 0.0\n",
    "depths   = range(5, 120, 1)\n",
    "for depth in depths:\n",
    "    clf = DecisionTreeClassifier(max_depth = depth, criterion =\"entropy\",class_weight={0:0.85,1:0.05,2:0.05,3:0.05})\n",
    "\n",
    "    # Train Decision Tree Classifer\n",
    "    clf = clf.fit(X_train,y_train)\n",
    "    train_score = clf.score(X_train,y_train)\n",
    "    valid_score = clf.score(X_valid,y_valid)\n",
    "    print(\"- depth : \", depth, \" - train score : \", train_score, \" -  valid score : \", valid_score)\n",
    "    \n",
    "    if best_acc < valid_score:\n",
    "        print(\"--- new best accuracy found at \" , depth , \" depths ---\")\n",
    "        best_acc = valid_score"
   ]
  },
  {
   "cell_type": "code",
   "execution_count": 171,
   "metadata": {},
   "outputs": [
    {
     "name": "stdout",
     "output_type": "stream",
     "text": [
      "- depth :  115  - train score :  0.9949983114206193  -  valid score :  0.9441542788268381\n"
     ]
    }
   ],
   "source": [
    "clf = DecisionTreeClassifier(max_depth = 115, criterion =\"entropy\", class_weight={0:0.85,1:0.05,2:0.05,3:0.05})\n",
    "\n",
    "# Train Decision Tree Classifer\n",
    "clf = clf.fit(X_train,y_train)\n",
    "clf_train_score = clf.score(X_train,y_train)\n",
    "clf_valid_score = clf.score(X_valid,y_valid)\n",
    "print(\"- depth : \", 115, \" - train score : \", clf_train_score, \" -  valid score : \", clf_valid_score)"
   ]
  },
  {
   "cell_type": "code",
   "execution_count": 195,
   "metadata": {},
   "outputs": [
    {
     "data": {
      "text/plain": [
       "array([0., 0., 2., ..., 0., 2., 2.])"
      ]
     },
     "execution_count": 195,
     "metadata": {},
     "output_type": "execute_result"
    }
   ],
   "source": [
    "y_pred = clf.predict(X_valid)\n",
    "y_pred"
   ]
  },
  {
   "cell_type": "code",
   "execution_count": 196,
   "metadata": {},
   "outputs": [
    {
     "data": {
      "text/html": [
       "<div>\n",
       "<style scoped>\n",
       "    .dataframe tbody tr th:only-of-type {\n",
       "        vertical-align: middle;\n",
       "    }\n",
       "\n",
       "    .dataframe tbody tr th {\n",
       "        vertical-align: top;\n",
       "    }\n",
       "\n",
       "    .dataframe thead th {\n",
       "        text-align: right;\n",
       "    }\n",
       "</style>\n",
       "<table border=\"1\" class=\"dataframe\">\n",
       "  <thead>\n",
       "    <tr style=\"text-align: right;\">\n",
       "      <th></th>\n",
       "      <th>0</th>\n",
       "    </tr>\n",
       "  </thead>\n",
       "  <tbody>\n",
       "    <tr>\n",
       "      <th>0.022213</th>\n",
       "      <td>Sex</td>\n",
       "    </tr>\n",
       "    <tr>\n",
       "      <th>0.163917</th>\n",
       "      <td>Age</td>\n",
       "    </tr>\n",
       "    <tr>\n",
       "      <th>0.081128</th>\n",
       "      <td>Team</td>\n",
       "    </tr>\n",
       "    <tr>\n",
       "      <th>0.082468</th>\n",
       "      <td>NOC</td>\n",
       "    </tr>\n",
       "    <tr>\n",
       "      <th>0.000873</th>\n",
       "      <td>Season</td>\n",
       "    </tr>\n",
       "    <tr>\n",
       "      <th>0.279904</th>\n",
       "      <td>City</td>\n",
       "    </tr>\n",
       "    <tr>\n",
       "      <th>0.109248</th>\n",
       "      <td>Sport</td>\n",
       "    </tr>\n",
       "    <tr>\n",
       "      <th>0.260248</th>\n",
       "      <td>Event</td>\n",
       "    </tr>\n",
       "  </tbody>\n",
       "</table>\n",
       "</div>"
      ],
      "text/plain": [
       "               0\n",
       "0.022213     Sex\n",
       "0.163917     Age\n",
       "0.081128    Team\n",
       "0.082468     NOC\n",
       "0.000873  Season\n",
       "0.279904    City\n",
       "0.109248   Sport\n",
       "0.260248   Event"
      ]
     },
     "execution_count": 196,
     "metadata": {},
     "output_type": "execute_result"
    }
   ],
   "source": [
    "importances = clf.feature_importances_\n",
    "importances =  pd.DataFrame(x_cols, importances)\n",
    "importances"
   ]
  },
  {
   "cell_type": "code",
   "execution_count": 197,
   "metadata": {},
   "outputs": [
    {
     "name": "stdout",
     "output_type": "stream",
     "text": [
      "              precision    recall  f1-score   support\n",
      "\n",
      "         0.0       0.97      0.97      0.97     48508\n",
      "         1.0       0.81      0.82      0.82      2883\n",
      "         2.0       0.80      0.80      0.80      2917\n",
      "         3.0       0.77      0.76      0.76      2939\n",
      "\n",
      "    accuracy                           0.94     57247\n",
      "   macro avg       0.84      0.84      0.84     57247\n",
      "weighted avg       0.94      0.94      0.94     57247\n",
      "\n"
     ]
    }
   ],
   "source": [
    "from sklearn.metrics import classification_report\n",
    "from sklearn import metrics\n",
    "\n",
    "print(metrics.classification_report(y_pred, y_valid))\n"
   ]
  },
  {
   "cell_type": "code",
   "execution_count": 198,
   "metadata": {},
   "outputs": [
    {
     "data": {
      "text/plain": [
       "array([[47130,   379,   454,   578],\n",
       "       [  413,  2373,    75,    62],\n",
       "       [  435,    64,  2322,    74],\n",
       "       [  530,    67,    66,  2225]], dtype=int64)"
      ]
     },
     "execution_count": 198,
     "metadata": {},
     "output_type": "execute_result"
    }
   ],
   "source": [
    "y_pred_valid = clf.predict(X_valid)\n",
    "cm = confusion_matrix(y_valid, y_pred)\n",
    "cm"
   ]
  },
  {
   "cell_type": "code",
   "execution_count": 199,
   "metadata": {},
   "outputs": [
    {
     "name": "stdout",
     "output_type": "stream",
     "text": [
      "Accuracy         :  0.8647265358883435\n",
      "Misclassfication :  0.013834786102328507\n",
      "Recall           :  0.9920225641457409\n",
      "Specificity      :  0.8517587939698492\n"
     ]
    }
   ],
   "source": [
    "accuracy          = (cm[0][0] + cm[1][1])/len(y_pred_valid)\n",
    "misclassification = (cm[0][1] + cm[1][0])/len(y_pred_valid)\n",
    "sensitivity       = (cm[0][0])/(cm[0][0] + cm[0][1])\n",
    "specificity       = (cm[1][1])/(cm[1][0] + cm[1][1])\n",
    "print(\"Accuracy         : \", accuracy)\n",
    "print(\"Misclassfication : \", misclassification)\n",
    "print(\"Recall           : \", sensitivity)\n",
    "print(\"Specificity      : \", specificity)"
   ]
  },
  {
   "cell_type": "markdown",
   "metadata": {},
   "source": [
    "Nous avons constaté qu'une profondeur d'environ 115 pouvait classifier de manière adéquate les médaillés. Cependant, le rappel élevé peut ne pas être trop mauvais ; 85 % des entrées sont des athlètes ne recevant aucune médaille. Toutefois, la précision et le score de précision pour les médailles de bronze sont les plus bas. Il est inapproprié de mal classifier les médaillés, le pourcentage de recevoir une médaille étant faible. Ainsi, ce type de précision et d'exactitude est important."
   ]
  },
  {
   "cell_type": "code",
   "execution_count": 200,
   "metadata": {},
   "outputs": [
    {
     "name": "stdout",
     "output_type": "stream",
     "text": [
      " - estimators :  5  - max depths :  90  - train score :  0.978642382177918  - valid score :  0.944660855590686\n",
      "--- new best accuracy found ---\n",
      " - estimators :  5  - max depths :  95  - train score :  0.978642382177918  - valid score :  0.944660855590686\n",
      " - estimators :  5  - max depths :  100  - train score :  0.978642382177918  - valid score :  0.944660855590686\n",
      " - estimators :  5  - max depths :  105  - train score :  0.978642382177918  - valid score :  0.944660855590686\n",
      " - estimators :  5  - max depths :  110  - train score :  0.978642382177918  - valid score :  0.944660855590686\n",
      " - estimators :  5  - max depths :  115  - train score :  0.978642382177918  - valid score :  0.944660855590686\n",
      " - estimators :  6  - max depths :  90  - train score :  0.9773497455485554  - valid score :  0.944660855590686\n",
      " - estimators :  6  - max depths :  95  - train score :  0.9773497455485554  - valid score :  0.944660855590686\n",
      " - estimators :  6  - max depths :  100  - train score :  0.9773497455485554  - valid score :  0.944660855590686\n",
      " - estimators :  6  - max depths :  105  - train score :  0.9773497455485554  - valid score :  0.944660855590686\n",
      " - estimators :  6  - max depths :  110  - train score :  0.9773497455485554  - valid score :  0.944660855590686\n",
      " - estimators :  6  - max depths :  115  - train score :  0.9773497455485554  - valid score :  0.944660855590686\n",
      " - estimators :  7  - max depths :  90  - train score :  0.983539262381945  - valid score :  0.944660855590686\n",
      " - estimators :  7  - max depths :  95  - train score :  0.983539262381945  - valid score :  0.944660855590686\n",
      " - estimators :  7  - max depths :  100  - train score :  0.983539262381945  - valid score :  0.944660855590686\n",
      " - estimators :  7  - max depths :  105  - train score :  0.983539262381945  - valid score :  0.944660855590686\n",
      " - estimators :  7  - max depths :  110  - train score :  0.983539262381945  - valid score :  0.944660855590686\n",
      " - estimators :  7  - max depths :  115  - train score :  0.983539262381945  - valid score :  0.944660855590686\n",
      " - estimators :  8  - max depths :  90  - train score :  0.9821418173772286  - valid score :  0.944660855590686\n",
      " - estimators :  8  - max depths :  95  - train score :  0.9821418173772286  - valid score :  0.944660855590686\n",
      " - estimators :  8  - max depths :  100  - train score :  0.9821418173772286  - valid score :  0.944660855590686\n",
      " - estimators :  8  - max depths :  105  - train score :  0.9821418173772286  - valid score :  0.944660855590686\n",
      " - estimators :  8  - max depths :  110  - train score :  0.9821418173772286  - valid score :  0.944660855590686\n",
      " - estimators :  8  - max depths :  115  - train score :  0.9821418173772286  - valid score :  0.944660855590686\n",
      " - estimators :  9  - max depths :  90  - train score :  0.9863690885164956  - valid score :  0.944660855590686\n",
      " - estimators :  9  - max depths :  95  - train score :  0.9863690885164956  - valid score :  0.944660855590686\n",
      " - estimators :  9  - max depths :  100  - train score :  0.9863690885164956  - valid score :  0.944660855590686\n",
      " - estimators :  9  - max depths :  105  - train score :  0.9863690885164956  - valid score :  0.944660855590686\n",
      " - estimators :  9  - max depths :  110  - train score :  0.9863690885164956  - valid score :  0.944660855590686\n",
      " - estimators :  9  - max depths :  115  - train score :  0.9863690885164956  - valid score :  0.944660855590686\n"
     ]
    }
   ],
   "source": [
    "#Random Forrest\n",
    "best_acc = 0.0\n",
    "n_estimators = range(5,10)\n",
    "max_depths   = range(90,120,5)\n",
    "\n",
    "for est in n_estimators:\n",
    "    for depth in max_depths:\n",
    "        rf = RandomForestClassifier(n_estimators = est, \n",
    "                                    max_depth = depth, \n",
    "                                    class_weight={0:0.85,1:0.05,2:0.05,3:0.05},\n",
    "                                    random_state = 42)\n",
    "        rf.fit(X_train, y_train)\n",
    "        train_score = rf.score(X_train, y_train)\n",
    "        test_score  = rf.score(X_valid, y_valid)\n",
    "        print(\" - estimators : \", est, \n",
    "              \" - max depths : \", depth, \n",
    "              \" - train score : \", train_score,\n",
    "              \" - valid score : \", valid_score)\n",
    "        \n",
    "        if best_acc < valid_score:\n",
    "            print(\"--- new best accuracy found ---\")\n",
    "            best_acc = valid_score"
   ]
  },
  {
   "cell_type": "code",
   "execution_count": 201,
   "metadata": {},
   "outputs": [
    {
     "name": "stdout",
     "output_type": "stream",
     "text": [
      " - estimators :  5  - max depths :  50  - train score :  0.978642382177918  - valid score :  0.944660855590686\n"
     ]
    }
   ],
   "source": [
    "rf = RandomForestClassifier(n_estimators = 5, \n",
    "                                    max_depth = 90, \n",
    "                                    class_weight={0:0.85,1:0.05,2:0.05,3:0.05},\n",
    "                                    random_state = 42)\n",
    "    \n",
    "rf.fit(X_train, y_train)\n",
    "train_score = rf.score(X_train, y_train)\n",
    "test_score  = rf.score(X_valid, y_valid)\n",
    "print(\" - estimators : \", 5, \n",
    "              \" - max depths : \", 50, \n",
    "              \" - train score : \", train_score,\n",
    "              \" - valid score : \", valid_score)"
   ]
  },
  {
   "cell_type": "code",
   "execution_count": 202,
   "metadata": {},
   "outputs": [
    {
     "data": {
      "text/plain": [
       "array([0., 0., 0., ..., 0., 2., 0.])"
      ]
     },
     "execution_count": 202,
     "metadata": {},
     "output_type": "execute_result"
    }
   ],
   "source": [
    "y_pred = rf.predict(X_valid)\n",
    "y_pred"
   ]
  },
  {
   "cell_type": "code",
   "execution_count": 203,
   "metadata": {},
   "outputs": [
    {
     "data": {
      "text/html": [
       "<div>\n",
       "<style scoped>\n",
       "    .dataframe tbody tr th:only-of-type {\n",
       "        vertical-align: middle;\n",
       "    }\n",
       "\n",
       "    .dataframe tbody tr th {\n",
       "        vertical-align: top;\n",
       "    }\n",
       "\n",
       "    .dataframe thead th {\n",
       "        text-align: right;\n",
       "    }\n",
       "</style>\n",
       "<table border=\"1\" class=\"dataframe\">\n",
       "  <thead>\n",
       "    <tr style=\"text-align: right;\">\n",
       "      <th></th>\n",
       "      <th>0</th>\n",
       "    </tr>\n",
       "  </thead>\n",
       "  <tbody>\n",
       "    <tr>\n",
       "      <th>0.010515</th>\n",
       "      <td>Sex</td>\n",
       "    </tr>\n",
       "    <tr>\n",
       "      <th>0.196945</th>\n",
       "      <td>Age</td>\n",
       "    </tr>\n",
       "    <tr>\n",
       "      <th>0.056048</th>\n",
       "      <td>Team</td>\n",
       "    </tr>\n",
       "    <tr>\n",
       "      <th>0.050332</th>\n",
       "      <td>NOC</td>\n",
       "    </tr>\n",
       "    <tr>\n",
       "      <th>0.000561</th>\n",
       "      <td>Season</td>\n",
       "    </tr>\n",
       "    <tr>\n",
       "      <th>0.274167</th>\n",
       "      <td>City</td>\n",
       "    </tr>\n",
       "    <tr>\n",
       "      <th>0.107747</th>\n",
       "      <td>Sport</td>\n",
       "    </tr>\n",
       "    <tr>\n",
       "      <th>0.303685</th>\n",
       "      <td>Event</td>\n",
       "    </tr>\n",
       "  </tbody>\n",
       "</table>\n",
       "</div>"
      ],
      "text/plain": [
       "               0\n",
       "0.010515     Sex\n",
       "0.196945     Age\n",
       "0.056048    Team\n",
       "0.050332     NOC\n",
       "0.000561  Season\n",
       "0.274167    City\n",
       "0.107747   Sport\n",
       "0.303685   Event"
      ]
     },
     "execution_count": 203,
     "metadata": {},
     "output_type": "execute_result"
    }
   ],
   "source": [
    "importances = rf.feature_importances_\n",
    "importances =  pd.DataFrame(x_cols, importances)\n",
    "importances"
   ]
  },
  {
   "cell_type": "code",
   "execution_count": 204,
   "metadata": {},
   "outputs": [
    {
     "name": "stdout",
     "output_type": "stream",
     "text": [
      "              precision    recall  f1-score   support\n",
      "\n",
      "         0.0       0.99      0.95      0.97     50342\n",
      "         1.0       0.72      0.86      0.78      2458\n",
      "         2.0       0.68      0.87      0.76      2276\n",
      "         3.0       0.65      0.86      0.74      2171\n",
      "\n",
      "    accuracy                           0.94     57247\n",
      "   macro avg       0.76      0.88      0.81     57247\n",
      "weighted avg       0.95      0.94      0.94     57247\n",
      "\n"
     ]
    }
   ],
   "source": [
    "print(metrics.classification_report(y_pred, y_valid))\n"
   ]
  },
  {
   "cell_type": "code",
   "execution_count": 205,
   "metadata": {},
   "outputs": [
    {
     "data": {
      "text/plain": [
       "array([[47957,   190,   191,   203],\n",
       "       [  713,  2108,    56,    46],\n",
       "       [  773,    92,  1974,    56],\n",
       "       [  899,    68,    55,  1866]], dtype=int64)"
      ]
     },
     "execution_count": 205,
     "metadata": {},
     "output_type": "execute_result"
    }
   ],
   "source": [
    "cm = confusion_matrix(y_valid, y_pred)\n",
    "cm"
   ]
  },
  {
   "cell_type": "markdown",
   "metadata": {},
   "source": [
    "\n",
    "La matrice de confusion est un outil crucial pour évaluer la performance d'un modèle de classification. Elle permet de visualiser le nombre de prédictions correctes et incorrectes faites par le modèle en comparant les prédictions avec les valeurs réelles. \n"
   ]
  },
  {
   "cell_type": "code",
   "execution_count": 183,
   "metadata": {},
   "outputs": [
    {
     "data": {
      "text/plain": [
       "array([0., 2., 0., ..., 0., 0., 0.])"
      ]
     },
     "execution_count": 183,
     "metadata": {},
     "output_type": "execute_result"
    }
   ],
   "source": [
    "#Prediction on test dataset.¶\n",
    "\n",
    "y_pred = clf.predict(X_test)\n",
    "y_pred"
   ]
  },
  {
   "cell_type": "code",
   "execution_count": 184,
   "metadata": {},
   "outputs": [
    {
     "data": {
      "text/html": [
       "<div>\n",
       "<style scoped>\n",
       "    .dataframe tbody tr th:only-of-type {\n",
       "        vertical-align: middle;\n",
       "    }\n",
       "\n",
       "    .dataframe tbody tr th {\n",
       "        vertical-align: top;\n",
       "    }\n",
       "\n",
       "    .dataframe thead th {\n",
       "        text-align: right;\n",
       "    }\n",
       "</style>\n",
       "<table border=\"1\" class=\"dataframe\">\n",
       "  <thead>\n",
       "    <tr style=\"text-align: right;\">\n",
       "      <th></th>\n",
       "      <th>0</th>\n",
       "    </tr>\n",
       "  </thead>\n",
       "  <tbody>\n",
       "    <tr>\n",
       "      <th>0.022213</th>\n",
       "      <td>Sex</td>\n",
       "    </tr>\n",
       "    <tr>\n",
       "      <th>0.163917</th>\n",
       "      <td>Age</td>\n",
       "    </tr>\n",
       "    <tr>\n",
       "      <th>0.081128</th>\n",
       "      <td>Team</td>\n",
       "    </tr>\n",
       "    <tr>\n",
       "      <th>0.082468</th>\n",
       "      <td>NOC</td>\n",
       "    </tr>\n",
       "    <tr>\n",
       "      <th>0.000873</th>\n",
       "      <td>Season</td>\n",
       "    </tr>\n",
       "    <tr>\n",
       "      <th>0.279904</th>\n",
       "      <td>City</td>\n",
       "    </tr>\n",
       "    <tr>\n",
       "      <th>0.109248</th>\n",
       "      <td>Sport</td>\n",
       "    </tr>\n",
       "    <tr>\n",
       "      <th>0.260248</th>\n",
       "      <td>Event</td>\n",
       "    </tr>\n",
       "  </tbody>\n",
       "</table>\n",
       "</div>"
      ],
      "text/plain": [
       "               0\n",
       "0.022213     Sex\n",
       "0.163917     Age\n",
       "0.081128    Team\n",
       "0.082468     NOC\n",
       "0.000873  Season\n",
       "0.279904    City\n",
       "0.109248   Sport\n",
       "0.260248   Event"
      ]
     },
     "execution_count": 184,
     "metadata": {},
     "output_type": "execute_result"
    }
   ],
   "source": [
    "importances = clf.feature_importances_\n",
    "importances =  pd.DataFrame(x_cols, importances)\n",
    "importances"
   ]
  },
  {
   "cell_type": "code",
   "execution_count": 185,
   "metadata": {},
   "outputs": [
    {
     "name": "stdout",
     "output_type": "stream",
     "text": [
      "              precision    recall  f1-score   support\n",
      "\n",
      "         0.0       0.97      0.97      0.97     48430\n",
      "         1.0       0.83      0.80      0.82      3032\n",
      "         2.0       0.80      0.79      0.79      2845\n",
      "         3.0       0.79      0.77      0.78      2941\n",
      "\n",
      "    accuracy                           0.95     57248\n",
      "   macro avg       0.85      0.83      0.84     57248\n",
      "weighted avg       0.94      0.95      0.94     57248\n",
      "\n"
     ]
    }
   ],
   "source": [
    "print(metrics.classification_report(y_pred, y_test))"
   ]
  },
  {
   "cell_type": "code",
   "execution_count": 186,
   "metadata": {},
   "outputs": [
    {
     "data": {
      "text/plain": [
       "array([[47171,   468,   451,   544],\n",
       "       [  382,  2425,    60,    48],\n",
       "       [  430,    75,  2240,    70],\n",
       "       [  447,    64,    94,  2279]], dtype=int64)"
      ]
     },
     "execution_count": 186,
     "metadata": {},
     "output_type": "execute_result"
    }
   ],
   "source": [
    "cm = confusion_matrix(y_test, y_pred)\n",
    "cm"
   ]
  },
  {
   "cell_type": "code",
   "execution_count": 190,
   "metadata": {},
   "outputs": [
    {
     "data": {
      "image/png": "[encoded data removed]",
      "text/plain": [
       "<Figure size 1000x700 with 2 Axes>"
      ]
     },
     "metadata": {},
     "output_type": "display_data"
    }
   ],
   "source": [
    "labels = [\"None\", \"Bronze\", \"Silver\", \"Gold\"]\n",
    "\n",
    "# Plotting the confusion matrix with corrected parameters\n",
    "plt.figure(figsize=(10, 7))\n",
    "sns.heatmap(cm, annot=True, fmt='d', cmap='Blues', xticklabels=labels, yticklabels=labels)\n",
    "plt.xlabel('Predicted Labels')\n",
    "plt.ylabel('True Labels')\n",
    "plt.title('Confusion Matrix')\n",
    "plt.show()\n"
   ]
  },
  {
   "cell_type": "markdown",
   "metadata": {},
   "source": [
    "### Interprétation de la Matrice de Confusion\n",
    "\n",
    "La matrice de confusion est structurée de la manière suivante :\n",
    "- Les lignes représentent les classes réelles (vraies valeurs).\n",
    "- Les colonnes représentent les classes prédites (valeurs prédites par le modèle).\n",
    "\n",
    "Les classes sont codées comme suit :\n",
    "- 0 : Pas de médaille\n",
    "- 1 : Médaille d'Or\n",
    "- 2 : Médaille d'Argent\n",
    "- 3 : Médaille de Bronze\n",
    "\n",
    "#### Détails pour chaque classe :\n",
    "\n",
    "1. **Classe 0 (Pas de médaille) :**\n",
    "   - Vraiment Pas de médaille (0) : 47,130 fois correctement prédit\n",
    "   - Prédit comme Or (1) : 379 fois incorrectement prédit\n",
    "   - Prédit comme Argent (2) : 454 fois incorrectement prédit\n",
    "   - Prédit comme Bronze (3) : 578 fois incorrectement prédit\n",
    "\n",
    "   **Interprétation :**\n",
    "   - Le modèle a correctement identifié 47,130 athlètes qui n'ont pas gagné de médaille.\n",
    "   - Le modèle a mal classé 1411 athlètes qui n'ont pas gagné de médaille comme ayant gagné une médaille.\n",
    "\n",
    "2. **Classe 1 (Médaille d'Or) :**\n",
    "   - Vraiment Or (1) : 2,373 fois correctement prédit\n",
    "   - Prédit comme Pas de médaille (0) : 413 fois incorrectement prédit\n",
    "   - Prédit comme Argent (2) : 75 fois incorrectement prédit\n",
    "   - Prédit comme Bronze (3) : 62 fois incorrectement prédit\n",
    "\n",
    "   **Interprétation :**\n",
    "   - Le modèle a correctement identifié 2,373 athlètes ayant gagné une médaille d'Or.\n",
    "   - Le modèle a mal classé 550 athlètes ayant gagné une médaille d'Or comme ayant gagné une autre médaille ou aucune médaille.\n",
    "\n",
    "3. **Classe 2 (Médaille d'Argent) :**\n",
    "   - Vraiment Argent (2) : 2,322 fois correctement prédit\n",
    "   - Prédit comme Pas de médaille (0) : 435 fois incorrectement prédit\n",
    "   - Prédit comme Or (1) : 64 fois incorrectement prédit\n",
    "   - Prédit comme Bronze (3) : 74 fois incorrectement prédit\n",
    "\n",
    "   **Interprétation :**\n",
    "   - Le modèle a correctement identifié 2,322 athlètes ayant gagné une médaille d'Argent.\n",
    "   - Le modèle a mal classé 573 athlètes ayant gagné une médaille d'Argent comme ayant gagné une autre médaille ou aucune médaille.\n",
    "\n",
    "4. **Classe 3 (Médaille de Bronze) :**\n",
    "   - Vraiment Bronze (3) : 2,225 fois correctement prédit\n",
    "   - Prédit comme Pas de médaille (0) : 530 fois incorrectement prédit\n",
    "   - Prédit comme Or (1) : 67 fois incorrectement prédit\n",
    "   - Prédit comme Argent (2) : 66 fois incorrectement prédit\n",
    "\n",
    "   **Interprétation :**\n",
    "   - Le modèle a correctement identifié 2,225 athlètes ayant gagné une médaille de Bronze.\n",
    "   - Le modèle a mal classé 663 athlètes ayant gagné une médaille de Bronze comme ayant gagné une autre médaille ou aucune médaille.\n",
    "\n",
    "### Synthèse :\n",
    "\n",
    "- **Précision pour chaque classe :**\n",
    "  - **Classe 0 (Pas de médaille)** : La majorité des prédictions sont correctes, avec un faible taux de fausses prédictions pour les médailles.\n",
    "  - **Classe 1 (Or)**, **Classe 2 (Argent)**, **Classe 3 (Bronze)** : Les prédictions sont généralement bonnes, mais il existe un certain nombre de fausses classifications, notamment avec des prédictions de non-médailles.\n",
    "\n",
    "- **Points forts du modèle :**\n",
    "  - Très bon à prédire les athlètes qui n'ont pas gagné de médaille.\n",
    "  - Bonne précision pour les médailles, bien que légèrement moins bonne que pour les non-médaillés.\n",
    "\n",
    "- **Axes d'amélioration :**\n",
    "  - Réduire les erreurs de fausses classifications des athlètes qui gagnent des médailles.\n",
    "\n",
    "### Conclusion :\n",
    "\n",
    "La matrice de confusion montre que le modèle de classification fonctionne bien, avec une forte capacité à prédire les athlètes ne gagnant pas de médaille et une bonne performance pour prédire les médaillés. Il y a encore place à l'amélioration, surtout pour minimiser les erreurs entre les différentes catégories de médailles."
   ]
  },
  {
   "cell_type": "code",
   "execution_count": 187,
   "metadata": {},
   "outputs": [
    {
     "name": "stdout",
     "output_type": "stream",
     "text": [
      "Accuracy         :  0.8663359418669648\n",
      "Misclassfication :  0.014847680268306317\n",
      "Recall           :  0.9901761162073092\n",
      "Specificity      :  0.8639116494478091\n"
     ]
    }
   ],
   "source": [
    "accuracy          = (cm[0][0] + cm[1][1])/len(y_pred)\n",
    "misclassification = (cm[0][1] + cm[1][0])/len(y_pred)\n",
    "sensitivity       = (cm[0][0])/(cm[0][0] + cm[0][1])\n",
    "specificity       = (cm[1][1])/(cm[1][0] + cm[1][1])\n",
    "print(\"Accuracy         : \", accuracy)\n",
    "print(\"Misclassfication : \", misclassification)\n",
    "print(\"Recall           : \", sensitivity)\n",
    "print(\"Specificity      : \", specificity)"
   ]
  },
  {
   "cell_type": "markdown",
   "metadata": {},
   "source": [
    "### classification et prédiction :\n",
    "\n",
    "1. **Objectif :**\n",
    "   - L'objectif est de prédire la probabilité qu'un athlète gagne une médaille (Or, Argent, Bronze) ou non, en utilisant un modèle de classification basé sur les données fournies.\n",
    "\n",
    "2. **Séparation des Données :**\n",
    "   - Les données ont été séparées en ensembles d'entraînement, de validation et de test :\n",
    "     - `X_train` : 171742 enregistrements pour l'entraînement\n",
    "     - `y_train` : 171742 labels pour l'entraînement\n",
    "     - `X_valid` : 114495 enregistrements pour la validation\n",
    "     - `y_valid` : 114495 labels pour la validation\n",
    "     - `X_test` : 57248 enregistrements pour le test\n",
    "     - `y_test` : 57248 labels pour le test\n",
    "\n",
    "3. **Variables Utilisées :**\n",
    "   - Les variables utilisées pour l'entraînement du modèle sont :\n",
    "     - `Sex` (Sexe)\n",
    "     - `Age` (Âge)\n",
    "     - `Team` (Équipe)\n",
    "     - `NOC` (Code du Comité National Olympique)\n",
    "     - `Season` (Saison)\n",
    "     - `City` (Ville)\n",
    "     - `Sport` (Sport)\n",
    "     - `Event` (Événement)\n",
    "     - `Medal` (Médaille) est la variable cible\n",
    "\n",
    "4. **Préparation des Données :**\n",
    "   - Les valeurs manquantes dans la colonne `Medal` ont été remplacées par 0 (aucune médaille), et les médailles ont été codées numériquement :\n",
    "     - `None` (0), `Gold` (1), `Silver` (2), `Bronze` (3)\n",
    "\n",
    "5. **Entraînement du Modèle :**\n",
    "   - Utilisation d'un modèle de classification par arbre de décision.\n",
    "   - Tests avec différentes profondeurs d'arbre (de 2 à 120) et différents nombres d'estimateurs.\n",
    "   - Sélection de la meilleure profondeur d'arbre pour optimiser la précision sur l'ensemble de validation.\n",
    "\n",
    "6. **Résultats de l'Entraînement :**\n",
    "   - Meilleure précision obtenue avec une profondeur de 120 et 9 estimateurs.\n",
    "   - Les résultats montrent une haute précision à chaque niveau de profondeur après un certain point, avec une légère amélioration progressive.\n",
    "   - Par exemple, à une profondeur de 16 :\n",
    "     - Précision d'entraînement : 0.9052\n",
    "     - Précision de validation : 0.8912\n",
    "   - À une profondeur de 115 :\n",
    "     - Précision d'entraînement : 0.9949\n",
    "     - Précision de validation : 0.9446\n",
    "\n",
    "7. **Importance des Variables :**\n",
    "   - `Event` (30.37%)\n",
    "   - `City` (27.42%)\n",
    "   - `Age` (16.39%)\n",
    "   - `Sport` (10.92%)\n",
    "   - Les autres variables ont une importance relativement faible mais contribuent néanmoins au modèle.\n",
    "\n",
    "8. **Évaluation du Modèle :**\n",
    "   - Précision globale : 0.94\n",
    "   - Précision, rappel et score F1 pour chaque classe (0 : Pas de médaille, 1 : Or, 2 : Argent, 3 : Bronze) :\n",
    "     - Classe 0 (Pas de médaille) : Précision de 97%, rappel de 97%, F1-score de 97%\n",
    "     - Classe 1 (Or) : Précision de 81%, rappel de 82%, F1-score de 82%\n",
    "     - Classe 2 (Argent) : Précision de 80%, rappel de 80%, F1-score de 80%\n",
    "     - Classe 3 (Bronze) : Précision de 77%, rappel de 76%, F1-score de 76%\n",
    "   - Matrice de confusion :\n",
    "     ```\n",
    "     array([[47130,   379,   454,   578],\n",
    "            [  413,  2373,    75,    62],\n",
    "            [  435,    64,  2322,    74],\n",
    "            [  530,    67,    66,  2225]], dtype=int64)\n",
    "     ```\n",
    "\n",
    "9. **Conclusion :**\n",
    "   - Le modèle est très performant pour prédire les athlètes qui ne gagnent pas de médaille (classe 0) avec une haute précision.\n",
    "   - La performance est légèrement moindre pour prédire les types de médailles (classes 1, 2, 3) mais reste très acceptable.\n",
    "   - L'importance des variables montre que le type d'événement et la ville des jeux sont les plus déterminants pour prédire la médaille.\n",
    "\n",
    "### Résumé Final :\n",
    "\n",
    "Le modèle de classification basé sur un arbre de décision a montré une grande efficacité pour prédire la possibilité qu'un athlète gagne une médaille, avec une précision globale de 94%. Les variables les plus importantes pour la prédiction sont l'événement, la ville et l'âge de l'athlète. La précision est particulièrement élevée pour les athlètes qui ne gagnent pas de médaille, tandis que les prédictions pour les types de médailles montrent également de bonnes performances avec une précision satisfaisante."
   ]
  }
 ],
 "metadata": {
  "kernelspec": {
   "display_name": "Python 3",
   "language": "python",
   "name": "python3"
  },
  "language_info": {
   "codemirror_mode": {
    "name": "ipython",
    "version": 3
   },
   "file_extension": ".py",
   "mimetype": "text/x-python",
   "name": "python",
   "nbconvert_exporter": "python",
   "pygments_lexer": "ipython3",
   "version": "3.11.9"
  }
 },
 "nbformat": 4,
 "nbformat_minor": 2
}
