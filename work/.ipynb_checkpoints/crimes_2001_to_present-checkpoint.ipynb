{
 "cells": [
  {
   "cell_type": "code",
   "execution_count": 2,
   "id": "3d9d7fb7-fe3b-444e-90b7-573d63592a01",
   "metadata": {},
   "outputs": [],
   "source": [
    "from pyspark.sql import SparkSession\n",
    "from pymongo import MongoClient\n",
    "from pyspark.sql.functions import split, regexp_replace, upper, col, when, median"
   ]
  },
  {
   "cell_type": "code",
   "execution_count": 3,
   "id": "e9763ec7-d5b7-446e-9f58-36337d1929f9",
   "metadata": {},
   "outputs": [],
   "source": [
    "spark = SparkSession.builder.master(\"local[*]\").config(\"spark.jars\", \"/postgresql-42.7.1.jar\")\\\n",
    "     .config(\"spark.driver.memory\", \"10g\")\\\n",
    "     .config(\"spark.driver.extraClassPath\", \"/postgresql-42.7.1.jar\")\\\n",
    "     .config(\"spark.executor.extraClassPath\", \"/postgresql-42.7.1.jar\")\\\n",
    "     .config(\"spark.repl.local.jars\", \"/postgresql-42.7.1.jar\")\\\n",
    "     .getOrCreate()"
   ]
  },
  {
   "cell_type": "code",
   "execution_count": 11,
   "id": "9a07e359-444d-4779-adb9-3407dbeef04a",
   "metadata": {},
   "outputs": [],
   "source": [
    "crimes_df = spark.read.csv(\"hdfs://namenode:9000/data/staging/Crimes_2001_to_Present.csv\", header=True, inferSchema=True)"
   ]
  },
  {
   "cell_type": "markdown",
   "id": "91c44620",
   "metadata": {},
   "source": [
    "* Conclusion : Oui on peut conclure quutiliser spark dans ce cas est mieux"
   ]
  },
  {
   "cell_type": "code",
   "execution_count": 14,
   "id": "fb733503-6bde-44fe-bade-57afde753765",
   "metadata": {},
   "outputs": [
    {
     "name": "stdout",
     "output_type": "stream",
     "text": [
      "+--------+-----------+----------------------+-------------------------+----+------------+-------------------------------------------------------+--------------------+------+--------+----+--------+----+--------------+--------+------------+------------+----+----------------------+------------+-------------+-----------------------------+\n",
      "|ID      |Case Number|Date                  |Block                    |IUCR|Primary Type|Description                                            |Location Description|Arrest|Domestic|Beat|District|Ward|Community Area|FBI Code|X Coordinate|Y Coordinate|Year|Updated On            |Latitude    |Longitude    |Location                     |\n",
      "+--------+-----------+----------------------+-------------------------+----+------------+-------------------------------------------------------+--------------------+------+--------+----+--------+----+--------------+--------+------------+------------+----+----------------------+------------+-------------+-----------------------------+\n",
      "|5741943 |HN549294   |08/25/2007 09:22:18 AM|074XX N ROGERS AVE       |0560|ASSAULT     |SIMPLE                                                 |OTHER               |false |false   |2422|24      |49  |1             |08A     |NULL        |NULL        |2007|08/17/2015 03:03:40 PM|NULL        |NULL         |NULL                         |\n",
      "|25953   |JE240540   |05/24/2021 03:06:00 PM|020XX N LARAMIE AVE      |0110|HOMICIDE    |FIRST DEGREE MURDER                                    |STREET              |true  |false   |2515|25      |36  |19            |01A     |1141387     |1913179     |2021|11/18/2023 03:39:49 PM|41.917838056|-87.755968972|(41.917838056, -87.755968972)|\n",
      "|26038   |JE279849   |06/26/2021 09:24:00 AM|062XX N MC CORMICK RD    |0110|HOMICIDE    |FIRST DEGREE MURDER                                    |PARKING LOT         |true  |false   |1711|17      |50  |13            |01A     |1152781     |1941458     |2021|11/18/2023 03:39:49 PM|41.995219444|-87.713354912|(41.995219444, -87.713354912)|\n",
      "|13279676|JG507211   |11/09/2023 07:30:00 AM|019XX W BYRON ST         |0620|BURGLARY    |UNLAWFUL ENTRY                                         |APARTMENT           |false |false   |1922|19      |47  |5             |05      |1162518     |1925906     |2023|11/18/2023 03:39:49 PM|41.952345086|-87.677975059|(41.952345086, -87.677975059)|\n",
      "|13274752|JG501049   |11/12/2023 07:59:00 AM|086XX S COTTAGE GROVE AVE|0454|BATTERY     |AGGRAVATED P.O. - HANDS, FISTS, FEET, NO / MINOR INJURY|SMALL RETAIL STORE  |true  |false   |632 |6       |6   |44            |08B     |1183071     |1847869     |2023|12/09/2023 03:41:24 PM|41.737750767|-87.604855911|(41.737750767, -87.604855911)|\n",
      "+--------+-----------+----------------------+-------------------------+----+------------+-------------------------------------------------------+--------------------+------+--------+----+--------+----+--------------+--------+------------+------------+----+----------------------+------------+-------------+-----------------------------+\n",
      "only showing top 5 rows\n",
      "\n"
     ]
    }
   ],
   "source": [
    "crimes_df.show(5, truncate=False)"
   ]
  },
  {
   "cell_type": "code",
   "execution_count": null,
   "id": "758d224f-55a7-4d92-90fa-77f4c06444a6",
   "metadata": {},
   "outputs": [],
   "source": []
  }
 ],
 "metadata": {
  "kernelspec": {
   "display_name": "Python 3 (ipykernel)",
   "language": "python",
   "name": "python3"
  },
  "language_info": {
   "codemirror_mode": {
    "name": "ipython",
    "version": 3
   },
   "file_extension": ".py",
   "mimetype": "text/x-python",
   "name": "python",
   "nbconvert_exporter": "python",
   "pygments_lexer": "ipython3",
   "version": "3.11.6"
  }
 },
 "nbformat": 4,
 "nbformat_minor": 5
}
