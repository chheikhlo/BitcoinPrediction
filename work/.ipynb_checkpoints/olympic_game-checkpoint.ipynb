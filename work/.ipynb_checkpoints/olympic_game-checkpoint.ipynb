{
 "cells": [
  {
   "cell_type": "markdown",
   "id": "2073ac21",
   "metadata": {},
   "source": [
    "# Jeux olympiques d'été et d'hiver, 1896-2022\n",
    "\n",
    "# CONTEXT :\n",
    "\n",
    "* Nous souhaitons menez une Analyse sur cet ensemble de données historiques sur les Jeux olympiques, comprenant tous les Jeux d'Athènes 1896 à Pékin 2022. Le jeu de données comprend les résultats, les médailles, les athlètes et les hôtes."
   ]
  },
  {
   "cell_type": "code",
   "execution_count": 47,
   "id": "7bdb44c2-7cb5-4f9e-8a27-afa3dfd4f086",
   "metadata": {},
   "outputs": [],
   "source": [
    "from pyspark.sql import SparkSession\n",
    "from pymongo import MongoClient\n",
    "from pyspark.sql.functions import split, regexp_replace, upper, col, when, median"
   ]
  },
  {
   "cell_type": "markdown",
   "id": "3ddd1d02",
   "metadata": {},
   "source": [
    "* Créer une session Spark avec la configuration du connector permettant d'intégrer Spark avec MongoDB"
   ]
  },
  {
   "cell_type": "code",
   "execution_count": 48,
   "id": "baf64251-bbd4-4925-befa-d6e121cd3c75",
   "metadata": {},
   "outputs": [],
   "source": [
    "spark = SparkSession.builder.master(\"local[*]\").config(\"spark.jars\", \"/postgresql-42.7.1.jar\")\\\n",
    "     .config(\"spark.driver.memory\", \"10g\")\\\n",
    "     .config(\"spark.driver.extraClassPath\", \"/postgresql-42.7.1.jar\")\\\n",
    "     .config(\"spark.executor.extraClassPath\", \"/postgresql-42.7.1.jar\")\\\n",
    "     .config(\"spark.repl.local.jars\", \"/postgresql-42.7.1.jar\")\\\n",
    "     .getOrCreate()"
   ]
  },
  {
   "cell_type": "markdown",
   "id": "9e3ee080",
   "metadata": {},
   "source": [
    "* Charger les données du fichier olympic__hosts.csv et olympic__medals.csv depuis Hdfs avec Spark"
   ]
  },
  {
   "cell_type": "code",
   "execution_count": 49,
   "id": "e4575465-d90c-4eca-b6ba-83d1d5c8753b",
   "metadata": {},
   "outputs": [],
   "source": [
    "hosts_df = spark.read.csv(\"hdfs://namenode:9000/data/staging/olympic__hosts.csv\", header=True, inferSchema=True)"
   ]
  },
  {
   "cell_type": "code",
   "execution_count": 50,
   "id": "ad2af27f-6827-475d-846e-4827299a6bb7",
   "metadata": {},
   "outputs": [],
   "source": [
    "medals_df = spark.read.csv(\"hdfs://namenode:9000/data/staging/olympic__medals.csv\", header=True, inferSchema=True)"
   ]
  },
  {
   "cell_type": "code",
   "execution_count": 51,
   "id": "91bd74fb-ed1a-4a97-b810-9a4e7a524f5f",
   "metadata": {},
   "outputs": [],
   "source": [
    "athletes_df = spark.read.csv(\"hdfs://namenode:9000/data/staging/olympic_athletes.csv\", header=True, inferSchema=True)"
   ]
  },
  {
   "cell_type": "markdown",
   "id": "437cdae7",
   "metadata": {},
   "source": [
    "* Transfert de hosts_df et medals_df propres dans Hdfs archive"
   ]
  },
  {
   "cell_type": "code",
   "execution_count": 52,
   "id": "824df639-e62b-42ff-b876-80b02a7e8ed7",
   "metadata": {},
   "outputs": [],
   "source": [
    "# Enregistrement des données traitées dans HDFS\n",
    "hosts_df.write.mode(\"overwrite\").parquet(\"hdfs://namenode:9000/data/archive/cleaned_hosts\")"
   ]
  },
  {
   "cell_type": "code",
   "execution_count": 53,
   "id": "6b5a9948-5d11-4b22-9fc8-f5f96f5ac0e3",
   "metadata": {},
   "outputs": [],
   "source": [
    "# Enregistrement des données traitées dans HDFS\n",
    "medals_df.write.mode(\"overwrite\").parquet(\"hdfs://namenode:9000/data/archive/cleaned_medals\")"
   ]
  },
  {
   "cell_type": "code",
   "execution_count": 54,
   "id": "fb459392-583d-44b8-ac98-f00bd41875b3",
   "metadata": {},
   "outputs": [],
   "source": [
    "# Enregistrement des données traitées dans HDFS\n",
    "athletes_df.write.mode(\"overwrite\").parquet(\"hdfs://namenode:9000/data/archive/cleaned_athletes\")"
   ]
  },
  {
   "cell_type": "code",
   "execution_count": 55,
   "id": "d8ab4588-3dae-4a79-9ead-319e8785ef5a",
   "metadata": {},
   "outputs": [],
   "source": [
    "jdbc_url = \"jdbc:postgresql://postgresql-olympicgames.alwaysdata.net:5432/olympicgames_db\"\n",
    "connection_properties = {\n",
    "    \"user\": \"olympicgames\",\n",
    "    \"password\": \"ipssi2024\",\n",
    "    \"driver\": \"org.postgresql.Driver\"\n",
    "}"
   ]
  },
  {
   "cell_type": "markdown",
   "id": "4ab1c414",
   "metadata": {},
   "source": [
    "* Transfert des autres données propres 'olympic_athletes.csv', 'olympic_medals.csv', 'olympic_hosts.csv' vers le Service Mongodb pour la partie Monitoring avec Streamlit"
   ]
  },
  {
   "cell_type": "code",
   "execution_count": 56,
   "id": "e4536f90-7044-4e8e-8824-628a202e0c2b",
   "metadata": {},
   "outputs": [],
   "source": [
    "hosts_df.write.jdbc(\n",
    "        url=jdbc_url,\n",
    "        table=\"hosts\",\n",
    "        mode=\"overwrite\", \n",
    "        properties=connection_properties\n",
    ")"
   ]
  },
  {
   "cell_type": "code",
   "execution_count": 57,
   "id": "aaf9e19d-d796-47a7-b909-41a8d2ef3c4a",
   "metadata": {},
   "outputs": [],
   "source": [
    "medals_df.write.jdbc(\n",
    "        url=jdbc_url,\n",
    "        table=\"medals\",\n",
    "        mode=\"overwrite\", \n",
    "        properties=connection_properties\n",
    ")"
   ]
  },
  {
   "cell_type": "code",
   "execution_count": 58,
   "id": "d8d5e77d-afd6-4dbd-aa8f-687279e2cc15",
   "metadata": {},
   "outputs": [],
   "source": [
    "medals_df.write.jdbc(\n",
    "        url=jdbc_url,\n",
    "        table=\"athletes\",\n",
    "        mode=\"overwrite\", \n",
    "        properties=connection_properties\n",
    ")"
   ]
  },
  {
   "cell_type": "code",
   "execution_count": null,
   "id": "71f59e47-7626-4810-89b0-cb89b1d2c1dd",
   "metadata": {},
   "outputs": [],
   "source": []
  }
 ],
 "metadata": {
  "kernelspec": {
   "display_name": "Python 3 (ipykernel)",
   "language": "python",
   "name": "python3"
  },
  "language_info": {
   "codemirror_mode": {
    "name": "ipython",
    "version": 3
   },
   "file_extension": ".py",
   "mimetype": "text/x-python",
   "name": "python",
   "nbconvert_exporter": "python",
   "pygments_lexer": "ipython3",
   "version": "3.11.6"
  }
 },
 "nbformat": 4,
 "nbformat_minor": 5
}
