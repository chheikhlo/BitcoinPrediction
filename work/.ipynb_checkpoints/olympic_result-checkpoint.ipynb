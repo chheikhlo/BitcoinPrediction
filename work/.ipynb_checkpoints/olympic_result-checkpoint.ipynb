{
 "cells": [
  {
   "cell_type": "markdown",
   "id": "2073ac21",
   "metadata": {},
   "source": [
    "# Jeux olympiques d'été et d'hiver, 1896-2022\n",
    "\n",
    "# CONTEXT :\n",
    "\n",
    "* Nous souhaitons menez une Analyse sur cet ensemble de données historiques sur les Jeux olympiques, comprenant tous les Jeux d'Athènes 1896 à Pékin 2022. Le jeu de données comprend les résultats, les médailles, les athlètes et les hôtes."
   ]
  },
  {
   "cell_type": "code",
   "execution_count": 1,
   "id": "7bdb44c2-7cb5-4f9e-8a27-afa3dfd4f086",
   "metadata": {},
   "outputs": [],
   "source": [
    "from pyspark.sql import SparkSession\n",
    "from pymongo import MongoClient\n",
    "import json\n",
    "from pyspark.sql.functions import split, regexp_replace, upper, col, when, median"
   ]
  },
  {
   "cell_type": "markdown",
   "id": "3ddd1d02",
   "metadata": {},
   "source": [
    "* Créer une session Spark avec la configuration du connector permettant d'intégrer Spark avec MongoDB"
   ]
  },
  {
   "cell_type": "code",
   "execution_count": 2,
   "id": "baf64251-bbd4-4925-befa-d6e121cd3c75",
   "metadata": {},
   "outputs": [],
   "source": [
    "spark = SparkSession.builder.master(\"local[*]\").config(\"spark.jars\", \"/postgresql-42.7.1.jar\")\\\n",
    "     .config(\"spark.driver.memory\", \"10g\")\\\n",
    "     .config(\"spark.driver.extraClassPath\", \"/postgresql-42.7.1.jar\")\\\n",
    "     .config(\"spark.executor.extraClassPath\", \"/postgresql-42.7.1.jar\")\\\n",
    "     .config(\"spark.repl.local.jars\", \"/postgresql-42.7.1.jar\")\\\n",
    "     .getOrCreate()"
   ]
  },
  {
   "cell_type": "markdown",
   "id": "9e3ee080",
   "metadata": {},
   "source": [
    "* Charger les données du fichier olympic_hosts.csv depuis Hdfs avec Spark"
   ]
  },
  {
   "cell_type": "code",
   "execution_count": 3,
   "id": "e4575465-d90c-4eca-b6ba-83d1d5c8753b",
   "metadata": {},
   "outputs": [],
   "source": [
    "results_df = spark.read.csv(\"hdfs://namenode:9000/data/staging/olympic_results.csv\", header=True, inferSchema=True)"
   ]
  },
  {
   "cell_type": "code",
   "execution_count": 4,
   "id": "097a6bfa-04ea-41e9-acee-0c474cc6bb29",
   "metadata": {},
   "outputs": [
    {
     "name": "stdout",
     "output_type": "stream",
     "text": [
      "+----------------+-------------+------------+----------------+----------+----------------------------------------------------------------------------------------------------------------------------------------------------------+----------+-------------+-------------+------------+---------------------+-----------+-----------------+----------+----------+\n",
      "|discipline_title|event_title  |slug_game   |participant_type|medal_type|athletes                                                                                                                                                  |rank_equal|rank_position|country_name |country_code|country_3_letter_code|athlete_url|athlete_full_name|value_unit|value_type|\n",
      "+----------------+-------------+------------+----------------+----------+----------------------------------------------------------------------------------------------------------------------------------------------------------+----------+-------------+-------------+------------+---------------------+-----------+-----------------+----------+----------+\n",
      "|Curling         |Mixed Doubles|beijing-2022|GameTeam        |GOLD      |[('Stefania CONSTANTINI', 'https://olympics.com/en/athletes/stefania-constantini'), ('Amos MOSANER', 'https://olympics.com/en/athletes/amos-mosaner')]    |False     |1            |Italy        |IT          |ITA                  |NULL       |NULL             |NULL      |NULL      |\n",
      "|Curling         |Mixed Doubles|beijing-2022|GameTeam        |SILVER    |[('Kristin SKASLIEN', 'https://olympics.com/en/athletes/kristin-skaslien'), ('Magnus NEDREGOTTEN', 'https://olympics.com/en/athletes/magnus-nedregotten')]|False     |2            |Norway       |NO          |NOR                  |NULL       |NULL             |NULL      |NULL      |\n",
      "|Curling         |Mixed Doubles|beijing-2022|GameTeam        |BRONZE    |[('Almida DE VAL', 'https://olympics.com/en/athletes/almida-de-val'), ('Oskar ERIKSSON', 'https://olympics.com/en/athletes/oskar-eriksson')]              |False     |3            |Sweden       |SE          |SWE                  |NULL       |NULL             |NULL      |NULL      |\n",
      "|Curling         |Mixed Doubles|beijing-2022|GameTeam        |NULL      |[('Jennifer DODDS', 'https://olympics.com/en/athletes/jennifer-dodds'), ('Bruce MOUAT', 'https://olympics.com/en/athletes/bruce-mouat')]                  |False     |4            |Great Britain|GB          |GBR                  |NULL       |NULL             |NULL      |NULL      |\n",
      "|Curling         |Mixed Doubles|beijing-2022|GameTeam        |NULL      |[('Rachel HOMAN', 'https://olympics.com/en/athletes/rachel-homan'), ('John MORRIS', 'https://olympics.com/en/athletes/john-morris')]                      |False     |5            |Canada       |CA          |CAN                  |NULL       |NULL             |NULL      |NULL      |\n",
      "+----------------+-------------+------------+----------------+----------+----------------------------------------------------------------------------------------------------------------------------------------------------------+----------+-------------+-------------+------------+---------------------+-----------+-----------------+----------+----------+\n",
      "only showing top 5 rows\n",
      "\n"
     ]
    }
   ],
   "source": [
    "# premier 5 lignes avant nettoyage\n",
    "results_df.show(5, truncate=False)"
   ]
  },
  {
   "cell_type": "code",
   "execution_count": 5,
   "id": "0aa6a536-2a9d-4977-bf59-0e6182042f2c",
   "metadata": {},
   "outputs": [
    {
     "name": "stdout",
     "output_type": "stream",
     "text": [
      "Valeurs manquantes :\n",
      "discipline_title : 0\n",
      "event_title : 0\n",
      "slug_game : 0\n",
      "participant_type : 0\n",
      "medal_type : 119764\n",
      "athletes : 128753\n",
      "rank_equal : 108198\n",
      "rank_position : 2803\n",
      "country_name : 0\n",
      "country_code : 4592\n",
      "country_3_letter_code : 1\n",
      "athlete_url : 24213\n",
      "athlete_full_name : 18221\n",
      "value_unit : 73435\n",
      "value_type : 64798\n"
     ]
    }
   ],
   "source": [
    "missing_values = [results_df.where(col(c).isNull()).count() for c in results_df.columns]\n",
    "\n",
    "# Créer un dict avec les colonnes et leurs nombres de valeurs nulles\n",
    "missing_values_dict = dict(zip(results_df.columns, missing_values))\n",
    "\n",
    "# Afficher le résultat\n",
    "print(\"Valeurs manquantes :\")\n",
    "for col_name, missing_count in missing_values_dict.items():\n",
    "    print(col_name, \":\", missing_count)"
   ]
  },
  {
   "cell_type": "code",
   "execution_count": 6,
   "id": "93fd3c27-24dd-4ac9-af40-3b6df602de6f",
   "metadata": {},
   "outputs": [],
   "source": [
    "# Nettoyage des données\n",
    "# Supprimer les colonnes inutiles\n",
    "columns_to_drop = [\"value_unit\", \"value_type\", \"athlete_url\", \"country_3_letter_code\", \"country_code\"]\n",
    "results_cleaned_df = results_df.drop(*columns_to_drop)"
   ]
  },
  {
   "cell_type": "code",
   "execution_count": 7,
   "id": "411d7ed4-0608-4616-bbbf-640b3741db0b",
   "metadata": {},
   "outputs": [],
   "source": [
    "# Fractionner la colonne 'athletes' en deux colonnes distinctes en supprimant les URL\n",
    "results_cleaned_df = results_cleaned_df.withColumn(\"athlete_1\", split(split(col(\"athletes\"), \"https://olympics.com/en/athletes/\")[1], \"'\")[0]) \\\n",
    "                                       .withColumn(\"athlete_2\", split(split(col(\"athletes\"), \"https://olympics.com/en/athletes/\")[2], \"'\")[0])"
   ]
  },
  {
   "cell_type": "code",
   "execution_count": 8,
   "id": "a05abf15-ed03-4873-a179-30437268066e",
   "metadata": {},
   "outputs": [],
   "source": [
    "# Supprimer la colonne 'athletes' désormais inutile\n",
    "results_cleaned_df = results_cleaned_df.drop(\"athletes\")"
   ]
  },
  {
   "cell_type": "code",
   "execution_count": 9,
   "id": "91bb4329-84a0-4b4e-b2b6-d2946dd327f8",
   "metadata": {},
   "outputs": [
    {
     "name": "stdout",
     "output_type": "stream",
     "text": [
      "Cleaned data:\n",
      "+----------------+-------------+------------+----------------+----------+----------+-------------+-------------+-----------------+--------------------+------------------+\n",
      "|discipline_title|event_title  |slug_game   |participant_type|medal_type|rank_equal|rank_position|country_name |athlete_full_name|athlete_1           |athlete_2         |\n",
      "+----------------+-------------+------------+----------------+----------+----------+-------------+-------------+-----------------+--------------------+------------------+\n",
      "|Curling         |Mixed Doubles|beijing-2022|GameTeam        |GOLD      |False     |1            |Italy        |NULL             |stefania-constantini|amos-mosaner      |\n",
      "|Curling         |Mixed Doubles|beijing-2022|GameTeam        |SILVER    |False     |2            |Norway       |NULL             |kristin-skaslien    |magnus-nedregotten|\n",
      "|Curling         |Mixed Doubles|beijing-2022|GameTeam        |BRONZE    |False     |3            |Sweden       |NULL             |almida-de-val       |oskar-eriksson    |\n",
      "|Curling         |Mixed Doubles|beijing-2022|GameTeam        |NULL      |False     |4            |Great Britain|NULL             |jennifer-dodds      |bruce-mouat       |\n",
      "|Curling         |Mixed Doubles|beijing-2022|GameTeam        |NULL      |False     |5            |Canada       |NULL             |rachel-homan        |john-morris       |\n",
      "+----------------+-------------+------------+----------------+----------+----------+-------------+-------------+-----------------+--------------------+------------------+\n",
      "only showing top 5 rows\n",
      "\n"
     ]
    }
   ],
   "source": [
    "# Afficher les données nettoyées\n",
    "print(\"Cleaned data:\")\n",
    "results_cleaned_df.show(5, truncate=False)"
   ]
  },
  {
   "cell_type": "code",
   "execution_count": 10,
   "id": "16f45ad7-77e6-4c09-9090-fe4d911ffbfc",
   "metadata": {},
   "outputs": [],
   "source": [
    "# Mettre les noms des athlètes en majuscules et supprimer les tirets\n",
    "results_cleaned_df = results_cleaned_df.withColumn(\"athlete_1\", upper(regexp_replace(\"athlete_1\", \"-\", \" \"))) \\\n",
    "                                       .withColumn(\"athlete_2\", upper(regexp_replace(\"athlete_2\", \"-\", \" \")))"
   ]
  },
  {
   "cell_type": "code",
   "execution_count": 11,
   "id": "3fc5daa2-f129-411e-a665-2affcabd1bf8",
   "metadata": {},
   "outputs": [],
   "source": [
    "# Définir les valeurs par défaut pour chaque type de colonne\n",
    "default_values = {\n",
    "    'medal_type': \"UNDEFINED\",\n",
    "    'athlete_full_name': \"UNDEFINED\",\n",
    "    'athlete_1': \"UNDEFINED\",\n",
    "    'athlete_2': \"UNDEFINED\",\n",
    "}\n",
    "\n",
    "# Remplacer les valeurs manquantes dans chaque colonne avec les valeurs par défaut\n",
    "for column, default_value in default_values.items():\n",
    "    results_cleaned_df = results_cleaned_df.withColumn(column, when(col(column).isNull(), default_value).otherwise(col(column)))"
   ]
  },
  {
   "cell_type": "code",
   "execution_count": 12,
   "id": "e737ddd4-99b5-4256-aa9f-21a02fe977b3",
   "metadata": {},
   "outputs": [],
   "source": [
    "# Remplacer les valeurs manquantes dans la colonne \"rank_equal\" par False\n",
    "results_cleaned_df = results_cleaned_df.fillna({'rank_equal': False})"
   ]
  },
  {
   "cell_type": "code",
   "execution_count": 13,
   "id": "628d4871-540f-450c-b972-c4d66bed2bd8",
   "metadata": {},
   "outputs": [],
   "source": [
    "# Calculer la médiane pour la colonne \"rank_position\"\n",
    "median_rank_position = results_cleaned_df.select(median('rank_position')).collect()[0][0]\n",
    "\n",
    "# Remplacer les valeurs manquantes dans la colonne \"rank_position\" par la médiane\n",
    "results_cleaned_df = results_cleaned_df.withColumn('rank_position', when(col('rank_position').isNull(), median_rank_position).otherwise(col('rank_position')))"
   ]
  },
  {
   "cell_type": "code",
   "execution_count": 14,
   "id": "4666cb65-b4c0-4145-8574-4797ee66f735",
   "metadata": {},
   "outputs": [
    {
     "name": "stdout",
     "output_type": "stream",
     "text": [
      "Cleaned data:\n",
      "+----------------+-------------+------------+----------------+----------+----------+-------------+-------------+-----------------+--------------------+------------------+\n",
      "|discipline_title|event_title  |slug_game   |participant_type|medal_type|rank_equal|rank_position|country_name |athlete_full_name|athlete_1           |athlete_2         |\n",
      "+----------------+-------------+------------+----------------+----------+----------+-------------+-------------+-----------------+--------------------+------------------+\n",
      "|Curling         |Mixed Doubles|beijing-2022|GameTeam        |GOLD      |False     |1            |Italy        |UNDEFINED        |STEFANIA CONSTANTINI|AMOS MOSANER      |\n",
      "|Curling         |Mixed Doubles|beijing-2022|GameTeam        |SILVER    |False     |2            |Norway       |UNDEFINED        |KRISTIN SKASLIEN    |MAGNUS NEDREGOTTEN|\n",
      "|Curling         |Mixed Doubles|beijing-2022|GameTeam        |BRONZE    |False     |3            |Sweden       |UNDEFINED        |ALMIDA DE VAL       |OSKAR ERIKSSON    |\n",
      "|Curling         |Mixed Doubles|beijing-2022|GameTeam        |UNDEFINED |False     |4            |Great Britain|UNDEFINED        |JENNIFER DODDS      |BRUCE MOUAT       |\n",
      "|Curling         |Mixed Doubles|beijing-2022|GameTeam        |UNDEFINED |False     |5            |Canada       |UNDEFINED        |RACHEL HOMAN        |JOHN MORRIS       |\n",
      "+----------------+-------------+------------+----------------+----------+----------+-------------+-------------+-----------------+--------------------+------------------+\n",
      "only showing top 5 rows\n",
      "\n"
     ]
    }
   ],
   "source": [
    "# Afficher les données nettoyées\n",
    "print(\"Cleaned data:\")\n",
    "results_cleaned_df.show(5, truncate=False)"
   ]
  },
  {
   "cell_type": "code",
   "execution_count": 15,
   "id": "9d85f758-fb4d-40eb-b224-6705d91e575b",
   "metadata": {},
   "outputs": [
    {
     "name": "stdout",
     "output_type": "stream",
     "text": [
      "Valeurs manquantes :\n",
      "discipline_title : 0\n",
      "event_title : 0\n",
      "slug_game : 0\n",
      "participant_type : 0\n",
      "medal_type : 0\n",
      "rank_equal : 0\n",
      "rank_position : 0\n",
      "country_name : 0\n",
      "athlete_full_name : 0\n",
      "athlete_1 : 0\n",
      "athlete_2 : 0\n"
     ]
    }
   ],
   "source": [
    "missing_values = [results_cleaned_df.where(col(c).isNull()).count() for c in results_cleaned_df.columns]\n",
    "\n",
    "# Créer un dictionnaire avec les colonnes et leurs nombres de valeurs nulles\n",
    "missing_values_dict = dict(zip(results_cleaned_df.columns, missing_values))\n",
    "\n",
    "# Afficher le résultat\n",
    "print(\"Valeurs manquantes :\")\n",
    "for col_name, missing_count in missing_values_dict.items():\n",
    "    print(col_name, \":\", missing_count)"
   ]
  },
  {
   "cell_type": "markdown",
   "id": "437cdae7",
   "metadata": {},
   "source": [
    "* Transfert des autres données propres 'results_cleaned_df' de 'olympic_results.csv'  dans Hdfs archive"
   ]
  },
  {
   "cell_type": "code",
   "execution_count": 17,
   "id": "824df639-e62b-42ff-b876-80b02a7e8ed7",
   "metadata": {},
   "outputs": [],
   "source": [
    "# Enregistrement des données traitées dans HDFS\n",
    "results_cleaned_df.write.mode(\"overwrite\").parquet(\"hdfs://namenode:9000/data/archive/cleaned_results\")"
   ]
  },
  {
   "cell_type": "code",
   "execution_count": 19,
   "id": "7118dea7-5290-4231-af51-eaed4bba524a",
   "metadata": {},
   "outputs": [],
   "source": [
    "jdbc_url = \"jdbc:postgresql://postgresql-olympicgames.alwaysdata.net:5432/olympicgames_db\"\n",
    "connection_properties = {\n",
    "    \"user\": \"olympicgames\",\n",
    "    \"password\": \"ipssi2024\",\n",
    "    \"driver\": \"org.postgresql.Driver\"\n",
    "}"
   ]
  },
  {
   "cell_type": "code",
   "execution_count": 20,
   "id": "16c4174d-cc08-4d83-bd1b-af470ce68432",
   "metadata": {},
   "outputs": [],
   "source": [
    "results_cleaned_df.write.jdbc(\n",
    "        url=jdbc_url,\n",
    "        table=\"results\",\n",
    "        mode=\"overwrite\", \n",
    "        properties=connection_properties\n",
    ")"
   ]
  },
  {
   "cell_type": "code",
   "execution_count": null,
   "id": "3fbb99cb-c408-4fa0-a37c-dfece777e214",
   "metadata": {},
   "outputs": [],
   "source": []
  }
 ],
 "metadata": {
  "kernelspec": {
   "display_name": "Python 3 (ipykernel)",
   "language": "python",
   "name": "python3"
  },
  "language_info": {
   "codemirror_mode": {
    "name": "ipython",
    "version": 3
   },
   "file_extension": ".py",
   "mimetype": "text/x-python",
   "name": "python",
   "nbconvert_exporter": "python",
   "pygments_lexer": "ipython3",
   "version": "3.11.6"
  }
 },
 "nbformat": 4,
 "nbformat_minor": 5
}
